{
 "cells": [
  {
   "cell_type": "code",
   "execution_count": null,
   "source": [
    "pip install virtualenvwrapper-win # we have to download a virtual environment wrapper\n",
    "mkvirtualenv test # create a envirionment test\n",
    "pip install django\n",
    "django-admin --version \n",
    "django-admin startproject BALAJI\n",
    "# Get into the project folder and run the manage.py file as\n",
    "python manage.py runserver\n",
    "    # (test) D:\\D\\GitHub\\Python\\django\\BALAJI>python manage.py runserver\n",
    "    # Watching for file changes with StatReloader\n",
    "    # Performing system checks...\n",
    "\n",
    "    # System check identified no issues (0 silenced).\n",
    "\n",
    "    # You have 18 unapplied migration(s). Your project may not work properly until you apply the migrations for app(s): admin, auth, contenttypes, sessions.\n",
    "    # Run 'python manage.py migrate' to apply them.\n",
    "    # August 07, 2021 - 17:58:26\n",
    "    # Django version 3.2.6, using settings 'BALAJI.settings'\n",
    "    # Starting development server at http://127.0.0.1:8000/\n",
    "    # Quit the server with CTRL-BREAK.\n",
    "\n",
    "\n",
    "\n"
   ],
   "outputs": [],
   "metadata": {}
  }
 ],
 "metadata": {
  "orig_nbformat": 4,
  "language_info": {
   "name": "python"
  }
 },
 "nbformat": 4,
 "nbformat_minor": 2
}