{
 "cells": [
  {
   "cell_type": "markdown",
   "source": [
    "# Django\r\n",
    "<hr>"
   ],
   "metadata": {}
  },
  {
   "cell_type": "markdown",
   "source": [
    "# important python comands for Django\r\n",
    "<b><font size='3'>\r\n",
    "pip install virtualevnwrapper-win\r\n",
    "\r\n",
    "mkvirtualenv [name of the new virtual evn]\r\n",
    "\r\n",
    "workon [name of the existing virtual evn] ____ or _____ .\\Scripts\\activate\r\n",
    "\r\n",
    "django-admin startproject [name of project] .\r\n",
    "\r\n",
    "python manage.py makemigrations\r\n",
    "\r\n",
    "python manage.py migrate"
   ],
   "metadata": {}
  },
  {
   "cell_type": "markdown",
   "source": [
    "# Virtual Environment setup\r\n",
    "<b><font size='3'>\r\n",
    "\r\n",
    "pip install virtualenvwrapper-win  (#we have to download a virtual environment wrapper)\r\n",
    "\r\n",
    "mkvirtualenv test       (#create a envirionment test)\r\n",
    "\r\n",
    "pip install django\r\n",
    "\r\n",
    "django-admin --version \r\n",
    "\r\n",
    "django-admin startproject BALAJI\r\n",
    "\r\n",
    "\r\n",
    "    <!-- \r\n",
    "    # Get into the project folder and run the manage.py file as\r\n",
    "    -->\r\n",
    "\r\n",
    "\r\n",
    "python manage.py runserver\r\n",
    "\r\n",
    "    <!-- # (test) D:\\D\\GitHub\\Python\\django\\BALAJI>python manage.py runserver\r\n",
    "    # Watching for file changes with StatReloader\r\n",
    "    # Performing system checks...\r\n",
    "    # System check identified no issues (0 silenced).\r\n",
    "    # You have 18 unapplied migration(s). Your project may not work properly until you apply the migrations for app(s): admin, auth, contenttypes, sessions.\r\n",
    "    # Run 'python manage.py migrate' to apply them.\r\n",
    "    # August 07, 2021 - 17:58:26\r\n",
    "    # Django version 3.2.6, using settings 'BALAJI.settings'\r\n",
    "    # Starting development server at http://127.0.0.1:8000/\r\n",
    "    # Quit the server with CTRL-BREAK. -->\r\n",
    "\r\n",
    "workon test #get into the virtual envirnment for django app deployment\r\n",
    "\r\n",
    "\r\n",
    "virtualenv . (#use this command to make the working directory a virtual) \r\n",
    "\r\n",
    "Scripts\\activate  (#to activate the virtual environment)\r\n",
    " \r\n",
    "pip freeze (#to look at all the libraries available for python)\r\n",
    "\r\n",
    "django-admin startproject TestDjango . (#to create a project with name TestDjango)\r\n",
    "\r\n",
    "\r\n",
    "python manage.py createsuperuser # To create an account for admin\r\n",
    "\r\n",
    "</font></b>"
   ],
   "metadata": {}
  },
  {
   "cell_type": "markdown",
   "source": [
    "create an app using the command\r\n",
    "\r\n",
    "python manage.py startapp [name of the app]\r\n",
    "\r\n",
    "    <!-- we have to add that created app to the list of apps in the Installed_apps list in settings.py of main app folder -->"
   ],
   "metadata": {}
  }
 ],
 "metadata": {
  "orig_nbformat": 4,
  "language_info": {
   "name": "python"
  }
 },
 "nbformat": 4,
 "nbformat_minor": 2
}