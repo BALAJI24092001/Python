{
 "cells": [
  {
   "cell_type": "markdown",
   "id": "901c104a",
   "metadata": {},
   "source": [
    "# PYTHON BASICS - ASSIGNMENT 5"
   ]
  },
  {
   "cell_type": "markdown",
   "id": "fc4e668e",
   "metadata": {},
   "source": [
    "#### 1. What does an empty dictionary's code look like?\n",
    "```\n",
    "Answer:\n",
    "\n",
    "An empty dictionary code looks like '{}'.\n",
    "An empty dictionary can be created using the below ways:\n",
    "1. dct = {}\n",
    "2. dct = dict()\n",
    "```"
   ]
  },
  {
   "cell_type": "code",
   "execution_count": null,
   "id": "09ccf3c1",
   "metadata": {},
   "outputs": [],
   "source": []
  },
  {
   "cell_type": "markdown",
   "id": "653f3f66",
   "metadata": {},
   "source": [
    "#### 2. What is the value of a dictionary value with the key 'foo'and the value 42?\n",
    "```\n",
    "Answer:\n",
    "\n",
    "Given a dictionary with a key and associated value 42. Then when a index 'foo' is used on the dictionary, the value assciated with that key is returned, which is 42. Therefore, the integer value 42 is returned.\n",
    "```"
   ]
  },
  {
   "cell_type": "code",
   "execution_count": null,
   "id": "affc8f7b",
   "metadata": {},
   "outputs": [],
   "source": []
  },
  {
   "cell_type": "markdown",
   "id": "34b1cf92",
   "metadata": {},
   "source": [
    "#### 3. What is the most significant distinction between a dictionary and a list?\n",
    "```\n",
    "Between a dictionary and a list, the main difference is the indexing. In list the indexes are numbers by default starts from 0 to one less than the length of the list, whereas a dictionary has it key are explicitly mentioned. A dictionary index can be a string, an integer, a float value.\n",
    "```"
   ]
  },
  {
   "cell_type": "code",
   "execution_count": null,
   "id": "946d2d4b",
   "metadata": {},
   "outputs": [],
   "source": []
  },
  {
   "cell_type": "markdown",
   "id": "eb6ac4ce",
   "metadata": {},
   "source": [
    "#### 4. What happens if you try to access spam['foo'] if spam is {'bar': 100}?\n",
    "```\n",
    "Answer:\n",
    "\n",
    "Given the spam dictionary has no key called 'foo', it returns a keyerror when the dictionary is called for the value at the key 'foo'.\n",
    "```"
   ]
  },
  {
   "cell_type": "code",
   "execution_count": null,
   "id": "cbd03e97",
   "metadata": {},
   "outputs": [],
   "source": []
  },
  {
   "cell_type": "markdown",
   "id": "ddbb86b4",
   "metadata": {},
   "source": [
    "#### 5. If a dictionary is stored in spam, what is the difference between the expressions 'cat' in spam and 'cat' in spam.keys()?\n",
    "```\n",
    "Answer:\n",
    "\n",
    "In the expression 'cat' in spam, the expression returns True if there is a key called 'cat' available in the dictionary spam, where as in the expression 'cat' in spam.keys() it returns True if there is a value called 'cat' in the list spam.key(). spam.keys() is a list of all the keys in the dictionary spam. \n",
    "```"
   ]
  },
  {
   "cell_type": "code",
   "execution_count": null,
   "id": "59bf5df0",
   "metadata": {},
   "outputs": [],
   "source": []
  },
  {
   "cell_type": "markdown",
   "id": "52b66ed1",
   "metadata": {},
   "source": [
    "#### 6. If a dictionary is stored in spam, what is the difference between the expressions \"cat\" in spam and \"cat\" in spam.values()?\n",
    "```\n",
    "Answer:\n",
    "\n",
    "\"cat\" in spam returns a boolean value, based on whether there is a key called \"cat\" in the dictionary spam. \"cat\" in spam.values() returns a boolean value, if there is a value \"cat\" in the list, it returns true, else false.\n",
    "```"
   ]
  },
  {
   "cell_type": "code",
   "execution_count": null,
   "id": "5ea4448c",
   "metadata": {},
   "outputs": [],
   "source": []
  },
  {
   "cell_type": "markdown",
   "id": "45f6e466",
   "metadata": {},
   "source": [
    "#### 7. What is a shortcut for the following code?\n",
    "```\n",
    "if \"color\" not in spam:\n",
    "spam[\"color\"] = \"black\"\n",
    "\n",
    "Answer:\n",
    "\n",
    "spam.setdefault('color', 'black')\n",
    "\n",
    "If there is no value associated to the key 'color', the value for the key will be set with the given value. If there is already a value associated with that key, the given value wont be updated to the dictionary.\n",
    "```"
   ]
  },
  {
   "cell_type": "code",
   "execution_count": null,
   "id": "6e3b66bd",
   "metadata": {},
   "outputs": [],
   "source": []
  },
  {
   "cell_type": "markdown",
   "id": "a3ac3fc3",
   "metadata": {},
   "source": [
    "#### 8. How do you &quot;pretty print&quot; dictionary values using which module and function?\n",
    "```\n",
    "Answer:\n",
    "\n",
    "We pretty print a dictionary using the module pprint and using the function pprint or pformat.\n",
    "```"
   ]
  },
  {
   "cell_type": "code",
   "execution_count": 8,
   "id": "e69101b8",
   "metadata": {},
   "outputs": [
    {
     "name": "stdout",
     "output_type": "stream",
     "text": [
      "{'Age': 21, 'Day': 24, 'Month': 9, 'Name': 'Balaji', 'Year': 2001}\n"
     ]
    }
   ],
   "source": [
    "import pprint\n",
    "dct = {\"Name\": \"Balaji\", \"Age\": 21, \"Year\": 2001, \"Month\": 9, \"Day\": 24}\n",
    "pprint.pprint(dct)"
   ]
  },
  {
   "cell_type": "code",
   "execution_count": null,
   "id": "6774fa9b",
   "metadata": {},
   "outputs": [],
   "source": []
  }
 ],
 "metadata": {
  "kernelspec": {
   "display_name": "Python 3 (ipykernel)",
   "language": "python",
   "name": "python3"
  },
  "language_info": {
   "codemirror_mode": {
    "name": "ipython",
    "version": 3
   },
   "file_extension": ".py",
   "mimetype": "text/x-python",
   "name": "python",
   "nbconvert_exporter": "python",
   "pygments_lexer": "ipython3",
   "version": "3.10.6"
  }
 },
 "nbformat": 4,
 "nbformat_minor": 5
}
