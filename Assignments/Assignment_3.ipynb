{
 "cells": [
  {
   "cell_type": "markdown",
   "id": "841b04fc-aae2-40d5-95ac-6377de9b2294",
   "metadata": {},
   "source": [
    "# PYTHON BASICS - ASSIGNMENT 3"
   ]
  },
  {
   "cell_type": "markdown",
   "id": "8f01dfe4-2d38-4780-9e50-78311ecc0f09",
   "metadata": {},
   "source": [
    "#### 1. Why are functions advantageous to have in your programs?\n",
    "```\n",
    "Answer: \n",
    "\n",
    "Functions are a piece of code grouped together to reduce copies of same code all over the program and to increase reusability of the code. It make the program more cleaner, readable, simple, and efficient. Through function most commonly used code blocks can be used anywhere in the program, even in other programs, functions can be imported and used.\n",
    "```"
   ]
  },
  {
   "cell_type": "code",
   "execution_count": null,
   "id": "748e4e85-729b-4be9-8048-584d156d8386",
   "metadata": {},
   "outputs": [],
   "source": []
  },
  {
   "cell_type": "markdown",
   "id": "e7abb939-9ae0-4a92-aa49-700778d2da45",
   "metadata": {},
   "source": [
    "#### 2. When does the code in a function run: when it's specified or when it's called?\n",
    "```\n",
    "Answer:\n",
    "\n",
    "The code in a function runs when it is called using the round braces anywhere after the function is defined.\n",
    "\n",
    "Example:\n",
    "def func():\n",
    "    pass\n",
    "    \n",
    "func();\n",
    "```"
   ]
  },
  {
   "cell_type": "code",
   "execution_count": null,
   "id": "7b177bc4-89ef-4c17-afb6-3a3d7bab2ac9",
   "metadata": {},
   "outputs": [],
   "source": []
  },
  {
   "cell_type": "markdown",
   "id": "8908e892-58b6-4a4b-8e95-6edfc99ac7b3",
   "metadata": {},
   "source": [
    "#### 3. What statement creates a function?\n",
    "```\n",
    "Answer:\n",
    "\n",
    "def is the statement used to create a function in python. The keyword def followed by a name for the function and round braces to put function input.\n",
    "\n",
    "Example:\n",
    "def func():\n",
    "    pass\n",
    "```"
   ]
  },
  {
   "cell_type": "code",
   "execution_count": null,
   "id": "6ccfb06d-48ab-4a0b-b52e-3b3340fb7ad0",
   "metadata": {},
   "outputs": [],
   "source": []
  },
  {
   "cell_type": "markdown",
   "id": "16f6bf69-5255-4338-ba38-9ffac1cfcd9d",
   "metadata": {},
   "source": [
    "#### 4. What is the difference between a function and a function call?\n",
    "```\n",
    "A function is a block of code assigned with a name which takes no parametes and not returns any value, it's mearly a blueprint for what action to perform. Whereas function call is the execution of that block of code taking some parameters and returning a value.\n",
    "```"
   ]
  },
  {
   "cell_type": "code",
   "execution_count": null,
   "id": "43cafc2a-c8cc-46ed-9601-4072f8a051ec",
   "metadata": {},
   "outputs": [],
   "source": []
  },
  {
   "cell_type": "markdown",
   "id": "0ad27ac0-eac4-498c-8fa7-6df71b3fc2e6",
   "metadata": {},
   "source": [
    "#### 5. How many global scopes are there in a Python program? How many local scopes?\n",
    "```\n",
    "Answer:\n",
    "\n",
    "There is only one global scope in python, and remains same till the end of program. Local scope is the scope of a variable inside a function definition. The number of local scopes depending upon the number of functions defined, and number of functions defined inside a function. Based on that number of local scopes vary.\n",
    "```"
   ]
  },
  {
   "cell_type": "code",
   "execution_count": null,
   "id": "c5458cbd-2498-44c2-85e7-bd3c495646d5",
   "metadata": {},
   "outputs": [],
   "source": []
  },
  {
   "cell_type": "markdown",
   "id": "1b698c17-a71e-4443-953b-9c7240a7902c",
   "metadata": {},
   "source": [
    "#### 6. What happens to variables in a local scope when the function call returns?\n",
    "```\n",
    "Answer:\n",
    "\n",
    "When the function call is returned all the local variables are cleared out of memory releasing space. After the function returns, there is no use of the variable inside the function(variable with local scope), since the variables cannot be accessed through out the program, the variables are destroyed.\n",
    "```"
   ]
  },
  {
   "cell_type": "code",
   "execution_count": null,
   "id": "a4ef9d0f-29b9-494d-97e1-02a32666322c",
   "metadata": {},
   "outputs": [],
   "source": []
  },
  {
   "cell_type": "markdown",
   "id": "6a88f7d9-688a-4b90-a515-a66c24a6122a",
   "metadata": {},
   "source": [
    "#### 7. What is the concept of a return value? Is it possible to have a return value in an expression?\n",
    "```\n",
    "Answer:\n",
    "\n",
    "The return value is the byproduct of execution of certain process in the program. In functions, the code inside the function is executed and a value is returned(return value can be anything, somethinges even nothing). An expression is a combination of operators and operands, together performing an operation and yields a value, that is retured to the program to be stored an variable. The retured value need not be to stored in a variable, sometimes, the value is directly used in other functions to get the result.\n",
    "\n",
    "Example:\n",
    "\n",
    "print(5*3+5-8)\n",
    "```"
   ]
  },
  {
   "cell_type": "code",
   "execution_count": null,
   "id": "6e4c5b5a-b1aa-4909-96b9-fd81175a9ce7",
   "metadata": {},
   "outputs": [],
   "source": []
  },
  {
   "cell_type": "markdown",
   "id": "1b64a2b6-4d15-4069-8bd9-e5bbe66efb82",
   "metadata": {},
   "source": [
    "#### 8. If a function does not have a return statement, what is the return value of a call to that function?\n",
    "```\n",
    "Answer:\n",
    "\n",
    "If a function does not have a return statement, it's return value for a call is a NoneType.\n",
    "```"
   ]
  },
  {
   "cell_type": "code",
   "execution_count": 1,
   "id": "71ce6009-a3a4-44fd-97a9-766ce327d09c",
   "metadata": {},
   "outputs": [
    {
     "name": "stdout",
     "output_type": "stream",
     "text": [
      "<class 'NoneType'>\n"
     ]
    }
   ],
   "source": [
    "def test():\n",
    "    pass\n",
    "print(type(test()))"
   ]
  },
  {
   "cell_type": "code",
   "execution_count": null,
   "id": "483d710c-9a95-4f9a-81e0-3a373650ec30",
   "metadata": {},
   "outputs": [],
   "source": [
    " "
   ]
  },
  {
   "cell_type": "markdown",
   "id": "66980546-0a98-48a9-b053-8a71ba71b4b0",
   "metadata": {},
   "source": [
    "#### 9. How do you make a function variable refer to the global variable?\n",
    "```\n",
    "Answer:\n",
    "\n",
    "In function if we want to use the global variable, we can directly use the variable name to do the operations, but if we want to change the value of the global variable, the global variable must be declared as global inside the funtion to make changes to the main varaible, else the local instance of the global variable is created and used, so there is no effect on the global variable incase of change in value.\n",
    "```"
   ]
  },
  {
   "cell_type": "code",
   "execution_count": 6,
   "id": "719aed0f-959e-4efc-8f5b-8f1672d0bf13",
   "metadata": {},
   "outputs": [
    {
     "name": "stdout",
     "output_type": "stream",
     "text": [
      "6\n",
      "5\n",
      "8\n",
      "8\n"
     ]
    }
   ],
   "source": [
    "tst = 5     # global variable\n",
    "def test():\n",
    "    tst = 6 # local instance of global variable\n",
    "    print(tst) \n",
    "test()      # prints 6, then the local instance is cleared out of memory\n",
    "print(tst)  # prints 5, the value of the global variable\n",
    "\n",
    "def testing():\n",
    "    global tst # declared global inside a function, gives the varible global scope\n",
    "    tst = 8    # change happens in global variable\n",
    "    print(tst)\n",
    "    \n",
    "    \n",
    "# Both will print 8\n",
    "testing()   # 8\n",
    "print(tst)  # 8"
   ]
  },
  {
   "cell_type": "code",
   "execution_count": null,
   "id": "95ef6b4b-e03f-46ce-8593-6f698586204d",
   "metadata": {},
   "outputs": [],
   "source": []
  },
  {
   "cell_type": "markdown",
   "id": "dbae564e-8276-4646-bba2-d05ab8669754",
   "metadata": {},
   "source": [
    "#### 10. What is the data type of None?\n",
    "```\n",
    "The datatype of None is NoneType.\n",
    "```"
   ]
  },
  {
   "cell_type": "code",
   "execution_count": 10,
   "id": "4fab9bf0-857d-4e93-a8d0-2ee13f2bc09b",
   "metadata": {},
   "outputs": [
    {
     "data": {
      "text/plain": [
       "NoneType"
      ]
     },
     "execution_count": 10,
     "metadata": {},
     "output_type": "execute_result"
    }
   ],
   "source": [
    "nonetype = None\n",
    "type(nonetype)"
   ]
  },
  {
   "cell_type": "code",
   "execution_count": null,
   "id": "fb61d4ec-2195-4dfb-87c5-cc1700516ba5",
   "metadata": {},
   "outputs": [],
   "source": []
  },
  {
   "cell_type": "markdown",
   "id": "73fe5151-3f09-4905-aefd-b802bbeda142",
   "metadata": {},
   "source": [
    "#### 11. What does the sentence import areallyourpetsnamederic do?\n",
    "```\n",
    "The sentence \n",
    "import areallyourpetsnamederic\n",
    "will import all the functions and variables which are public inside the package mentioned. If the package is not available, it returns an error indicating there is no such package and need to be installed into the system.\n",
    "```"
   ]
  },
  {
   "cell_type": "code",
   "execution_count": 11,
   "id": "e539285a-3432-4676-bc21-41280f214407",
   "metadata": {},
   "outputs": [
    {
     "ename": "ModuleNotFoundError",
     "evalue": "No module named 'areallyourpetsnamederic'",
     "output_type": "error",
     "traceback": [
      "\u001b[0;31m---------------------------------------------------------------------------\u001b[0m",
      "\u001b[0;31mModuleNotFoundError\u001b[0m                       Traceback (most recent call last)",
      "Input \u001b[0;32mIn [11]\u001b[0m, in \u001b[0;36m<cell line: 1>\u001b[0;34m()\u001b[0m\n\u001b[0;32m----> 1\u001b[0m \u001b[38;5;28;01mimport\u001b[39;00m \u001b[38;5;21;01mareallyourpetsnamederic\u001b[39;00m\n",
      "\u001b[0;31mModuleNotFoundError\u001b[0m: No module named 'areallyourpetsnamederic'"
     ]
    }
   ],
   "source": [
    "import areallyourpetsnamederic"
   ]
  },
  {
   "cell_type": "code",
   "execution_count": null,
   "id": "1a8689f1-a5ee-4a33-b516-d8ddba076d01",
   "metadata": {},
   "outputs": [],
   "source": []
  },
  {
   "cell_type": "markdown",
   "id": "f3d2ae96-a59e-481d-8473-c4b57c964354",
   "metadata": {},
   "source": [
    "#### 12. If you had a bacon() feature in a spam module, what would you call it after importing spam?\n",
    "```\n",
    "Answer:\n",
    "\n",
    "After the import statement \n",
    "import spam\n",
    "we use the package name to call the bacon() function shown as below.\n",
    "\n",
    "spam.bacon();\n",
    "```"
   ]
  },
  {
   "cell_type": "code",
   "execution_count": null,
   "id": "16e953d6-302e-4a82-a07a-c3f1ac70f1c4",
   "metadata": {},
   "outputs": [],
   "source": []
  },
  {
   "cell_type": "markdown",
   "id": "9f85c97a-ec05-4adf-b939-6c6e214b0636",
   "metadata": {},
   "source": [
    "#### 13. What can you do to save a programme from crashing if it encounters an error?\n",
    "```\n",
    "Answer:\n",
    "\n",
    "Exception handling is used to stop the program from crashing when it encounters an error. In exception handling, the code that is expected to have the error is moved to the try block, where if an error occurs, the execution is thrown to the except block, stoping the program from crashing.\n",
    "```"
   ]
  },
  {
   "cell_type": "code",
   "execution_count": null,
   "id": "457e7a5c-d7d0-4099-aea5-a9ec08225c0d",
   "metadata": {},
   "outputs": [],
   "source": []
  },
  {
   "cell_type": "markdown",
   "id": "373a12b0-0e36-411f-83c1-4c1a9729ff25",
   "metadata": {},
   "source": [
    "#### 14. What is the purpose of the try clause? What is the purpose of the except clause?\n",
    "```\n",
    "Answer:\n",
    "\n",
    "The try clause contains the code that may contain the error, which runs just like the normal program, but incase of error thrown by the code inside the try clause, instead of crashing the program, the program execution is thrown to the appropriate except block, which will run it's code and continue execution. The try block contains the code that may throw an exception, the except block contains the code that needs to be done, when the excpetion occurs.\n",
    "```"
   ]
  },
  {
   "cell_type": "code",
   "execution_count": null,
   "id": "7e0fd3c2-b1d6-4325-8077-cfbf3de7f00d",
   "metadata": {},
   "outputs": [],
   "source": []
  }
 ],
 "metadata": {
  "kernelspec": {
   "display_name": "Python 3 (ipykernel)",
   "language": "python",
   "name": "python3"
  },
  "language_info": {
   "codemirror_mode": {
    "name": "ipython",
    "version": 3
   },
   "file_extension": ".py",
   "mimetype": "text/x-python",
   "name": "python",
   "nbconvert_exporter": "python",
   "pygments_lexer": "ipython3",
   "version": "3.10.6"
  }
 },
 "nbformat": 4,
 "nbformat_minor": 5
}
