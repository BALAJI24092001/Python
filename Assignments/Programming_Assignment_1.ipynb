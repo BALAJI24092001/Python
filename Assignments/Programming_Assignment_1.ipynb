{
 "cells": [
  {
   "cell_type": "markdown",
   "id": "cf487e70-c909-4038-a8f6-d4bf49f7f609",
   "metadata": {},
   "source": [
    "# PYTHON BASICS - PROGRAMMING ASSIGNMENT 1"
   ]
  },
  {
   "cell_type": "code",
   "execution_count": 8,
   "id": "8453e306-6221-4d94-8980-1ae5eb0b53d6",
   "metadata": {},
   "outputs": [
    {
     "name": "stdout",
     "output_type": "stream",
     "text": [
      "Hello Python\n"
     ]
    }
   ],
   "source": [
    "# 1. Write a Python program to print 'Hello Python'?\n",
    "\n",
    "print('Hello Python');"
   ]
  },
  {
   "cell_type": "code",
   "execution_count": 9,
   "id": "9b203e8a-7c33-409b-ac8f-941342a693cf",
   "metadata": {},
   "outputs": [
    {
     "name": "stdin",
     "output_type": "stream",
     "text": [
      "Enter a number :  4\n",
      "Enter a number :  2\n"
     ]
    },
    {
     "name": "stdout",
     "output_type": "stream",
     "text": [
      "Addition of the given two numbers is : 6\n",
      "Division of the given two nunbers is : 2.0\n"
     ]
    }
   ],
   "source": [
    "# 2. Write a Python program to do arithmetical operations addition and division.?\n",
    "num1 = int(input(\"Enter a number : \"))\n",
    "num2 = int(input(\"Enter a number : \"))\n",
    "print(f\"Addition of the given two numbers is : { num1 + num2 }\")\n",
    "print(f\"Division of the given two nunbers is : { num1 / num2 }\")"
   ]
  },
  {
   "cell_type": "code",
   "execution_count": 10,
   "id": "b892cff4-00fd-4c43-b265-0a345b5db73f",
   "metadata": {},
   "outputs": [
    {
     "name": "stdin",
     "output_type": "stream",
     "text": [
      "Enter base value :  4\n",
      "Enter height value :  4\n"
     ]
    },
    {
     "name": "stdout",
     "output_type": "stream",
     "text": [
      "Area of the right angle triangle with base(4) and height(4) is : 8.0\n"
     ]
    }
   ],
   "source": [
    "# 3. Write a Python program to find the area of a triangle?\n",
    "\n",
    "# assuming a right angle trianle\n",
    "base = int(input(\"Enter base value : \"))\n",
    "height = int(input(\"Enter height value : \"))\n",
    "print(f\"Area of the right angle triangle with base({base}) and height({height}) is : {0.5*base*height}\")"
   ]
  },
  {
   "cell_type": "code",
   "execution_count": 11,
   "id": "8214f99d-2543-4745-aafc-072f0869db31",
   "metadata": {},
   "outputs": [
    {
     "name": "stdout",
     "output_type": "stream",
     "text": [
      "before swapping\n",
      "5\n",
      "6\n",
      "after swapping\n",
      "6\n",
      "5\n"
     ]
    }
   ],
   "source": [
    "# 4. Write a Python program to swap two variables?\n",
    "a = 5\n",
    "b = 6\n",
    "print(\"before swapping\")\n",
    "print(a)\n",
    "print(b)\n",
    "\n",
    "print(\"after swapping\")\n",
    "a, b = b, a\n",
    "print(a)\n",
    "print(b)"
   ]
  },
  {
   "cell_type": "code",
   "execution_count": 12,
   "id": "b8df86d2-05a6-4237-a5e3-9ed292ba0084",
   "metadata": {},
   "outputs": [
    {
     "data": {
      "text/plain": [
       "17"
      ]
     },
     "execution_count": 12,
     "metadata": {},
     "output_type": "execute_result"
    }
   ],
   "source": [
    "# 5. Write a Python program to generate a random number?\n",
    "\n",
    "import random\n",
    "random.randint(1, 100)"
   ]
  }
 ],
 "metadata": {
  "kernelspec": {
   "display_name": "Python 3 (ipykernel)",
   "language": "python",
   "name": "python3"
  },
  "language_info": {
   "codemirror_mode": {
    "name": "ipython",
    "version": 3
   },
   "file_extension": ".py",
   "mimetype": "text/x-python",
   "name": "python",
   "nbconvert_exporter": "python",
   "pygments_lexer": "ipython3",
   "version": "3.10.6"
  }
 },
 "nbformat": 4,
 "nbformat_minor": 5
}
