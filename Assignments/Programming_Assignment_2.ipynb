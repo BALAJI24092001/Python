{
 "cells": [
  {
   "cell_type": "markdown",
   "id": "b9dc787a-b6eb-4ddb-94c0-d1defabf2b41",
   "metadata": {},
   "source": [
    "# PYTHON BASICS - PROGRAMMING ASSIGNMENT 2"
   ]
  },
  {
   "cell_type": "code",
   "execution_count": 4,
   "id": "3416eb5a-e459-49b1-8675-d55b4b5026f2",
   "metadata": {},
   "outputs": [
    {
     "name": "stdin",
     "output_type": "stream",
     "text": [
      "Enter number of kilometers :  10\n"
     ]
    },
    {
     "name": "stdout",
     "output_type": "stream",
     "text": [
      "Number of miles : 6.21371\n"
     ]
    }
   ],
   "source": [
    "# 1. Write a Python program to convert kilometers to miles?\n",
    "kilo = int(input(\"Enter number of kilometers : \"))\n",
    "print(f\"Number of miles : { kilo*0.621371 }\")"
   ]
  },
  {
   "cell_type": "code",
   "execution_count": 5,
   "id": "8fa9fce2-a805-4b98-81ca-b67edef492a6",
   "metadata": {},
   "outputs": [
    {
     "name": "stdin",
     "output_type": "stream",
     "text": [
      "Enter temperature in celsius :  10\n"
     ]
    },
    {
     "name": "stdout",
     "output_type": "stream",
     "text": [
      "Temperature in fahrenheit is : 50.0\n"
     ]
    }
   ],
   "source": [
    "# 2. Write a Python program to convert Celsius to Fahrenheit?\n",
    "celsius = int(input(\"Enter temperature in celsius : \"))\n",
    "print(f\"Temperature in fahrenheit is : { (celsius*9/5) + 32 }\")"
   ]
  },
  {
   "cell_type": "code",
   "execution_count": 10,
   "id": "2772501f-5f53-4757-912a-3202156c64e7",
   "metadata": {},
   "outputs": [
    {
     "name": "stdin",
     "output_type": "stream",
     "text": [
      "Enter a year :  2022\n",
      "Enter a month :  9\n"
     ]
    },
    {
     "name": "stdout",
     "output_type": "stream",
     "text": [
      "\n",
      "   September 2022\n",
      "Mo Tu We Th Fr Sa Su\n",
      "          1  2  3  4\n",
      " 5  6  7  8  9 10 11\n",
      "12 13 14 15 16 17 18\n",
      "19 20 21 22 23 24 25\n",
      "26 27 28 29 30\n",
      "\n"
     ]
    }
   ],
   "source": [
    "# 3. Write a Python program to display calendar?\n",
    "import calendar\n",
    "\n",
    "year = int(input(\"Enter a year : \"))\n",
    "month = int(input(\"Enter a month : \"))\n",
    "print()\n",
    "print(calendar.month(year, month))"
   ]
  },
  {
   "cell_type": "code",
   "execution_count": 16,
   "id": "6ab9ccca-3768-43bc-aeba-598a24667a7e",
   "metadata": {},
   "outputs": [
    {
     "name": "stdout",
     "output_type": "stream",
     "text": [
      "consider this as the quadratic equation, ax²+bx+c\n"
     ]
    },
    {
     "name": "stdin",
     "output_type": "stream",
     "text": [
      "Enter value of a :  6\n",
      "Enter value of b :  11\n",
      "Enter value of c :  -35\n"
     ]
    },
    {
     "name": "stdout",
     "output_type": "stream",
     "text": [
      "The roots of the equation are : \n",
      "1.6666666666666667\n",
      "-3.5\n"
     ]
    }
   ],
   "source": [
    "# 4. Write a Python program to solve quadratic equation?\n",
    "import math\n",
    "print(\"consider this as the quadratic equation, ax²+bx+c\");\n",
    "a = int(input(\"Enter value of a : \"))\n",
    "b = int(input(\"Enter value of b : \"))\n",
    "c = int(input(\"Enter value of c : \"))\n",
    "det = (b**2)-(4*a*c)\n",
    "print(\"The roots of the equation are : \")\n",
    "if(det < 0):\n",
    "    print(f\"(-{b}+root({det}))/{2*a}\")\n",
    "    print(f\"(-{b}-root({det}))/{2*a}\")\n",
    "else:\n",
    "    print((-b+math.sqrt(det))/(2*a))\n",
    "    print((-b-math.sqrt(det))/(2*a))"
   ]
  },
  {
   "cell_type": "code",
   "execution_count": 19,
   "id": "9f83beba-61b0-49eb-a698-de3f3ee2831d",
   "metadata": {},
   "outputs": [
    {
     "name": "stdout",
     "output_type": "stream",
     "text": [
      "2 1\n"
     ]
    }
   ],
   "source": [
    "# 5. Write a Python program to swap two variables without temp variable?\n",
    "val1 = 1\n",
    "val2 = 2\n",
    "# swapping without temp variable\n",
    "val1, val2 = val2, val1\n",
    "print(val1, val2)"
   ]
  }
 ],
 "metadata": {
  "kernelspec": {
   "display_name": "Python 3 (ipykernel)",
   "language": "python",
   "name": "python3"
  },
  "language_info": {
   "codemirror_mode": {
    "name": "ipython",
    "version": 3
   },
   "file_extension": ".py",
   "mimetype": "text/x-python",
   "name": "python",
   "nbconvert_exporter": "python",
   "pygments_lexer": "ipython3",
   "version": "3.10.6"
  }
 },
 "nbformat": 4,
 "nbformat_minor": 5
}
