{
 "cells": [
  {
   "cell_type": "markdown",
   "id": "da643b38-cca6-490c-9964-547403cdce44",
   "metadata": {},
   "source": [
    "# PYTHON BASICS - ASSIGNMENT 6"
   ]
  },
  {
   "cell_type": "markdown",
   "id": "a31e44d1-deca-4f67-a29c-19a7e8aa14df",
   "metadata": {},
   "source": [
    "#### 1. What are escape characters, and how do you use them?\n",
    "```\n",
    "Answer: \n",
    "\n",
    "A backslash is considered as an escape character, used to make a valid string out of illegal character insertions. Some use of the escape characters are \n",
    "1. \\n - new line\n",
    "2. \\t - tab space\n",
    "3. \\\\ - backslach\n",
    "4. \\' - single quote\n",
    "5. \\\" - double quote\n",
    "\n",
    "In a string bounded with single quotes, using double quotes make the totoal string un-valid. Instead, using the escape character make the string valid.\n",
    "```"
   ]
  },
  {
   "cell_type": "code",
   "execution_count": null,
   "id": "c361f4aa-5432-44b8-aa25-6197354239c7",
   "metadata": {},
   "outputs": [],
   "source": []
  },
  {
   "cell_type": "markdown",
   "id": "b90dc97f-83f5-4557-95e8-5e2828540350",
   "metadata": {},
   "source": [
    "#### 2. What do the escape characters n and t stand for?\n",
    "```\n",
    "Answer:\n",
    "\n",
    "The escape characters n and t stand for \n",
    "1. n - new line\n",
    "2. t - tab space\n",
    "```"
   ]
  },
  {
   "cell_type": "code",
   "execution_count": null,
   "id": "f3714273-6959-44a2-a43d-07f400c881ca",
   "metadata": {},
   "outputs": [],
   "source": []
  },
  {
   "cell_type": "markdown",
   "id": "d1c86f8e-44bd-41b4-b41b-28732c099634",
   "metadata": {},
   "source": [
    "#### 3. What is the way to include backslash characters in a string?\n",
    "```\n",
    "Answer:\n",
    "\n",
    "Using a backslach character is invalid in python strings. Insted to insert a backslash in a string, we can use double backslash.\n",
    "\n",
    "Example: \n",
    "print(\"Hey \\\\there!\\\\\");\n",
    "```"
   ]
  },
  {
   "cell_type": "code",
   "execution_count": 1,
   "id": "ffc23911-69bc-423d-9593-c5c2e78b81d2",
   "metadata": {},
   "outputs": [
    {
     "name": "stdout",
     "output_type": "stream",
     "text": [
      "Hey \\there!\\\n"
     ]
    }
   ],
   "source": [
    "print(\"Hey \\\\there!\\\\\");\n"
   ]
  },
  {
   "cell_type": "code",
   "execution_count": null,
   "id": "ac36c6b6-1f4f-4269-853a-efdc19a75a30",
   "metadata": {},
   "outputs": [],
   "source": []
  },
  {
   "cell_type": "markdown",
   "id": "770182d1-e0b8-4ead-9922-523b73359fd8",
   "metadata": {},
   "source": [
    "#### 4. The string &quot;Howl&#39;s Moving Castle&quot; is a correct value. Why isn&#39;t the single quote character in the word Howl&#39;s not escaped a problem?\n",
    "```\n",
    "Answer:\n",
    "\n",
    "The string \"Howl's Moving Castle\" is made with the dobule quotes, so there is problem in using a single quote in string. Whereas if we are using a string with single quotes, then we need to use the escape character to use a single quote in the string.\n",
    "```"
   ]
  },
  {
   "cell_type": "code",
   "execution_count": null,
   "id": "9fe43a1e",
   "metadata": {},
   "outputs": [],
   "source": []
  },
  {
   "cell_type": "markdown",
   "id": "32f58ac5",
   "metadata": {},
   "source": [
    "#### 5. How do you write a string of newlines if you don&#39;t want to use the n character?\n",
    "\n",
    "```\n",
    "Answer:\n",
    "\n",
    "Using docstring we can write a string without using newline escape character in string:\n",
    "Example:\n",
    "variable = '''\n",
    "I'm using\n",
    "docstrings to write\n",
    "string with newlines\n",
    "without using the\n",
    "escape character.\n",
    "'''\n",
    "```"
   ]
  },
  {
   "cell_type": "code",
   "execution_count": null,
   "id": "a651477e",
   "metadata": {},
   "outputs": [],
   "source": []
  },
  {
   "cell_type": "markdown",
   "id": "6339523a",
   "metadata": {},
   "source": [
    "#### 6. What are the values of the given expressions?\n",
    "```\n",
    "\"Hello, world!\"[1]\n",
    "\"Hello, world!\"[0:5]\n",
    "\"Hello, world!\"[:5]\n",
    "\"Hello, world!\"[3:]\n",
    "\n",
    "Answer:\n",
    " \n",
    "The number specified in the square braces specifies number of character to be returned. The value in the braces can be of differnt forms, it can a number like 1, which specifies a single position. It can be a range 0:5, which specifies a sequence of numbers, that specifies the position of values to return. \":5\" gives numbers from the beginning to the the number specifed and \"3:\" specifies the characters from 3rd position to the end of the string.\n",
    "```"
   ]
  },
  {
   "cell_type": "code",
   "execution_count": 2,
   "id": "b789753b",
   "metadata": {},
   "outputs": [
    {
     "data": {
      "text/plain": [
       "'e'"
      ]
     },
     "execution_count": 2,
     "metadata": {},
     "output_type": "execute_result"
    }
   ],
   "source": [
    "\"Hello, world!\"[1]"
   ]
  },
  {
   "cell_type": "code",
   "execution_count": 3,
   "id": "e902c240",
   "metadata": {},
   "outputs": [
    {
     "data": {
      "text/plain": [
       "'Hello'"
      ]
     },
     "execution_count": 3,
     "metadata": {},
     "output_type": "execute_result"
    }
   ],
   "source": [
    "\"Hello, world!\"[0:5]"
   ]
  },
  {
   "cell_type": "code",
   "execution_count": 4,
   "id": "dcd535d9",
   "metadata": {},
   "outputs": [
    {
     "data": {
      "text/plain": [
       "'Hello'"
      ]
     },
     "execution_count": 4,
     "metadata": {},
     "output_type": "execute_result"
    }
   ],
   "source": [
    "\"Hello, world!\"[:5]"
   ]
  },
  {
   "cell_type": "code",
   "execution_count": 5,
   "id": "d7d9947c",
   "metadata": {},
   "outputs": [
    {
     "data": {
      "text/plain": [
       "'lo, world!'"
      ]
     },
     "execution_count": 5,
     "metadata": {},
     "output_type": "execute_result"
    }
   ],
   "source": [
    "\"Hello, world!\"[3:]"
   ]
  },
  {
   "cell_type": "code",
   "execution_count": null,
   "id": "49282311",
   "metadata": {},
   "outputs": [],
   "source": []
  },
  {
   "cell_type": "markdown",
   "id": "788a50bb",
   "metadata": {},
   "source": [
    "#### 7. What are the values of the following expressions?\n",
    "```\n",
    "\"Hello\".upper()\n",
    "\"Hello\".upper().isupper()\n",
    "\"Hello\".upper().lower()\n",
    "\n",
    "Answer:\n",
    "\n",
    "The function \n",
    "upper() converts all the given characters in the string to upper case.\n",
    "lower() converst all the given characters in the string to lower case.\n",
    "isupper() returns a boolean value as True if all the characters in a string are in upper case else returns False.\n",
    "```"
   ]
  },
  {
   "cell_type": "code",
   "execution_count": null,
   "id": "6e41422b",
   "metadata": {},
   "outputs": [],
   "source": []
  },
  {
   "cell_type": "markdown",
   "id": "eaf8a325",
   "metadata": {},
   "source": [
    "#### 8. What are the values of the following expressions?\n",
    "```\n",
    "\"Remember, remember, the fifth of July.\".split()\n",
    "\"-\".join(\"There can only one.\".split())\n",
    "\n",
    "Answer:\n",
    "\n",
    "The funcion 'split()' returns a list by splitting the given string into strings with delimeter as \" \" i.e. a single space character, if any other delimeter is specified, it will return a string based on that delimeter. The join function is use to join a list of charcters with a joining character.\n",
    "```"
   ]
  },
  {
   "cell_type": "code",
   "execution_count": 11,
   "id": "8cf95570",
   "metadata": {},
   "outputs": [
    {
     "data": {
      "text/plain": [
       "['Remember,', 'remember,', 'the', 'fifth', 'of', 'July.']"
      ]
     },
     "execution_count": 11,
     "metadata": {},
     "output_type": "execute_result"
    }
   ],
   "source": [
    "\"Remember, remember, the fifth of July.\".split()"
   ]
  },
  {
   "cell_type": "code",
   "execution_count": 12,
   "id": "7d10e106",
   "metadata": {},
   "outputs": [
    {
     "data": {
      "text/plain": [
       "'There-can-only-one.'"
      ]
     },
     "execution_count": 12,
     "metadata": {},
     "output_type": "execute_result"
    }
   ],
   "source": [
    "\"-\".join(\"There can only one.\".split())"
   ]
  },
  {
   "cell_type": "code",
   "execution_count": null,
   "id": "a1bc2746",
   "metadata": {},
   "outputs": [],
   "source": []
  },
  {
   "cell_type": "markdown",
   "id": "e4fdb825",
   "metadata": {},
   "source": [
    "#### 9. What are the methods for right-justifying, left-justifying, and centering a string?\n",
    "```\n",
    "Answer:\n",
    "\n",
    "the functions used for justifying a string are\n",
    "1. Right justification - \"string\".rjust(no.of.line.spaces)\n",
    "2. left justification - 'string'.ljust(no.of.line.spaces)\n",
    "3. Center justified - \"string\".center(no.of.line.spaces)\n",
    "```"
   ]
  },
  {
   "cell_type": "code",
   "execution_count": null,
   "id": "3f5ba343",
   "metadata": {},
   "outputs": [],
   "source": []
  },
  {
   "cell_type": "markdown",
   "id": "984a671d",
   "metadata": {},
   "source": [
    "#### 10. What is the best way to remove whitespace characters from the start or end?\n",
    "```\n",
    "Answer:\n",
    "\n",
    "Using the function strip() we can remove white spaces from the end and the start of a string.\n",
    "```"
   ]
  },
  {
   "cell_type": "code",
   "execution_count": 16,
   "id": "2a352895",
   "metadata": {},
   "outputs": [
    {
     "data": {
      "text/plain": [
       "'a sting with white space in start and end.'"
      ]
     },
     "execution_count": 16,
     "metadata": {},
     "output_type": "execute_result"
    }
   ],
   "source": [
    "\"  a sting with white space in start and end.   \".strip()"
   ]
  },
  {
   "cell_type": "code",
   "execution_count": null,
   "id": "d71e80d2",
   "metadata": {},
   "outputs": [],
   "source": []
  }
 ],
 "metadata": {
  "kernelspec": {
   "display_name": "Python 3 (ipykernel)",
   "language": "python",
   "name": "python3"
  },
  "language_info": {
   "codemirror_mode": {
    "name": "ipython",
    "version": 3
   },
   "file_extension": ".py",
   "mimetype": "text/x-python",
   "name": "python",
   "nbconvert_exporter": "python",
   "pygments_lexer": "ipython3",
   "version": "3.11.3"
  },
  "toc": {
   "base_numbering": 1,
   "nav_menu": {},
   "number_sections": true,
   "sideBar": true,
   "skip_h1_title": false,
   "title_cell": "Table of Contents",
   "title_sidebar": "Contents",
   "toc_cell": true,
   "toc_position": {
    "height": "calc(100% - 180px)",
    "left": "10px",
    "top": "150px",
    "width": "384px"
   },
   "toc_section_display": true,
   "toc_window_display": true
  }
 },
 "nbformat": 4,
 "nbformat_minor": 5
}
