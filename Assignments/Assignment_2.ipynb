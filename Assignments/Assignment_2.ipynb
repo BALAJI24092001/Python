{
 "cells": [
  {
   "cell_type": "markdown",
   "id": "b57d7004-e554-42a6-95ee-639f5b703ccd",
   "metadata": {},
   "source": [
    "# PYTHON BASIC - ASSIGNMENT 2"
   ]
  },
  {
   "cell_type": "markdown",
   "id": "770bc4de-d25e-4f69-abba-06ed2d8479cd",
   "metadata": {},
   "source": [
    "\n",
    "#### 1.What are the two values of the Boolean data type? How do you write them?\n",
    "```\n",
    "Answer: \n",
    "\n",
    "Boolean is a primitive datatype in python with only two values True or False.\n",
    "For using the boolean values we assign a variable using the assignment operator.\n",
    "example: \n",
    "val1 = True\n",
    "val2 = False\n",
    "```"
   ]
  },
  {
   "cell_type": "code",
   "execution_count": 33,
   "id": "4af090bd-d429-4186-a471-24481f425159",
   "metadata": {},
   "outputs": [
    {
     "name": "stdout",
     "output_type": "stream",
     "text": [
      "Type of val1 variable is : <class 'bool'>\n",
      "Type of val2 variable is : <class 'bool'>\n"
     ]
    }
   ],
   "source": [
    "val1 = True\n",
    "val2 = False\n",
    "print(f\"Type of val1 variable is : {type(val1)}\")\n",
    "print(f\"Type of val2 variable is : {type(val2)}\")"
   ]
  },
  {
   "cell_type": "code",
   "execution_count": null,
   "id": "cf7e3e12-3458-40a6-9fa0-ed0cdaf5fc8d",
   "metadata": {},
   "outputs": [],
   "source": []
  },
  {
   "cell_type": "markdown",
   "id": "5d8eecd1-d1df-4751-9979-04765b36d7b6",
   "metadata": {},
   "source": [
    "#### 2. What are the three different types of Boolean operators?\n",
    "```\n",
    "Answer:\n",
    "\n",
    "The three different types of boolean operators in python are 'and', 'or' and 'not'.\n",
    "The implementation of the these boolean operator goes as follows:\n",
    "\n",
    "```"
   ]
  },
  {
   "cell_type": "code",
   "execution_count": 34,
   "id": "9b0e0a15-ab2c-4d3c-b782-78fc66a74993",
   "metadata": {},
   "outputs": [
    {
     "name": "stdout",
     "output_type": "stream",
     "text": [
      "True and False : False\n",
      "True or False  : True\n",
      "not True       : False\n"
     ]
    }
   ],
   "source": [
    "print(f\"True and False : {True and False}\") # and boolean operator returns a boolean value only if both the conditions are true\n",
    "print(f\"True or False  : {True or False}\") # or boolean operator returns a boolean value, if any one value if true\n",
    "print(f\"not True       : {not True}\") # not boolean operator return a boolean value, opposite to the given value. \n",
    "# This operator is used with only one value unlike the other two, which used two values for the operation."
   ]
  },
  {
   "cell_type": "code",
   "execution_count": null,
   "id": "86bef0b3-65ba-4518-a8a5-009f6f9db084",
   "metadata": {},
   "outputs": [],
   "source": []
  },
  {
   "cell_type": "markdown",
   "id": "90a0d261-6da7-4981-9d2f-21428786432a",
   "metadata": {},
   "source": [
    "#### 3. Make a list of each Boolean operator's truth tables (i.e. every possible combination of Boolean\n",
    "values for the operator and what it evaluate ).\n",
    "```\n",
    "Answer:\n",
    "\n",
    "```"
   ]
  },
  {
   "cell_type": "code",
   "execution_count": 35,
   "id": "c2785d93-acf5-42c6-9722-837a439748da",
   "metadata": {},
   "outputs": [
    {
     "name": "stdout",
     "output_type": "stream",
     "text": [
      "True and True          :   True\n",
      "True and False         :   False\n",
      "False and True         :   False\n",
      "False and False        :   False\n"
     ]
    }
   ],
   "source": [
    "# Truth table for 'and' boolean operator\n",
    "print(f\"True and True          :   {True and True}\")\n",
    "print(f\"True and False         :   {True and False}\")\n",
    "print(f\"False and True         :   {False and True}\")\n",
    "print(f\"False and False        :   {False and False}\")"
   ]
  },
  {
   "cell_type": "code",
   "execution_count": 36,
   "id": "66f46e38-daf5-444a-a703-c134b30f41b1",
   "metadata": {},
   "outputs": [
    {
     "name": "stdout",
     "output_type": "stream",
     "text": [
      "True or True           :   True\n",
      "True or False          :   True\n",
      "False or True          :   True\n",
      "False or False         :   False\n"
     ]
    }
   ],
   "source": [
    "# Truth table for 'or' boolean operator\n",
    "print(f\"True or True           :   {True or True}\")\n",
    "print(f\"True or False          :   {True or False}\")\n",
    "print(f\"False or True          :   {False or True}\")\n",
    "print(f\"False or False         :   {False or False}\")"
   ]
  },
  {
   "cell_type": "code",
   "execution_count": 37,
   "id": "2dd4859e-63ee-4582-ae7a-5cd01fe3da55",
   "metadata": {},
   "outputs": [
    {
     "name": "stdout",
     "output_type": "stream",
     "text": [
      "not True               :   False\n",
      "not False              :   True\n"
     ]
    }
   ],
   "source": [
    "# Truth table for 'not' boolean operator\n",
    "print(f\"not True               :   {not True}\")\n",
    "print(f\"not False              :   {not False}\")"
   ]
  },
  {
   "cell_type": "code",
   "execution_count": null,
   "id": "0deb2996-a38b-45a8-b7e4-aa0624b04842",
   "metadata": {},
   "outputs": [],
   "source": []
  },
  {
   "cell_type": "markdown",
   "id": "2a1375a5-5470-4454-9cc2-20121a47f3a0",
   "metadata": {},
   "source": [
    "\n",
    "#### 4. What are the values of the following expressions?\n",
    "```   \n",
    "    a. (5 > 4) and (3 == 5)\n",
    "    b. not (5 > 4)\n",
    "    c. (5 > 4) or (3 == 5)\n",
    "    d. not ((5 > 4) or (3 == 5))\n",
    "    e. (True and True) and (True == False)\n",
    "    f. (not False) or (not True)\n",
    "Answer:\n",
    "\n",
    "    a. (5>4) is True, (3==5) is False\n",
    "        True and False, yields False. Since 'and' boolean operator\n",
    "    b. (5>4) is True\n",
    "        not True yields False\n",
    "    c. (5>4) is True, (3==5) is False\n",
    "        True or False, yields True. Since 'or' boolean operator\n",
    "    d. (5>4) is True, (3==5) is False\n",
    "        not True or False, yields False, since both the boolean values are False using or boolean operator\n",
    "    e. (True and True) is True, (True == False) is False\n",
    "        True and False, yields False\n",
    "    f. (not False) is True, (not True) is Fasle\n",
    "        True or False, yields True\n",
    "```"
   ]
  },
  {
   "cell_type": "code",
   "execution_count": 38,
   "id": "0d6b50d2-38f6-491a-bf50-e37746835756",
   "metadata": {},
   "outputs": [
    {
     "name": "stdout",
     "output_type": "stream",
     "text": [
      "(5 > 4) and (3 == 5)                :    False\n",
      "not (5 > 4)                         :    False\n",
      "(5 > 4) or (3 == 5)                 :    True\n",
      "not ((5 > 4) or (3 == 5))           :    False\n",
      "(True and True) and (True == False) :    False\n",
      "(not False) or (not True)           :    True\n"
     ]
    }
   ],
   "source": [
    "# checking answers in python\n",
    "print(f\"(5 > 4) and (3 == 5)                :    {(5 > 4) and (3 == 5)}\")\n",
    "print(f\"not (5 > 4)                         :    {not (5 > 4)}\")\n",
    "print(f\"(5 > 4) or (3 == 5)                 :    {(5 > 4) or (3 == 5)}\")\n",
    "print(f\"not ((5 > 4) or (3 == 5))           :    {not ((5 > 4) or (3 == 5))}\")\n",
    "print(f\"(True and True) and (True == False) :    {(True and True) and (True == False)}\")\n",
    "print(f\"(not False) or (not True)           :    {(not False) or (not True)}\")"
   ]
  },
  {
   "cell_type": "code",
   "execution_count": null,
   "id": "8cf1d8e7-6e3a-4267-ba60-7e1819709543",
   "metadata": {},
   "outputs": [],
   "source": []
  },
  {
   "cell_type": "markdown",
   "id": "459e0526-9d5d-44a2-be79-c35d0cb80030",
   "metadata": {},
   "source": [
    "#### 5. What are the six comparison operators?\n",
    "```\n",
    "Answer: \n",
    "\n",
    "The six comparision operators in python are:\n",
    "<   - leasthan operator\n",
    ">   - greaterthan operator\n",
    "<=  - leassthan or equal to operator\n",
    ">=  - greaterthen or equal to operator\n",
    "==  - equal to operator\n",
    "!=  - not equal to operator\n",
    "```"
   ]
  },
  {
   "cell_type": "code",
   "execution_count": null,
   "id": "8c7e22df-2ca5-416a-951c-d08a8756e009",
   "metadata": {},
   "outputs": [],
   "source": []
  },
  {
   "cell_type": "markdown",
   "id": "ae795719-6fb0-4cc2-b880-84faa8a3a232",
   "metadata": {},
   "source": [
    "#### 6. How do you tell the difference between the equal to and assignment operators? Describe a\n",
    "condition and when you would use one.\n",
    "```\n",
    "Answer:\n",
    "\n",
    "The equal to opeartor is a comparision operator which returns a boolean value, whereas the assignment operator is used to assign a value to a variable.\n",
    "\n",
    "Example:\n",
    "\n",
    "For example, there is a situation where we need to check if the variable has the value that we require, to check that, we compare the variable with the value using the equal to operator which returns a boolean value.\n",
    "\n",
    "(3 == 5) returns False\n",
    "\n",
    "For example, we took input from the user and needs to store the value in a variable, then we use the assignment operator.\n",
    "\n",
    "name = str(input()) # str() is not necessary as the default return type of input() funciton is string\n",
    "\n",
    "```"
   ]
  },
  {
   "cell_type": "code",
   "execution_count": null,
   "id": "f5de2922-6180-4b35-82f0-c39b0a778eab",
   "metadata": {},
   "outputs": [],
   "source": []
  },
  {
   "cell_type": "markdown",
   "id": "ee716e28-986c-40ad-bec7-5f9e0939a8d1",
   "metadata": {},
   "source": [
    "#### 7. Identify the three blocks in this code:\n",
    "```\n",
    "spam = 0\n",
    "if spam == 10:\n",
    "print(\"eggs\")\n",
    "if spam > 5:\n",
    "print('bacon')\n",
    "else:\n",
    "print('ham')\n",
    "print('spam')\n",
    "print('spam')\n",
    "\n",
    "Answer:\n",
    "\n",
    "The three blocks in this code are\n",
    "1. The assignment operation statement\n",
    "2. The if block\n",
    "3. The if else block\n",
    "\n",
    "code:\n",
    "spam = 0\n",
    "\n",
    "if spam == 10:\n",
    "    print(\"eggs\")\n",
    "    \n",
    "if spam > 5:\n",
    "    print('bacon')\n",
    "else:\n",
    "    print('ham')\n",
    "    print('spam')\n",
    "    print('spam')\n",
    "```"
   ]
  },
  {
   "cell_type": "code",
   "execution_count": null,
   "id": "20669c28-a5a7-4b2d-8f66-c956dca4ccf9",
   "metadata": {},
   "outputs": [],
   "source": []
  },
  {
   "cell_type": "markdown",
   "id": "d64ba360-1da2-4278-b83b-2d6df72d4ff2",
   "metadata": {},
   "source": [
    "\n",
    "#### 8. Write code that prints Hello if 1 is stored in spam, prints Howdy if 2 is stored in spam, and prints Greetings! if anything else is stored in spam.\n"
   ]
  },
  {
   "cell_type": "code",
   "execution_count": 40,
   "id": "c3d34f93-1183-4392-a7cf-06e705566d9b",
   "metadata": {},
   "outputs": [
    {
     "name": "stdin",
     "output_type": "stream",
     "text": [
      "Enter a number :  4\n"
     ]
    },
    {
     "name": "stdout",
     "output_type": "stream",
     "text": [
      "Greetings!\n"
     ]
    }
   ],
   "source": [
    "spam = int(input(\"Enter a number : \"))\n",
    "if spam == 1:\n",
    "    print(\"Hello\")\n",
    "elif spam == 2:\n",
    "    print(\"Howdy\")\n",
    "else:\n",
    "    print(\"Greetings!\")"
   ]
  },
  {
   "cell_type": "code",
   "execution_count": null,
   "id": "956cbf8e-2e62-475d-9534-40c05454e8b9",
   "metadata": {},
   "outputs": [],
   "source": []
  },
  {
   "cell_type": "markdown",
   "id": "8e906c3e-39cc-4803-8dfa-4dc69ab08a90",
   "metadata": {},
   "source": [
    "#### 9.If your programme is stuck in an endless loop, what keys you’ll press?\n",
    "```\n",
    "Answer:\n",
    "\n",
    "while running code in console, if the python program is stuck in an endless loop, we use CTRL+C to stop the exececution.\n",
    "In jupyter notebook, if a cell is in endless loop, then in the command mode use use \"II\" to interupt the program, or just use the stop execution button at the top bar.\n",
    "```"
   ]
  },
  {
   "cell_type": "code",
   "execution_count": null,
   "id": "da5b4dc4-d2e2-4ff7-ab40-d905ad31f58d",
   "metadata": {},
   "outputs": [],
   "source": []
  },
  {
   "cell_type": "markdown",
   "id": "25336c4a-b557-45fa-9e40-c642205f5d3b",
   "metadata": {},
   "source": [
    "#### 10. How can you tell the difference between break and continue?\n",
    "```\n",
    "Answer:\n",
    "\n",
    "Using a break statement in a loop breaks the loop at the conditioned iteration, whereas the continue statement skips that particular conditioned iteration and continues with the remaining iterations.\n",
    "```"
   ]
  },
  {
   "cell_type": "code",
   "execution_count": 41,
   "id": "517dd886-4db9-4486-8cd9-e068dbb72e7b",
   "metadata": {},
   "outputs": [
    {
     "name": "stdout",
     "output_type": "stream",
     "text": [
      "0\n",
      "1\n",
      "2\n",
      "3\n",
      "5\n",
      "6\n"
     ]
    }
   ],
   "source": [
    "for i in range(10):\n",
    "    if i == 4:\n",
    "        continue;\n",
    "    elif i == 7:\n",
    "        break;\n",
    "    print(i)\n",
    "\n",
    "# skipped at i == 4, and stoped the loop at i == 7"
   ]
  },
  {
   "cell_type": "code",
   "execution_count": null,
   "id": "fac4c62f-c267-4d9f-ab4a-d9809b7c5c52",
   "metadata": {},
   "outputs": [],
   "source": []
  },
  {
   "cell_type": "markdown",
   "id": "107b8d52-75b8-430d-8d65-70ab05e4d1e6",
   "metadata": {},
   "source": [
    "\n",
    "#### 11. In a for loop, what is the difference between range(10), range(0, 10), and range(0, 10, 1)?\n",
    "```\n",
    "Answer:\n",
    "\n",
    "There is no difference in the three ways. All of them gives out an iterable with values from 0 to 9\n",
    "```"
   ]
  },
  {
   "cell_type": "code",
   "execution_count": 42,
   "id": "ec610810-d8a0-4a7a-8cfb-d46214139e05",
   "metadata": {},
   "outputs": [
    {
     "name": "stdout",
     "output_type": "stream",
     "text": [
      "0 1 2 3 4 5 6 7 8 9 "
     ]
    }
   ],
   "source": [
    "for i in range(10):\n",
    "    print(i, end=\" \")"
   ]
  },
  {
   "cell_type": "code",
   "execution_count": 43,
   "id": "661b5b41-a4f7-4e95-a45e-23a870356680",
   "metadata": {},
   "outputs": [
    {
     "name": "stdout",
     "output_type": "stream",
     "text": [
      "0 1 2 3 4 5 6 7 8 9 "
     ]
    }
   ],
   "source": [
    "for i in range(0, 10):\n",
    "    print(i, end=\" \")"
   ]
  },
  {
   "cell_type": "code",
   "execution_count": 44,
   "id": "f8fb115b-7c4a-46fa-a2af-ea4356af9807",
   "metadata": {},
   "outputs": [
    {
     "name": "stdout",
     "output_type": "stream",
     "text": [
      "0 1 2 3 4 5 6 7 8 9 "
     ]
    }
   ],
   "source": [
    "for i in range(0, 10, 1):\n",
    "    print(i, end=\" \")"
   ]
  },
  {
   "cell_type": "code",
   "execution_count": null,
   "id": "dd0395c6-d303-45b2-829c-c4d11c00ea5f",
   "metadata": {},
   "outputs": [],
   "source": []
  },
  {
   "cell_type": "markdown",
   "id": "f8ce56ca-2690-4c3a-80c2-5a7c36c896ab",
   "metadata": {},
   "source": [
    "####  12. Write a short program that prints the numbers 1 to 10 using a for loop. Then write an equivalent program that prints the numbers 1 to 10 using a while loop.\n"
   ]
  },
  {
   "cell_type": "code",
   "execution_count": 45,
   "id": "a394c7cc-73dd-4739-8f3d-c64519b4382c",
   "metadata": {},
   "outputs": [
    {
     "name": "stdout",
     "output_type": "stream",
     "text": [
      "1 2 3 4 5 6 7 8 9 10 "
     ]
    }
   ],
   "source": [
    "for i in range(1, 11, 1):\n",
    "    print(i, end=\" \")"
   ]
  },
  {
   "cell_type": "code",
   "execution_count": 46,
   "id": "76b02eb3-8599-4691-ab28-64250cd200a1",
   "metadata": {},
   "outputs": [
    {
     "name": "stdout",
     "output_type": "stream",
     "text": [
      "1 2 3 4 5 6 7 8 9 10 "
     ]
    }
   ],
   "source": [
    "a = 1;\n",
    "while a <= 10:\n",
    "    print(a, end=\" \")\n",
    "    a += 1"
   ]
  },
  {
   "cell_type": "code",
   "execution_count": null,
   "id": "4a195672-d010-465a-bf59-1628bb97cdc5",
   "metadata": {},
   "outputs": [],
   "source": []
  },
  {
   "cell_type": "markdown",
   "id": "00627e5d-4908-42e7-9975-8050371a8e33",
   "metadata": {},
   "source": [
    "\n",
    "#### 13. If you had a function named bacon() inside a module named spam, how would you call it after importing spam?\n",
    "```\n",
    "Answer:\n",
    "\n",
    "After importing spam module \n",
    "# import spam\n",
    "bacon() function can be called using the module name\n",
    "# spam.bacon()\n",
    "```"
   ]
  },
  {
   "cell_type": "code",
   "execution_count": null,
   "id": "d08a1aa2-9c8b-4b79-b6fc-18d1017ffdc5",
   "metadata": {},
   "outputs": [],
   "source": []
  }
 ],
 "metadata": {
  "kernelspec": {
   "display_name": "Python 3 (ipykernel)",
   "language": "python",
   "name": "python3"
  },
  "language_info": {
   "codemirror_mode": {
    "name": "ipython",
    "version": 3
   },
   "file_extension": ".py",
   "mimetype": "text/x-python",
   "name": "python",
   "nbconvert_exporter": "python",
   "pygments_lexer": "ipython3",
   "version": "3.10.6"
  }
 },
 "nbformat": 4,
 "nbformat_minor": 5
}
