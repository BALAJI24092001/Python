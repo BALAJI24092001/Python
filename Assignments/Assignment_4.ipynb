{
 "cells": [
  {
   "cell_type": "markdown",
   "id": "f8f42e68-bba0-4fcf-b382-1386dc0e9d50",
   "metadata": {},
   "source": [
    "# PYTHON BASICS - ASSIGNMENT 4"
   ]
  },
  {
   "cell_type": "markdown",
   "id": "66cd6238-a35c-45eb-bffb-b0b79dcc3083",
   "metadata": {},
   "source": [
    "#### 1. What exactly is []?\n",
    "```\n",
    "Answer:\n",
    "\n",
    "[] is square braces, in python used to represet a list. List datatype in python is used to store multiple values in a single variable, and uses the indexes and the variable name to access these values.\n",
    "\n",
    "Example:\n",
    "lst = [1, 2, 3, 5, 6]\n",
    "```"
   ]
  },
  {
   "cell_type": "code",
   "execution_count": null,
   "id": "e5452a12-14aa-47c6-b341-51173696bc97",
   "metadata": {},
   "outputs": [],
   "source": []
  },
  {
   "cell_type": "markdown",
   "id": "c347e3ea-b518-4a33-8c3b-217833edf0f6",
   "metadata": {},
   "source": [
    "#### 2. In a list of values stored in a variable called spam, how would you assign the value 'hello' as the third value? (Assume [2, 4, 6, 8, 10] are in spam.)\n",
    "```\n",
    "Answer:\n",
    "\n",
    "Given the list [2, 4, 6, 8, 10]\n",
    "The third value is accessed using the index number 2, as the index values starts with 0.\n",
    "\n",
    "Given we assigned a name to the list as lst, then the third value can be changed as shown below\n",
    "\n",
    "lst[2] = 'Hello'\n",
    "```"
   ]
  },
  {
   "cell_type": "code",
   "execution_count": 1,
   "id": "d28b4d7c-6892-4c62-a1e5-7c68e7a8d064",
   "metadata": {},
   "outputs": [
    {
     "data": {
      "text/plain": [
       "[2, 4, 'Hello', 8, 10]"
      ]
     },
     "execution_count": 1,
     "metadata": {},
     "output_type": "execute_result"
    }
   ],
   "source": [
    "lst = [2, 4, 6, 8, 10]\n",
    "lst[2] = \"Hello\"\n",
    "lst"
   ]
  },
  {
   "cell_type": "code",
   "execution_count": null,
   "id": "9691386d-26c0-40dd-b569-40a7b0c3bf5d",
   "metadata": {},
   "outputs": [],
   "source": []
  },
  {
   "cell_type": "markdown",
   "id": "e0a6f2a7-7886-4370-8cc6-7306f9ad9297",
   "metadata": {},
   "source": [
    "#### Let's pretend the spam includes the list ['a', 'b', 'c', 'd'] for the next three queries."
   ]
  },
  {
   "cell_type": "code",
   "execution_count": 2,
   "id": "7b3a51aa-6b5e-4e11-bce3-d2580bd1d0b2",
   "metadata": {},
   "outputs": [],
   "source": [
    "spam = ['a', 'b', 'c', 'd']"
   ]
  },
  {
   "cell_type": "markdown",
   "id": "241afb4f-80d3-4c63-9796-90f57e569724",
   "metadata": {},
   "source": [
    "#### 3. What is the value of the spam[ int(int('3'*2)/11) ]\n",
    "```\n",
    "Answer:\n",
    "\n",
    "The value inside the index is, a stirng multipled by 2, which becomes '33', then converted to a integer, then divide by 11, gives 3.\n",
    "We have the list \n",
    "spam = ['a', 'b', 'c', 'd']\n",
    "The 3rd index in the spam list will be returned\n",
    "i.e.. 'd'\n",
    "```"
   ]
  },
  {
   "cell_type": "code",
   "execution_count": null,
   "id": "28140811-4d18-4408-8c91-3241b7d3a80d",
   "metadata": {},
   "outputs": [],
   "source": []
  },
  {
   "cell_type": "markdown",
   "id": "bf67bc77-d4cb-4748-8524-2c040903f941",
   "metadata": {},
   "source": [
    "#### 4. What is the value of spam[-1]?\n",
    "```\n",
    "Answer:\n",
    "\n",
    "In python, the negetive values gives the list from end of the list. So the -1 index will return the last value of the list spam, which is 'd'\n",
    "\n",
    "i.e.. 'd'\n",
    "```"
   ]
  },
  {
   "cell_type": "code",
   "execution_count": null,
   "id": "344e35e2-99ca-4353-888a-2cf3d4f8019e",
   "metadata": {},
   "outputs": [],
   "source": []
  },
  {
   "cell_type": "markdown",
   "id": "61aa67be-c179-47bd-b0fd-1d2103565b58",
   "metadata": {},
   "source": [
    "#### 5. What is the value of spam[:2]\n",
    "```\n",
    "Answer:\n",
    "\n",
    "The list with index :2, will return values from index 0 to 1\n",
    "i.e., ['a', 'b']\n",
    "```"
   ]
  },
  {
   "cell_type": "code",
   "execution_count": null,
   "id": "fe6095ae-46c5-45b5-943e-d51486a52e33",
   "metadata": {},
   "outputs": [],
   "source": []
  },
  {
   "cell_type": "markdown",
   "id": "f02777cc-92fc-4d8c-b50f-a68d7bfc3296",
   "metadata": {},
   "source": [
    "#### Let's pretend bacon has the list [3.14, 'cat', 11, 'cat', True] for the next three questions."
   ]
  },
  {
   "cell_type": "code",
   "execution_count": 5,
   "id": "228bea6f-07db-40c8-bc30-9c4927f21303",
   "metadata": {},
   "outputs": [],
   "source": [
    "bacon = [3.14, 'cat', 11, 'cat', True]"
   ]
  },
  {
   "cell_type": "markdown",
   "id": "c3f3adb8-b605-4dbe-bbd1-10e04b1cb749",
   "metadata": {},
   "source": [
    "#### 6. What is the value of bacon.index('cat')?\n",
    "```\n",
    "Answer:\n",
    "\n",
    "The statement bacon.index('cat') will return the 1s't index of the given value from the list.\n",
    "since the first index where the string 'cat' is available is 1, it returns 1\n",
    "```"
   ]
  },
  {
   "cell_type": "code",
   "execution_count": 7,
   "id": "087dbf5c-eda3-4647-90d8-b22e63d071be",
   "metadata": {},
   "outputs": [
    {
     "data": {
      "text/plain": [
       "1"
      ]
     },
     "execution_count": 7,
     "metadata": {},
     "output_type": "execute_result"
    }
   ],
   "source": [
    "bacon.index('cat')"
   ]
  },
  {
   "cell_type": "code",
   "execution_count": null,
   "id": "e823edae-914c-4ada-95ac-8ce9e87642f9",
   "metadata": {},
   "outputs": [],
   "source": []
  },
  {
   "cell_type": "markdown",
   "id": "2869dc0b-9a89-48fb-a35f-66825ce31ef1",
   "metadata": {},
   "source": [
    "#### 7. How does bacon.append(99) change the look of the list value in bacon?\n",
    "```\n",
    "Answer:\n",
    "\n",
    "The statement bacon.append(99) will add a value to the end of the list. Given value is 99 in the function append, the bacon list will look like this:\n",
    "[3.14, 'cat', 11, 'cat', True, 99]\n",
    "```"
   ]
  },
  {
   "cell_type": "code",
   "execution_count": 8,
   "id": "b47fad98-7d7f-4e6b-a4fb-30439387a78f",
   "metadata": {},
   "outputs": [
    {
     "data": {
      "text/plain": [
       "[3.14, 'cat', 11, 'cat', True, 99]"
      ]
     },
     "execution_count": 8,
     "metadata": {},
     "output_type": "execute_result"
    }
   ],
   "source": [
    "bacon.append(99)\n",
    "bacon"
   ]
  },
  {
   "cell_type": "code",
   "execution_count": null,
   "id": "3faff24d-1067-431e-b468-8d55fece70cf",
   "metadata": {},
   "outputs": [],
   "source": []
  },
  {
   "cell_type": "markdown",
   "id": "c17e7a4d-aa69-4228-90db-137090d5c355",
   "metadata": {},
   "source": [
    "#### 8. How does bacon.remove('cat') change the look of the list in bacon?\n",
    "```\n",
    "Answer:\n",
    "\n",
    "The statement bacon.remove('cat') will remove the first instace of the string 'cat' available in the list bacon, starting from index 0. The bacon list will look like: \n",
    "[3.14, 11, 'cat', True, 99]\n",
    "```"
   ]
  },
  {
   "cell_type": "code",
   "execution_count": 9,
   "id": "63096139-cf29-49d5-b96b-cd6ea7317b76",
   "metadata": {},
   "outputs": [
    {
     "data": {
      "text/plain": [
       "[3.14, 11, 'cat', True, 99]"
      ]
     },
     "execution_count": 9,
     "metadata": {},
     "output_type": "execute_result"
    }
   ],
   "source": [
    "bacon.remove('cat')\n",
    "bacon"
   ]
  },
  {
   "cell_type": "code",
   "execution_count": null,
   "id": "03caf8c2-e93c-43b2-87c9-5109bd227783",
   "metadata": {},
   "outputs": [],
   "source": []
  },
  {
   "cell_type": "markdown",
   "id": "e25048f3-f06b-47b2-ac56-b832398bc67e",
   "metadata": {},
   "source": [
    "#### 9. What are the list concatenation and list replication operators?\n",
    "```\n",
    "Answer:\n",
    "\n",
    "Given two or more lists, we can concatenate them using the concatenation operator '+'.\n",
    "Given a list, we can replicate the list, and concatenate it at the same time using the  replication operator '*'.\n",
    "\n",
    "```"
   ]
  },
  {
   "cell_type": "code",
   "execution_count": 10,
   "id": "3c0f2709-0b1f-4f0d-a2f1-420110440122",
   "metadata": {},
   "outputs": [
    {
     "name": "stdout",
     "output_type": "stream",
     "text": [
      "[1, 2, 3, 4, 5, 6]\n",
      "[1, 2, 3, 1, 2, 3, 1, 2, 3]\n"
     ]
    }
   ],
   "source": [
    "exm1 = [1, 2, 3]\n",
    "exm2 = [4, 5, 6]\n",
    "print(exm1 + exm2)\n",
    "print(exm1*3)"
   ]
  },
  {
   "cell_type": "code",
   "execution_count": null,
   "id": "84a929bd-a908-486f-9fe0-7a4daa1d5c7a",
   "metadata": {},
   "outputs": [],
   "source": []
  },
  {
   "cell_type": "markdown",
   "id": "481552cf-acc9-4017-a135-4f0854dec8e7",
   "metadata": {},
   "source": [
    "#### 10. What is difference between the list methods append() and insert()?\n",
    "```\n",
    "Answer:\n",
    "\n",
    "Using the append() method on a list, the value given to the function will be added to the end of the list.\n",
    "Using the insert() method on a list, takes two parameters, first the index value at which the value should be added, second the value that needs to be added. It will add that value at the given index.\n",
    "```"
   ]
  },
  {
   "cell_type": "code",
   "execution_count": 11,
   "id": "593614e4-256a-4af9-a74a-ac6b353c757b",
   "metadata": {},
   "outputs": [
    {
     "name": "stdout",
     "output_type": "stream",
     "text": [
      "[1, 2, 3, 4, 6, 7, 8]\n",
      "[1, 2, 3, 4, 5, 6, 7, 8]\n"
     ]
    }
   ],
   "source": [
    "lst = [1, 2, 3, 4, 6, 7]\n",
    "lst.append(8)\n",
    "print(lst)\n",
    "lst.insert(4, 5)\n",
    "print(lst)"
   ]
  },
  {
   "cell_type": "code",
   "execution_count": null,
   "id": "5fb6871c-0e41-42af-a4cc-236861afeddd",
   "metadata": {},
   "outputs": [],
   "source": []
  },
  {
   "cell_type": "markdown",
   "id": "28e9afd1-3a80-4a1c-a3e7-e7c890e74085",
   "metadata": {},
   "source": [
    "#### 11. What are the two methods for removing items from a list?\n",
    "```\n",
    "Answer:\n",
    "\n",
    "The two methods for removing items from a list are\n",
    "1. pop() - removes the last element from the list\n",
    "2. remove(parameter) - removes the 1st occurance of the given element from the list\n",
    "```"
   ]
  },
  {
   "cell_type": "code",
   "execution_count": null,
   "id": "28502931-a78d-4118-b6aa-5c170a7e6158",
   "metadata": {},
   "outputs": [],
   "source": []
  },
  {
   "cell_type": "markdown",
   "id": "41dd6cf7-9745-4ea8-9005-8f897ca83997",
   "metadata": {},
   "source": [
    "#### 13. What's the difference between tuples and lists?\n",
    "```\n",
    "Answer:\n",
    "\n",
    "In almost all the cases lists and tuples are same, but the difference is that, tuples are immutable, while the lists are mutable.\n",
    "```"
   ]
  },
  {
   "cell_type": "code",
   "execution_count": 12,
   "id": "0a14858e-fbb0-4084-ba0b-1b77fbe00550",
   "metadata": {},
   "outputs": [
    {
     "ename": "TypeError",
     "evalue": "'tuple' object does not support item assignment",
     "output_type": "error",
     "traceback": [
      "\u001b[0;31m---------------------------------------------------------------------------\u001b[0m",
      "\u001b[0;31mTypeError\u001b[0m                                 Traceback (most recent call last)",
      "Input \u001b[0;32mIn [12]\u001b[0m, in \u001b[0;36m<cell line: 2>\u001b[0;34m()\u001b[0m\n\u001b[1;32m      1\u001b[0m tup \u001b[38;5;241m=\u001b[39m (\u001b[38;5;241m1\u001b[39m, \u001b[38;5;241m2\u001b[39m, \u001b[38;5;241m3\u001b[39m)\n\u001b[0;32m----> 2\u001b[0m \u001b[43mtup\u001b[49m\u001b[43m[\u001b[49m\u001b[38;5;241;43m1\u001b[39;49m\u001b[43m]\u001b[49m \u001b[38;5;241m=\u001b[39m \u001b[38;5;241m3\u001b[39m\n",
      "\u001b[0;31mTypeError\u001b[0m: 'tuple' object does not support item assignment"
     ]
    }
   ],
   "source": [
    "tup = (1, 2, 3)\n",
    "tup[1] = 3"
   ]
  },
  {
   "cell_type": "code",
   "execution_count": null,
   "id": "46cfeb67-f632-4a09-886c-96db1e6dc5f6",
   "metadata": {},
   "outputs": [],
   "source": []
  },
  {
   "cell_type": "markdown",
   "id": "74efe5d0-587f-4ea4-9090-93efa87a8edd",
   "metadata": {},
   "source": [
    "#### 14. How do you type a tuple value that only contains the integer 42?\n",
    "```\n",
    "A tuple with a single integer value is can be created in two ways\n",
    "1. tup = (42, )\n",
    "2. tup = tuple([42])\n",
    "\n",
    "In the first method, if the comma is not mentioned, the tup variable will become an integer variable\n",
    "```"
   ]
  },
  {
   "cell_type": "code",
   "execution_count": null,
   "id": "619530f9-82d1-47d4-9ac9-a4552e16eb50",
   "metadata": {},
   "outputs": [],
   "source": []
  },
  {
   "cell_type": "markdown",
   "id": "a1bb4e81-0447-4af1-bd97-49d7ba6bc068",
   "metadata": {},
   "source": [
    "#### 15. How do you get a list value&#39;s tuple form? How do you get a tuple value&#39;s list form?\n",
    "```\n",
    "List values tuple from, and tuple values list form can be achived using typecasting with the help of the list and tuple functions\n",
    "\n",
    "Example: \n",
    "lst = [1, 2, 3, 4, 5]\n",
    "tup = (4, 2, 4, 5)\n",
    "\n",
    "print(list(tup))\n",
    "print(tuple(lst))\n",
    "```"
   ]
  },
  {
   "cell_type": "code",
   "execution_count": 13,
   "id": "e92432db-b803-4624-bfd3-caa63e1ff83d",
   "metadata": {},
   "outputs": [
    {
     "name": "stdout",
     "output_type": "stream",
     "text": [
      "[4, 2, 4, 5]\n",
      "(1, 2, 3, 4, 5)\n"
     ]
    }
   ],
   "source": [
    "lst = [1, 2, 3, 4, 5]\n",
    "tup = (4, 2, 4, 5)\n",
    "\n",
    "print(list(tup))\n",
    "print(tuple(lst))"
   ]
  },
  {
   "cell_type": "code",
   "execution_count": null,
   "id": "490f7f61-df2f-4595-8b78-a83b11826abc",
   "metadata": {},
   "outputs": [],
   "source": []
  },
  {
   "cell_type": "markdown",
   "id": "42759435-ee90-4b37-b852-9529e79bd881",
   "metadata": {},
   "source": [
    "#### 16. Variables that contain list values are not necessarily lists themselves. Instead, what do they contain?\n",
    "```\n",
    "Answer: \n",
    "\n",
    "Given a list say, lst1 with some list objects inside it, then the list lst1 contains the address of the lists inside it. So when another variable tries to copy values from the lst1 list, incase of shallow copy, Even though the address of the main list lst1 is changed, the addresses of the lists inside it are copied, making both the main lists to address to the same lists inside them. Therefore, the variables that contain list values are not necessarily lists themselves, instead they are references to those lists.\n",
    "```"
   ]
  },
  {
   "cell_type": "code",
   "execution_count": null,
   "id": "ce78dfe0-8ee1-4755-8310-bcac98fe7b54",
   "metadata": {},
   "outputs": [],
   "source": []
  },
  {
   "cell_type": "markdown",
   "id": "d63803c3-b84f-475f-b1a9-b22e135dda58",
   "metadata": {},
   "source": [
    "#### 17. How do you distinguish between copy.copy() and copy.deepcopy()?\n",
    "```\n",
    "Answer:\n",
    "\n",
    "There are three ways to copy a variable(particularly a nested list) to another variable. But there are some differences between these type of copying, making each of them more efficient as it moves through the hierarchy. The three ways are:\n",
    "1. =\n",
    "2. copy.copy()\n",
    "3. copy.deepcopy()\n",
    "\n",
    "=, is assignment operator, when assigned a list variable to another variable name, the reference of both the variables are same.\n",
    "\n",
    "copy.copy(), is known as shallow copy. When a variable is copied to another variable using the copy() function, the address of the main lists are different. Where are the references of the values inside them are copied to the list, as the references are stored in the list itself inplace of a value. Making it only half sucessfull of making a copy of the list.\n",
    "\n",
    "copy.deepcopy(), is known as deepcopy. When a variable is copied to another variable using the deepcopy() function the address of the main lists will be different, also the references of the lists inside them are also changed and stored to the new list, recursively making the new list completely independent of the original list.\n",
    "\n",
    "```"
   ]
  },
  {
   "cell_type": "code",
   "execution_count": 1,
   "id": "d6464e93-2863-4441-9141-dd616b90f4fd",
   "metadata": {},
   "outputs": [
    {
     "name": "stdout",
     "output_type": "stream",
     "text": [
      "id of lst1 is : 139650537480640\n",
      "id of lst2 is : 139650537480640\n"
     ]
    }
   ],
   "source": [
    "import copy\n",
    "\n",
    "# copy using =\n",
    "lst1 = [1, 2, 3, 4, 5]\n",
    "lst2 = lst1\n",
    "print(\"id of lst1 is : {0}\".format(id(lst1)))\n",
    "print(\"id of lst2 is : {0}\".format(id(lst2)))"
   ]
  },
  {
   "cell_type": "code",
   "execution_count": 2,
   "id": "f710886e",
   "metadata": {},
   "outputs": [
    {
     "name": "stdout",
     "output_type": "stream",
     "text": [
      "7\n",
      "[[1, 2, 3], [6, 5, 3, 5, 6], 7]\n",
      "[[1, 2, 3], [6, 5, 3, 5, 6], 100]\n",
      "1\n",
      "[[100, 2, 3], [6, 5, 3, 5, 6], 7]\n",
      "[[100, 2, 3], [6, 5, 3, 5, 6], 100]\n"
     ]
    }
   ],
   "source": [
    "# shallow copy using copy.copy()\n",
    "lst1 = [ [1, 2, 3], [6, 5, 3, 5, 6], 7 ]\n",
    "lst2 = copy.copy(lst1)\n",
    "print(lst2[2])\n",
    "lst2[2] = 100\n",
    "print(lst1)\n",
    "print(lst2)\n",
    "\n",
    "\n",
    "print(lst2[0][0])\n",
    "lst2[0][0] = 100\n",
    "print(lst1)\n",
    "print(lst2)"
   ]
  },
  {
   "cell_type": "code",
   "execution_count": 3,
   "id": "3ce2b108",
   "metadata": {},
   "outputs": [
    {
     "name": "stdout",
     "output_type": "stream",
     "text": [
      "[[1, 2, 3], [6, 5, 3, 5, 6], 7]\n",
      "[[100, 2, 3], [6, 5, 3, 5, 6], 7]\n"
     ]
    }
   ],
   "source": [
    "# deep copy using copy.deepcopy()\n",
    "\n",
    "lst1 = [ [1, 2, 3], [6, 5, 3, 5, 6], 7 ]\n",
    "lst2 = copy.deepcopy(lst1)\n",
    "\n",
    "lst2[0][0] = 100\n",
    "print(lst1)\n",
    "print(lst2)"
   ]
  },
  {
   "cell_type": "code",
   "execution_count": null,
   "id": "2f6a5b04",
   "metadata": {},
   "outputs": [],
   "source": []
  }
 ],
 "metadata": {
  "kernelspec": {
   "display_name": "Python 3 (ipykernel)",
   "language": "python",
   "name": "python3"
  },
  "language_info": {
   "codemirror_mode": {
    "name": "ipython",
    "version": 3
   },
   "file_extension": ".py",
   "mimetype": "text/x-python",
   "name": "python",
   "nbconvert_exporter": "python",
   "pygments_lexer": "ipython3",
   "version": "3.10.6"
  }
 },
 "nbformat": 4,
 "nbformat_minor": 5
}
