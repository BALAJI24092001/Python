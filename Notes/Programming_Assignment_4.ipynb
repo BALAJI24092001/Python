{
 "cells": [
  {
   "cell_type": "markdown",
   "id": "609da2de",
   "metadata": {},
   "source": [
    "# PYTHON BASICS - PROGRAMMING ASSIGNMENT 4"
   ]
  },
  {
   "cell_type": "code",
   "execution_count": 1,
   "id": "c8f924c5",
   "metadata": {},
   "outputs": [
    {
     "data": {
      "text/plain": [
       "120"
      ]
     },
     "execution_count": 1,
     "metadata": {},
     "output_type": "execute_result"
    }
   ],
   "source": [
    "# 1. Write a Python Program to Find the Factorial of a Number?\n",
    "\n",
    "def fact(n):\n",
    "    if n != 1:\n",
    "        return n*fact(n-1)\n",
    "    else: return 1;\n",
    "\n",
    "fact(5)"
   ]
  },
  {
   "cell_type": "code",
   "execution_count": 2,
   "id": "8f30ddbe",
   "metadata": {},
   "outputs": [
    {
     "name": "stdout",
     "output_type": "stream",
     "text": [
      "Enter a number : 5\n",
      "5 x 1 = 5\n",
      "5 x 2 = 10\n",
      "5 x 3 = 15\n",
      "5 x 4 = 20\n",
      "5 x 5 = 25\n",
      "5 x 6 = 30\n",
      "5 x 7 = 35\n",
      "5 x 8 = 40\n",
      "5 x 9 = 45\n",
      "5 x 10 = 50\n"
     ]
    }
   ],
   "source": [
    "# 2. Write a Python Program to Display the multiplication Table?\n",
    "\n",
    "num = int(input(\"Enter a number : \"))\n",
    "for i in range(1, 11, 1):\n",
    "    print(f\"{num} x {i} = {i*num}\")\n",
    "    \n"
   ]
  },
  {
   "cell_type": "code",
   "execution_count": 3,
   "id": "c005a44c",
   "metadata": {},
   "outputs": [
    {
     "name": "stdout",
     "output_type": "stream",
     "text": [
      "Enter length of the fibonacci sequence : 5\n",
      "0\n",
      "1\n",
      "1\n",
      "2\n",
      "3\n"
     ]
    }
   ],
   "source": [
    "# 3. Write a Python Program to Print the Fibonacci sequence?\n",
    "\n",
    "num1 = 0\n",
    "num2 = 1\n",
    "num = int(input(\"Enter length of the fibonacci sequence : \"))\n",
    "for i in range(num):\n",
    "    print(num1)\n",
    "    num1, num2 = num2, num1+num2"
   ]
  },
  {
   "cell_type": "code",
   "execution_count": 11,
   "id": "0fa8f9c5",
   "metadata": {},
   "outputs": [
    {
     "name": "stdout",
     "output_type": "stream",
     "text": [
      "Enter a number : 153\n",
      "153 is an Armstrong number\n"
     ]
    }
   ],
   "source": [
    "# 4. Write a Python Program to Check Armstrong Number?\n",
    "'''\n",
    "Notes for the Armstrong number problem\n",
    "^^^^^^^^^^^^^^^^^^^^^^^^^^^^^^^^^^^^^^\n",
    "\n",
    "Armstrong number is a number that is equal to the sum of cubes of its digits.\n",
    "'''\n",
    "\n",
    "num = input(\"Enter a number : \")\n",
    "sum_val = 0\n",
    "for i in num:\n",
    "    sum_val += int(i)**3\n",
    "    \n",
    "if sum_val == int(num):\n",
    "    print(f\"{num} is an Armstrong number\")\n",
    "else:\n",
    "    print(f\"{num} is not an Armstrong number\")"
   ]
  },
  {
   "cell_type": "code",
   "execution_count": 12,
   "id": "58e40fd8",
   "metadata": {},
   "outputs": [
    {
     "name": "stdout",
     "output_type": "stream",
     "text": [
      "0 500\n",
      "Armstrong number beween the intervals 0 and 500 are : \n",
      "0 1 153 370 371 407 "
     ]
    }
   ],
   "source": [
    "# 5. Write a Python Program to Find Armstrong Number in an Interval?\n",
    "\n",
    "a, b = [int(i) for i in input().split(\" \")]\n",
    "def ams_chk(num):\n",
    "    num = str(num)\n",
    "    sum_val = 0\n",
    "    for i in num:\n",
    "        sum_val += int(i)**3\n",
    "\n",
    "    if sum_val == int(num):\n",
    "        return True\n",
    "    else:\n",
    "        return False\n",
    "    \n",
    "print(\"Armstrong number beween the intervals {0} and {1} are : \".format(a, b))\n",
    "for i in range(a, b+1):\n",
    "    if ams_chk(i) == True:\n",
    "        print(i, end = \" \")"
   ]
  },
  {
   "cell_type": "code",
   "execution_count": 14,
   "id": "7f04eea5",
   "metadata": {},
   "outputs": [
    {
     "name": "stdout",
     "output_type": "stream",
     "text": [
      "Enter a number : 10\n",
      "Sum of 10 natural numbers is : 55\n"
     ]
    }
   ],
   "source": [
    "# 6. Write a Python Program to Find the Sum of Natural Numbers?\n",
    "\n",
    "num = int(input(\"Enter a number : \"))\n",
    "sum_val = 0\n",
    "for i in range(num+1):\n",
    "    sum_val += i\n",
    "    \n",
    "print(\"Sum of {0} natural numbers is : \".format(num), end = '')\n",
    "print(sum_val)"
   ]
  },
  {
   "cell_type": "code",
   "execution_count": null,
   "id": "43e14b01",
   "metadata": {},
   "outputs": [],
   "source": []
  }
 ],
 "metadata": {
  "kernelspec": {
   "display_name": "Python 3 (ipykernel)",
   "language": "python",
   "name": "python3"
  },
  "language_info": {
   "codemirror_mode": {
    "name": "ipython",
    "version": 3
   },
   "file_extension": ".py",
   "mimetype": "text/x-python",
   "name": "python",
   "nbconvert_exporter": "python",
   "pygments_lexer": "ipython3",
   "version": "3.10.6"
  }
 },
 "nbformat": 4,
 "nbformat_minor": 5
}
