{
 "cells": [
  {
   "cell_type": "markdown",
   "id": "59641d12",
   "metadata": {},
   "source": [
    "# PYTHON BASICS - PROGRAMMING ASSIGNMENT 5"
   ]
  },
  {
   "cell_type": "code",
   "execution_count": 5,
   "id": "fd72c6dd",
   "metadata": {},
   "outputs": [
    {
     "name": "stdout",
     "output_type": "stream",
     "text": [
      "Enter a number : 54\n",
      "Enter a number : 24\n",
      "Lcm of the given two numbers 54 and 24 is : 216\n"
     ]
    }
   ],
   "source": [
    "# 1. Write a Python Program to Find LCM?\n",
    "\"\"\"\n",
    "Notes for the lcm problem\n",
    "~~~~~~~~~~~~~~~~~~~~~~~~~\n",
    "\n",
    "In arithmetic and number theory, the least common multiple, \n",
    "lowest common multiple, or smallest common multiple of two \n",
    "integers a and b, usually denoted by lcm, is the smallest \n",
    "positive integer that is divisible by both a and b.\n",
    "\"\"\"\n",
    "\n",
    "num1 = int(input(\"Enter a number : \"))\n",
    "num2 = int(input(\"Enter a number : \"))\n",
    "\n",
    "greater = 0\n",
    "if num1 > num2:\n",
    "    greater = num1\n",
    "else: greater = num2\n",
    "    \n",
    "while not (greater%num1 == 0 and greater%num2 == 0):\n",
    "    greater += 1\n",
    "\n",
    "print(f\"Lcm of the given two numbers {num1} and {num2} is : {greater}\")"
   ]
  },
  {
   "cell_type": "code",
   "execution_count": 6,
   "id": "72bf2d2d",
   "metadata": {},
   "outputs": [
    {
     "name": "stdout",
     "output_type": "stream",
     "text": [
      "Enter a number : 54\n",
      "Enter a nubmer : 24\n",
      "GCD of the given two numbers 54 and 24 is : 6\n"
     ]
    }
   ],
   "source": [
    "# 2. Write a Python Program to Find HCF?\n",
    "\n",
    "num1 = int(input(\"Enter a number : \"))\n",
    "num2 = int(input(\"Enter a nubmer : \"))\n",
    "\n",
    "least = 0\n",
    "if num1 > num2:\n",
    "    least = num2;\n",
    "else: least = num1\n",
    "    \n",
    "while not(num1%least == 0 and num2%least == 0):\n",
    "    least -= 1\n",
    "    \n",
    "print(f\"GCD of the given two numbers {num1} and {num2} is : {least}\")"
   ]
  },
  {
   "cell_type": "code",
   "execution_count": 12,
   "id": "bb5facbd",
   "metadata": {},
   "outputs": [
    {
     "name": "stdout",
     "output_type": "stream",
     "text": [
      "0\n",
      "1\n",
      "0\n",
      "1\n",
      "1\n",
      "1\n",
      "None\n",
      "Enter a number : 16\n",
      "Binary value is : 0b10000\n"
     ]
    },
    {
     "ename": "TypeError",
     "evalue": "'str' object cannot be interpreted as an integer",
     "output_type": "error",
     "traceback": [
      "\u001b[0;31m---------------------------------------------------------------------------\u001b[0m",
      "\u001b[0;31mTypeError\u001b[0m                                 Traceback (most recent call last)",
      "Input \u001b[0;32mIn [12]\u001b[0m, in \u001b[0;36m<cell line: 16>\u001b[0;34m()\u001b[0m\n\u001b[1;32m     14\u001b[0m val \u001b[38;5;241m=\u001b[39m \u001b[38;5;241m16\u001b[39m\n\u001b[1;32m     15\u001b[0m octal \u001b[38;5;241m=\u001b[39m \u001b[38;5;28moct\u001b[39m(\u001b[38;5;241m16\u001b[39m)\n\u001b[0;32m---> 16\u001b[0m \u001b[38;5;28mprint\u001b[39m(\u001b[38;5;124m\"\u001b[39m\u001b[38;5;124mHexadecimal value of 16 is : \u001b[39m\u001b[38;5;132;01m{0}\u001b[39;00m\u001b[38;5;124m\"\u001b[39m\u001b[38;5;241m.\u001b[39mformat(\u001b[38;5;28;43mhex\u001b[39;49m\u001b[43m(\u001b[49m\u001b[43moctal\u001b[49m\u001b[43m)\u001b[49m))\n",
      "\u001b[0;31mTypeError\u001b[0m: 'str' object cannot be interpreted as an integer"
     ]
    }
   ],
   "source": [
    "#  3. Write a Python Program to Convert Decimal to Binary, Octal and Hexadecimal?\n",
    "\n",
    "def dec_to_bin(num):\n",
    "    if num >= 1:\n",
    "        dec_to_bin(num // 2);\n",
    "    print(num%2)\n",
    "    \n",
    "print(dec_to_bin(23))\n",
    "\n",
    "# or \n",
    "\n",
    "print(\"Binary value is : {0}\".format( bin(int(input(\"Enter a number : \"))) ))\n",
    "\n",
    "val = 16\n",
    "print(\"Hexadecimal value of 16 is : {0}\".format(hex(octal)))"
   ]
  },
  {
   "cell_type": "code",
   "execution_count": null,
   "id": "a0eb4896",
   "metadata": {},
   "outputs": [],
   "source": []
  }
 ],
 "metadata": {
  "kernelspec": {
   "display_name": "Python 3 (ipykernel)",
   "language": "python",
   "name": "python3"
  },
  "language_info": {
   "codemirror_mode": {
    "name": "ipython",
    "version": 3
   },
   "file_extension": ".py",
   "mimetype": "text/x-python",
   "name": "python",
   "nbconvert_exporter": "python",
   "pygments_lexer": "ipython3",
   "version": "3.10.6"
  }
 },
 "nbformat": 4,
 "nbformat_minor": 5
}
