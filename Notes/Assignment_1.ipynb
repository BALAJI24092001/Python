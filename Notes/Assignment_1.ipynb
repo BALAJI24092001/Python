{
 "cells": [
  {
   "cell_type": "markdown",
   "id": "837623a3-0d74-4451-8b2b-5a9cedcc385f",
   "metadata": {},
   "source": [
    "# PYTHON BASICS - ASSIGNMENT 1"
   ]
  },
  {
   "cell_type": "markdown",
   "id": "5ec799a6-30ca-42c4-a2a7-0fe8b365adec",
   "metadata": {},
   "source": [
    "```\n",
    "1. In the below elements which of them are values or an expression? eg:- values can be\n",
    "integer or string and expressions will be mathematical operators.\n",
    "*\n",
    "'hello'\n",
    "-87.8\n",
    "-\n",
    "/\n",
    "+\n",
    "6\n",
    "\n",
    "Answer:\n",
    "\n",
    "Values: 'hello'(string), -87.8(float), 6(int)\n",
    "Expression: *(multiply), -(subtract), /(divide), +(add)\n",
    "```"
   ]
  },
  {
   "cell_type": "code",
   "execution_count": null,
   "id": "bf0e4df1-ed14-44e0-92c1-e28d4d8530bd",
   "metadata": {},
   "outputs": [],
   "source": []
  },
  {
   "cell_type": "markdown",
   "id": "ad4a2dbb-ba45-4aca-8d74-faa034ef548b",
   "metadata": {},
   "source": [
    "```\n",
    "2. What is the difference between string and variable?\n",
    "\n",
    "Answer:\n",
    "\n",
    "Variable is an alias for a memory location that stores an object(every thing in python is an object). A variable can store any datatype value.\n",
    "A string is a series of characteres grouped together using single or double quotes, sometimes even triple of single or double quotes(documentation string).\n",
    "Therefore, a variable is a place where any value is stores, whereas a string is a value that needs to be stored.\n",
    "```"
   ]
  },
  {
   "cell_type": "code",
   "execution_count": null,
   "id": "0fb50653-6756-448f-8f66-11bf8e5ba585",
   "metadata": {},
   "outputs": [],
   "source": []
  },
  {
   "cell_type": "markdown",
   "id": "17a1a896-d4b5-49af-94f6-2fdb38522467",
   "metadata": {},
   "source": [
    "```\n",
    "3. Describe three different data types.\n",
    "\n",
    "Answer:\n",
    "\n",
    "int - Integer datatype in python is a numeric value is no decimal points. int() inbuilt function can be used to convert a value to integer type. It stores values like 3, 4, -9 etc...\n",
    "\n",
    "string - String is a series of characters grouped together. str() inbuilt function can be used to convert a value to string type. It can store any value like \"Balaji\", \"57\", \"-25\", \"sdj3hgh-gds=\" etc...\n",
    "\n",
    "bool - Bool is binary data type, which has values True and False. bool() inbuilt function can be used to convert a value to a boolean type. I can store values True, False. Any number typecasted to boolean is always True unless the value converted is 0, then it is False.\n",
    "```"
   ]
  },
  {
   "cell_type": "code",
   "execution_count": null,
   "id": "eabebc10-a0c5-4a84-bec3-498e4feacc80",
   "metadata": {},
   "outputs": [],
   "source": []
  },
  {
   "cell_type": "markdown",
   "id": "836ff184-c4e1-428b-a21f-db12fc73670c",
   "metadata": {},
   "source": [
    "```\n",
    "4. What is an expression made up of? What do all expressions do?\n",
    "\n",
    "Answer: \n",
    "\n",
    "The combination of operators and appropiate values, together performed to give out a value is called an expression. All the epressions are intended to yeild out a result(a value based on the operations done using the operations hierarchy).\n",
    "```"
   ]
  },
  {
   "cell_type": "code",
   "execution_count": null,
   "id": "a69c6361-484c-4476-83a0-6e71aad3648f",
   "metadata": {},
   "outputs": [],
   "source": []
  },
  {
   "cell_type": "markdown",
   "id": "8c36e91c-842c-442b-9699-da94762c5bc7",
   "metadata": {},
   "source": [
    "```\n",
    "5. This assignment statements, like spam = 10. What is the difference between an expression and a statement?\n",
    "\n",
    "Answer: \n",
    "\n",
    "An expression always yeilds an output values, whereas a statment is a piece of insturction to perform that may or may not yeild an output.\n",
    "Example of expression: 5+4-3/6*2 # This results in the output value of 8.0, that can be stored into a variable\n",
    "Exmaple of statemtent: print(\"something\"); # This results in output of a value on the console, that cannot be stored into a variable\n",
    "```"
   ]
  },
  {
   "cell_type": "code",
   "execution_count": null,
   "id": "cfae4cd5-39c3-4bab-992c-0471b2c68a4b",
   "metadata": {},
   "outputs": [],
   "source": []
  },
  {
   "cell_type": "markdown",
   "id": "95e7cd12-c9f9-473a-8209-87e6eb3c5e06",
   "metadata": {},
   "source": [
    "```\n",
    "6. After running the following code, what does the variable bacon contain?\n",
    "bacon = 22\n",
    "bacon + 1 \n",
    "\n",
    "Answer:\n",
    "\n",
    "The variable bacon is stored with the integer value 22, in the next statement bacon is added with the value 1, which return the value 23. But the value is not stored again in the variable, so the variable bacon contains the value 22.\n",
    "```"
   ]
  },
  {
   "cell_type": "code",
   "execution_count": null,
   "id": "f53ef12e-2a7a-4754-bae5-ecd1948196d1",
   "metadata": {},
   "outputs": [],
   "source": []
  },
  {
   "cell_type": "markdown",
   "id": "b0c1da64-42c7-4745-8491-2bd425dba5a1",
   "metadata": {},
   "source": [
    "```\n",
    "7. What should the values of the following two terms be?\n",
    "'spam' + 'spamspam'\n",
    "'spam' * 3\n",
    "\n",
    "Answer:\n",
    "\n",
    "The first statement in the question is addition operation of two string values, which results in concatenation of both the strings and yields 'spamspamspam'\n",
    "The second statement in the question is muntiplication operation of a string value, resulting in addition(concat) of the same string 3 times with itself, yielding 'spamspamspam'\n",
    "```"
   ]
  },
  {
   "cell_type": "code",
   "execution_count": null,
   "id": "f5aae31c-9d48-4646-8bfe-8c6ed26d08d0",
   "metadata": {},
   "outputs": [],
   "source": []
  },
  {
   "cell_type": "markdown",
   "id": "4fede1c9-d6ae-44cc-af4a-261c223825e7",
   "metadata": {},
   "source": [
    "```\n",
    "8. Why is eggs a valid variable name while 100 is invalid?\n",
    "\n",
    "Answer:\n",
    "\n",
    "According to variable naming convention, a variable name must start with an alphabet or an underscore(_). eggs is a valid variable name, since the name starts with an alphabet, whereas 100 is not, since it starts with a numeric value.\n",
    "```"
   ]
  },
  {
   "cell_type": "code",
   "execution_count": null,
   "id": "79eb67cc-22ee-4fed-afa8-0237eb7e9cb2",
   "metadata": {},
   "outputs": [],
   "source": []
  },
  {
   "cell_type": "markdown",
   "id": "33be59f0-1908-4aa1-8497-7aed2a1d2a4f",
   "metadata": {},
   "source": [
    "```\n",
    "9. What three functions can be used to get the integer, floating-point number, or string\n",
    "version of a value?\n",
    "\n",
    "Answer:\n",
    "    \n",
    "The three functions used to convert(type cast) any value to this version is \n",
    "\n",
    "integer - int()\n",
    "floating-point number - float()\n",
    "string - str()\n",
    "```"
   ]
  },
  {
   "cell_type": "code",
   "execution_count": null,
   "id": "b8428590-7e52-4606-a8e5-c9f42ea31677",
   "metadata": {},
   "outputs": [],
   "source": []
  },
  {
   "cell_type": "markdown",
   "id": "d39e0822-8392-4625-bc52-b4464a3c8e2e",
   "metadata": {
    "slideshow": {
     "slide_type": "notes"
    },
    "tags": []
   },
   "source": [
    "```\n",
    "10. Why does this expression cause an error? How can you fix it?\n",
    "\"I have eaten \" + 99 + \" burritos.\"\n",
    "\n",
    "Answer:\n",
    "\n",
    "The expression is an operation between strings and an integer. The string addition is only possible between strings, so this operation is invalid and caused an error.\n",
    "Fixing: Converting the integer value 99 to string value using the str() inbuild funtion solves the problem.\n",
    "\"I have eaten \" + str(99) + \" burritos.\" or \"I have eaten \" + \"99\" + \" burritos.\"\n",
    "```"
   ]
  },
  {
   "cell_type": "code",
   "execution_count": null,
   "id": "df7ec507-7db4-4a87-b59f-80dce60c670e",
   "metadata": {},
   "outputs": [],
   "source": []
  }
 ],
 "metadata": {
  "kernelspec": {
   "display_name": "Python 3 (ipykernel)",
   "language": "python",
   "name": "python3"
  },
  "language_info": {
   "codemirror_mode": {
    "name": "ipython",
    "version": 3
   },
   "file_extension": ".py",
   "mimetype": "text/x-python",
   "name": "python",
   "nbconvert_exporter": "python",
   "pygments_lexer": "ipython3",
   "version": "3.10.6"
  }
 },
 "nbformat": 4,
 "nbformat_minor": 5
}
