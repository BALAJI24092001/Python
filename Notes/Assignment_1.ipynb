{
 "cells": [
  {
   "cell_type": "markdown",
   "id": "837623a3-0d74-4451-8b2b-5a9cedcc385f",
   "metadata": {},
   "source": [
    "# PYTHON BASICS - ASSIGNMENT 1"
   ]
  },
  {
   "cell_type": "raw",
   "id": "8a623cd5-cc58-4ec8-9a0e-bc0be970f42f",
   "metadata": {},
   "source": [
    "1. In the below elements which of them are values or an expression? eg:- values can be\n",
    "integer or string and expressions will be mathematical operators.\n",
    "*\n",
    "'hello'\n",
    "-87.8\n",
    "-\n",
    "/\n",
    "+\n",
    "6\n",
    "\n",
    "Answer:\n",
    "\n",
    "Values: 'hello'(string), -87.8(float), 6(int)\n",
    "Expression: *(multiply), -(subtract), /(divide), +(add)"
   ]
  },
  {
   "cell_type": "raw",
   "id": "af75e668-b602-4004-a502-66af092f6351",
   "metadata": {},
   "source": [
    "2. What is the difference between string and variable?\n",
    "\n",
    "Answer:\n",
    "\n",
    "Variable is an alias for a memory location that stores an object(every thing in python is an object). A variable can store any datatype value.\n",
    "A string is a series of characteres grouped together using single or double quotes, sometimes even triple of single or double quotes(documentation string).\n",
    "Therefore, a variable is a place where any value is stores, whereas a string is a value that needs to be stored."
   ]
  },
  {
   "cell_type": "raw",
   "id": "baa90c11-7ee9-4b7c-89d3-205f395f5cec",
   "metadata": {},
   "source": [
    "3. Describe three different data types.\n",
    "\n",
    "Answer:\n",
    "\n",
    "int - Integer datatype in python is a numeric value is no decimal points. int() inbuilt function can be used to convert a value to integer type. It stores values like 3, 4, -9 etc...\n",
    "\n",
    "string - String is a series of characters grouped together. str() inbuilt function can be used to convert a value to string type. It can store any value like \"Balaji\", \"57\", \"-25\", \"sdj3hgh-gds=\" etc...\n",
    "\n",
    "bool - Bool is binary data type, which has values True and False. bool() inbuilt function can be used to convert a value to a boolean type. I can store values True, False. Any number typecasted to boolean is always True unless the value converted is 0, then it is False."
   ]
  },
  {
   "cell_type": "raw",
   "id": "14797cc2-7e04-4b17-9873-7230ada18a95",
   "metadata": {},
   "source": [
    "4. What is an expression made up of? What do all expressions do?\n",
    "\n",
    "Answer: \n",
    "\n",
    "The combination of operators and appropiate values, together performed to give out a value is called an expression. All the epressions are intended to yeild out a result(a value based on the operations done using the operations hierarchy)."
   ]
  },
  {
   "cell_type": "raw",
   "id": "c8c18277-39ae-4ed8-9444-261640ad63e0",
   "metadata": {},
   "source": [
    "5. This assignment statements, like spam = 10. What is the difference between an\n",
    "expression and a statement?\n",
    "\n",
    "Answer: \n",
    "\n",
    "An expression always yeilds an output values, whereas a statment is a piece of insturction to perform that may or may not yeild an output.\n",
    "Example of expression: 5+4-3/6*2 # This results in the output value of 8.0, that can be stored into a variable\n",
    "Exmaple of statemtent: print(\"something\"); # This results in output of a value on the console, that cannot be stored into a variable"
   ]
  },
  {
   "cell_type": "raw",
   "id": "a3281ccd-5790-4c40-a986-9e5b78a9964b",
   "metadata": {},
   "source": [
    "6. After running the following code, what does the variable bacon contain?\n",
    "bacon = 22\n",
    "bacon + 1 \n",
    "\n",
    "Answer:\n",
    "\n",
    "The variable bacon is stored with the integer value 22, in the next statement bacon is added with the value 1, which return the value 23. But the value is not stored again in the variable, so the variable bacon contains the value 22."
   ]
  },
  {
   "cell_type": "raw",
   "id": "8cd5f65a-08e8-46c9-86f1-3819e5aaca09",
   "metadata": {},
   "source": [
    "7. What should the values of the following two terms be?\n",
    "'spam' + 'spamspam'\n",
    "'spam' * 3\n",
    "\n",
    "Answer:\n",
    "\n",
    "The first statement in the question is addition operation of two string values, which results in concatenation of both the strings and yields 'spamspamspam'\n",
    "The second statement in the question is muntiplication operation of a string value, resulting in addition(concat) of the same string 3 times with itself, yielding 'spamspamspam'"
   ]
  },
  {
   "cell_type": "raw",
   "id": "b99ea054-a339-48c6-b04c-ca4bc1dc9ad3",
   "metadata": {},
   "source": [
    "8. Why is eggs a valid variable name while 100 is invalid?\n",
    "\n",
    "Answer:\n",
    "\n",
    "According to variable naming convention, a variable name must start with an alphabet or an underscore(_). eggs is a valid variable name, since the name starts with an alphabet, whereas 100 is not, since it starts with a numeric value."
   ]
  },
  {
   "cell_type": "raw",
   "id": "e27de8b2-bab5-4e68-a568-5d30cca3112f",
   "metadata": {},
   "source": [
    "9. What three functions can be used to get the integer, floating-point number, or string\n",
    "version of a value?\n",
    "\n",
    "Answer:\n",
    "    \n",
    "The three functions used to convert(type cast) any value to this version is \n",
    "\n",
    "integer - int()\n",
    "floating-point number - float()\n",
    "string - str()"
   ]
  },
  {
   "cell_type": "raw",
   "id": "c3b807e3-d2b5-47bb-aff0-414ba0dab881",
   "metadata": {
    "slideshow": {
     "slide_type": "notes"
    },
    "tags": []
   },
   "source": [
    "10. Why does this expression cause an error? How can you fix it?\n",
    "\"I have eaten \" + 99 + \" burritos.\"\n",
    "\n",
    "Answer:\n",
    "\n",
    "The expression is an operation between strings and an integer. The string addition is only possible between strings, so this operation is invalid and caused an error.\n",
    "Fixing: Converting the integer value 99 to string value using the str() inbuild funtion solves the problem.\n",
    "\"I have eaten \" + str(99) + \" burritos.\" or \"I have eaten \" + \"99\" + \" burritos.\""
   ]
  }
 ],
 "metadata": {
  "kernelspec": {
   "display_name": "Python 3 (ipykernel)",
   "language": "python",
   "name": "python3"
  },
  "language_info": {
   "codemirror_mode": {
    "name": "ipython",
    "version": 3
   },
   "file_extension": ".py",
   "mimetype": "text/x-python",
   "name": "python",
   "nbconvert_exporter": "python",
   "pygments_lexer": "ipython3",
   "version": "3.10.6"
  }
 },
 "nbformat": 4,
 "nbformat_minor": 5
}
