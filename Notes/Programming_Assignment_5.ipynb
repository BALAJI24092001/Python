{
 "cells": [
  {
   "cell_type": "markdown",
   "id": "59641d12",
   "metadata": {},
   "source": [
    "# PYTHON BASICS - PROGRAMMING ASSIGNMENT 5"
   ]
  },
  {
   "cell_type": "code",
   "execution_count": 5,
   "id": "fd72c6dd",
   "metadata": {},
   "outputs": [
    {
     "name": "stdout",
     "output_type": "stream",
     "text": [
      "Enter a number : 54\n",
      "Enter a number : 24\n",
      "Lcm of the given two numbers 54 and 24 is : 216\n"
     ]
    }
   ],
   "source": [
    "# 1. Write a Python Program to Find LCM?\n",
    "\"\"\"\n",
    "Notes for the lcm problem\n",
    "~~~~~~~~~~~~~~~~~~~~~~~~~\n",
    "\n",
    "In arithmetic and number theory, the least common multiple, \n",
    "lowest common multiple, or smallest common multiple of two \n",
    "integers a and b, usually denoted by lcm, is the smallest \n",
    "positive integer that is divisible by both a and b.\n",
    "\"\"\"\n",
    "\n",
    "num1 = int(input(\"Enter a number : \"))\n",
    "num2 = int(input(\"Enter a number : \"))\n",
    "\n",
    "greater = 0\n",
    "if num1 > num2:\n",
    "    greater = num1\n",
    "else: greater = num2\n",
    "    \n",
    "while not (greater%num1 == 0 and greater%num2 == 0):\n",
    "    greater += 1\n",
    "\n",
    "print(f\"Lcm of the given two numbers {num1} and {num2} is : {greater}\")"
   ]
  },
  {
   "cell_type": "code",
   "execution_count": 6,
   "id": "72bf2d2d",
   "metadata": {},
   "outputs": [
    {
     "name": "stdout",
     "output_type": "stream",
     "text": [
      "Enter a number : 54\n",
      "Enter a nubmer : 24\n",
      "GCD of the given two numbers 54 and 24 is : 6\n"
     ]
    }
   ],
   "source": [
    "# 2. Write a Python Program to Find HCF?\n",
    "\n",
    "num1 = int(input(\"Enter a number : \"))\n",
    "num2 = int(input(\"Enter a nubmer : \"))\n",
    "\n",
    "least = 0\n",
    "if num1 > num2:\n",
    "    least = num2;\n",
    "else: least = num1\n",
    "    \n",
    "while not(num1%least == 0 and num2%least == 0):\n",
    "    least -= 1\n",
    "    \n",
    "print(f\"GCD of the given two numbers {num1} and {num2} is : {least}\")"
   ]
  },
  {
   "cell_type": "code",
   "execution_count": 1,
   "id": "bb5facbd",
   "metadata": {},
   "outputs": [
    {
     "name": "stdout",
     "output_type": "stream",
     "text": [
      "Enter a number : 16\n",
      "Binary of 16 is 0b10000\n",
      "Octal of 16 is 0o20\n",
      "Hexadecimal of 16 is 0x10\n"
     ]
    }
   ],
   "source": [
    "#  3. Write a Python Program to Convert Decimal to Binary, Octal and Hexadecimal?\n",
    "\n",
    "num = int(input(\"Enter a number : \"))\n",
    "print(f\"Binary of {num} is {bin(num)}\")\n",
    "print(f\"Octal of {num} is {oct(num)}\")\n",
    "print(f\"Hexadecimal of {num} is {hex(num)}\")"
   ]
  },
  {
   "cell_type": "code",
   "execution_count": 4,
   "id": "a0eb4896",
   "metadata": {},
   "outputs": [
    {
     "name": "stdout",
     "output_type": "stream",
     "text": [
      "Enter a character : A\n",
      "Ascii value of the given character is 65\n"
     ]
    }
   ],
   "source": [
    "# 4. Write a Python Program To Find ASCII value of a character?\n",
    "\n",
    "char = input(\"Enter a character : \")[0]\n",
    "print(f\"Ascii value of the given character is {ord(char)}\")"
   ]
  },
  {
   "cell_type": "code",
   "execution_count": 6,
   "id": "ced2d3d9",
   "metadata": {},
   "outputs": [
    {
     "name": "stdout",
     "output_type": "stream",
     "text": [
      "Enter two numbers : 1 2\n",
      "Select operation : \n",
      "1. Addition\n",
      "2. Subtraction\n",
      "3. Multiplication\n",
      "4. Division\n",
      "Enter a number to select operation : 1\n",
      "Addtion : 3\n"
     ]
    }
   ],
   "source": [
    "# 5. Write a Python Program to Make a Simple Calculator with 4 basic mathematical operations?\n",
    "a, b = [int(i) for i in input(\"Enter two numbers : \").split(\" \")]\n",
    "\n",
    "print(\"Select operation : \\n1. Addition\\n2. Subtraction\\n3. Multiplication\\n4. Division\")\n",
    "\n",
    "num = int(input(\"Enter a number to select operation : \"))\n",
    "\n",
    "if num == 1:\n",
    "      print(f\"Addtion : {a + b}\")\n",
    "elif num == 2:\n",
    "      print(f\"Subtraction : {a - b}\")\n",
    "elif num == 3:\n",
    "      print(f\"Multiplication : {a*b}\")\n",
    "elif num == 4:\n",
    "    print(f\"Division : {a/b}\")\n",
    "else:\n",
    "    print(\"Wrong operation\")"
   ]
  }
 ],
 "metadata": {
  "kernelspec": {
   "display_name": "Python 3 (ipykernel)",
   "language": "python",
   "name": "python3"
  },
  "language_info": {
   "codemirror_mode": {
    "name": "ipython",
    "version": 3
   },
   "file_extension": ".py",
   "mimetype": "text/x-python",
   "name": "python",
   "nbconvert_exporter": "python",
   "pygments_lexer": "ipython3",
   "version": "3.10.6"
  }
 },
 "nbformat": 4,
 "nbformat_minor": 5
}
