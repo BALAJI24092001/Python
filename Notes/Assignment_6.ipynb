{
 "cells": [
  {
   "cell_type": "markdown",
   "id": "da643b38-cca6-490c-9964-547403cdce44",
   "metadata": {},
   "source": [
    "# PYTHON BASICS - ASSIGNMENT 6"
   ]
  },
  {
   "cell_type": "markdown",
   "id": "a31e44d1-deca-4f67-a29c-19a7e8aa14df",
   "metadata": {},
   "source": [
    "#### 1. What are escape characters, and how do you use them?\n",
    "```\n",
    "Answer: \n",
    "\n",
    "A backslash is considered as an escape character, used to make a valid string out of illegal character insertions. Some use of the escape characters are \n",
    "1. \\n - new line\n",
    "2. \\t - tab space\n",
    "3. \\\\ - backslach\n",
    "4. \\' - single quote\n",
    "5. \\\" - double quote\n",
    "\n",
    "In a string bounded with single quotes, using double quotes make the totoal string un-valid. Instead, using the escape character make the string valid.\n",
    "```"
   ]
  },
  {
   "cell_type": "code",
   "execution_count": null,
   "id": "c361f4aa-5432-44b8-aa25-6197354239c7",
   "metadata": {},
   "outputs": [],
   "source": []
  },
  {
   "cell_type": "markdown",
   "id": "b90dc97f-83f5-4557-95e8-5e2828540350",
   "metadata": {},
   "source": [
    "#### 2. What do the escape characters n and t stand for?\n",
    "```\n",
    "Answer:\n",
    "\n",
    "The escape characters n and t stand for \n",
    "1. n - new line\n",
    "2. t - tab space\n",
    "```"
   ]
  },
  {
   "cell_type": "code",
   "execution_count": null,
   "id": "f3714273-6959-44a2-a43d-07f400c881ca",
   "metadata": {},
   "outputs": [],
   "source": []
  },
  {
   "cell_type": "markdown",
   "id": "d1c86f8e-44bd-41b4-b41b-28732c099634",
   "metadata": {},
   "source": [
    "#### 3. What is the way to include backslash characters in a string?\n",
    "```\n",
    "Answer:\n",
    "\n",
    "Using a backslach character is invalid in python strings. Insted to insert a backslash in a string, we can use double backslash.\n",
    "\n",
    "Example: \n",
    "print(\"Hey \\\\there!\\\\\");\n",
    "```"
   ]
  },
  {
   "cell_type": "code",
   "execution_count": 1,
   "id": "ffc23911-69bc-423d-9593-c5c2e78b81d2",
   "metadata": {},
   "outputs": [
    {
     "name": "stdout",
     "output_type": "stream",
     "text": [
      "Hey \\there!\\\n"
     ]
    }
   ],
   "source": [
    "print(\"Hey \\\\there!\\\\\");\n"
   ]
  },
  {
   "cell_type": "code",
   "execution_count": null,
   "id": "ac36c6b6-1f4f-4269-853a-efdc19a75a30",
   "metadata": {},
   "outputs": [],
   "source": []
  },
  {
   "cell_type": "markdown",
   "id": "770182d1-e0b8-4ead-9922-523b73359fd8",
   "metadata": {},
   "source": [
    "#### 4. The string &quot;Howl&#39;s Moving Castle&quot; is a correct value. Why isn&#39;t the single quote character in the word Howl&#39;s not escaped a problem?\n",
    "```\n",
    "Answer:\n",
    "\n",
    "The string \"Howl's Moving Castle\" is made with the dobule quotes, so there is problem in using a single quote in string. Whereas if we are using a string with single quotes, then we need to use the escape character to use a single quote in the string.\n",
    "```"
   ]
  },
  {
   "cell_type": "code",
   "execution_count": null,
   "id": "9fe43a1e",
   "metadata": {},
   "outputs": [],
   "source": []
  },
  {
   "cell_type": "markdown",
   "id": "32f58ac5",
   "metadata": {},
   "source": []
  }
 ],
 "metadata": {
  "kernelspec": {
   "display_name": "Python 3 (ipykernel)",
   "language": "python",
   "name": "python3"
  },
  "language_info": {
   "codemirror_mode": {
    "name": "ipython",
    "version": 3
   },
   "file_extension": ".py",
   "mimetype": "text/x-python",
   "name": "python",
   "nbconvert_exporter": "python",
   "pygments_lexer": "ipython3",
   "version": "3.10.6"
  }
 },
 "nbformat": 4,
 "nbformat_minor": 5
}
