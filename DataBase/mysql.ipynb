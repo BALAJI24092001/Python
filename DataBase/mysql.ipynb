{
 "cells": [
  {
   "cell_type": "code",
   "execution_count": 1,
   "metadata": {},
   "outputs": [],
   "source": [
    "%%capture\n",
    "!pip3 install mysql-connector-python pandas numpy"
   ]
  },
  {
   "cell_type": "code",
   "execution_count": 2,
   "metadata": {},
   "outputs": [],
   "source": [
    "import pandas as pd\n",
    "import numpy as np"
   ]
  },
  {
   "cell_type": "code",
   "execution_count": 3,
   "metadata": {},
   "outputs": [],
   "source": [
    "import mysql.connector as conn"
   ]
  },
  {
   "cell_type": "code",
   "execution_count": 4,
   "metadata": {},
   "outputs": [],
   "source": [
    "mydb = conn.connect(host='localhost', user='user', passwd='password')"
   ]
  },
  {
   "cell_type": "code",
   "execution_count": 5,
   "metadata": {},
   "outputs": [],
   "source": [
    "cur = mydb.cursor()"
   ]
  },
  {
   "cell_type": "code",
   "execution_count": 6,
   "metadata": {},
   "outputs": [],
   "source": [
    "cur.execute(\"show databases;\")"
   ]
  },
  {
   "cell_type": "code",
   "execution_count": 7,
   "metadata": {},
   "outputs": [
    {
     "data": {
      "text/plain": [
       "[('information_schema',),\n",
       " ('mysql',),\n",
       " ('newdb',),\n",
       " ('performance_schema',),\n",
       " ('sakila',),\n",
       " ('sys',),\n",
       " ('world',)]"
      ]
     },
     "execution_count": 7,
     "metadata": {},
     "output_type": "execute_result"
    }
   ],
   "source": [
    "cur.fetchall()"
   ]
  },
  {
   "cell_type": "code",
   "execution_count": 8,
   "metadata": {},
   "outputs": [],
   "source": [
    "cur.execute(\"use mysql\")"
   ]
  },
  {
   "cell_type": "code",
   "execution_count": 9,
   "metadata": {},
   "outputs": [],
   "source": [
    "cur.execute(\"show tables;\")"
   ]
  },
  {
   "cell_type": "code",
   "execution_count": 10,
   "metadata": {},
   "outputs": [
    {
     "data": {
      "text/plain": [
       "[('columns_priv',),\n",
       " ('component',),\n",
       " ('db',),\n",
       " ('default_roles',),\n",
       " ('engine_cost',),\n",
       " ('func',),\n",
       " ('general_log',),\n",
       " ('global_grants',),\n",
       " ('gtid_executed',),\n",
       " ('help_category',),\n",
       " ('help_keyword',),\n",
       " ('help_relation',),\n",
       " ('help_topic',),\n",
       " ('innodb_index_stats',),\n",
       " ('innodb_table_stats',),\n",
       " ('ndb_binlog_index',),\n",
       " ('password_history',),\n",
       " ('plugin',),\n",
       " ('procs_priv',),\n",
       " ('proxies_priv',),\n",
       " ('replication_asynchronous_connection_failover',),\n",
       " ('replication_asynchronous_connection_failover_managed',),\n",
       " ('replication_group_configuration_version',),\n",
       " ('replication_group_member_actions',),\n",
       " ('role_edges',),\n",
       " ('server_cost',),\n",
       " ('servers',),\n",
       " ('slave_master_info',),\n",
       " ('slave_relay_log_info',),\n",
       " ('slave_worker_info',),\n",
       " ('slow_log',),\n",
       " ('tables_priv',),\n",
       " ('time_zone',),\n",
       " ('time_zone_leap_second',),\n",
       " ('time_zone_name',),\n",
       " ('time_zone_transition',),\n",
       " ('time_zone_transition_type',),\n",
       " ('user',)]"
      ]
     },
     "execution_count": 10,
     "metadata": {},
     "output_type": "execute_result"
    }
   ],
   "source": [
    "cur.fetchall()"
   ]
  },
  {
   "cell_type": "code",
   "execution_count": 11,
   "metadata": {},
   "outputs": [],
   "source": [
    "cur.execute(\"DESCRIBE mysql.user\")"
   ]
  },
  {
   "cell_type": "code",
   "execution_count": 12,
   "metadata": {},
   "outputs": [],
   "source": [
    "cols = cur.fetchall()"
   ]
  },
  {
   "cell_type": "code",
   "execution_count": 13,
   "metadata": {},
   "outputs": [],
   "source": [
    "cols = np.array(cols)"
   ]
  },
  {
   "cell_type": "code",
   "execution_count": 14,
   "metadata": {},
   "outputs": [
    {
     "data": {
      "text/plain": [
       "(51, 6)"
      ]
     },
     "execution_count": 14,
     "metadata": {},
     "output_type": "execute_result"
    }
   ],
   "source": [
    "cols.shape"
   ]
  },
  {
   "cell_type": "code",
   "execution_count": 15,
   "metadata": {},
   "outputs": [],
   "source": [
    "cols = cols[:,0]"
   ]
  },
  {
   "cell_type": "code",
   "execution_count": 16,
   "metadata": {},
   "outputs": [],
   "source": [
    "cur.execute(\"select * from mysql.user\")"
   ]
  },
  {
   "cell_type": "code",
   "execution_count": 17,
   "metadata": {},
   "outputs": [],
   "source": [
    "val = cur.fetchall()"
   ]
  },
  {
   "cell_type": "code",
   "execution_count": 18,
   "metadata": {},
   "outputs": [
    {
     "data": {
      "text/plain": [
       "[('localhost',\n",
       "  'mysql.infoschema',\n",
       "  'Y',\n",
       "  'N',\n",
       "  'N',\n",
       "  'N',\n",
       "  'N',\n",
       "  'N',\n",
       "  'N',\n",
       "  'N',\n",
       "  'N',\n",
       "  'N',\n",
       "  'N',\n",
       "  'N',\n",
       "  'N',\n",
       "  'N',\n",
       "  'N',\n",
       "  'N',\n",
       "  'N',\n",
       "  'N',\n",
       "  'N',\n",
       "  'N',\n",
       "  'N',\n",
       "  'N',\n",
       "  'N',\n",
       "  'N',\n",
       "  'N',\n",
       "  'N',\n",
       "  'N',\n",
       "  'N',\n",
       "  'N',\n",
       "  '',\n",
       "  b'',\n",
       "  b'',\n",
       "  b'',\n",
       "  0,\n",
       "  0,\n",
       "  0,\n",
       "  0,\n",
       "  'caching_sha2_password',\n",
       "  '$A$005$THISISACOMBINATIONOFINVALIDSALTANDPASSWORDTHATMUSTNEVERBRBEUSED',\n",
       "  'N',\n",
       "  datetime.datetime(2024, 7, 8, 13, 13, 28),\n",
       "  None,\n",
       "  'Y',\n",
       "  'N',\n",
       "  'N',\n",
       "  None,\n",
       "  None,\n",
       "  None,\n",
       "  None),\n",
       " ('localhost',\n",
       "  'mysql.session',\n",
       "  'N',\n",
       "  'N',\n",
       "  'N',\n",
       "  'N',\n",
       "  'N',\n",
       "  'N',\n",
       "  'N',\n",
       "  'Y',\n",
       "  'N',\n",
       "  'N',\n",
       "  'N',\n",
       "  'N',\n",
       "  'N',\n",
       "  'N',\n",
       "  'N',\n",
       "  'Y',\n",
       "  'N',\n",
       "  'N',\n",
       "  'N',\n",
       "  'N',\n",
       "  'N',\n",
       "  'N',\n",
       "  'N',\n",
       "  'N',\n",
       "  'N',\n",
       "  'N',\n",
       "  'N',\n",
       "  'N',\n",
       "  'N',\n",
       "  '',\n",
       "  b'',\n",
       "  b'',\n",
       "  b'',\n",
       "  0,\n",
       "  0,\n",
       "  0,\n",
       "  0,\n",
       "  'caching_sha2_password',\n",
       "  '$A$005$THISISACOMBINATIONOFINVALIDSALTANDPASSWORDTHATMUSTNEVERBRBEUSED',\n",
       "  'N',\n",
       "  datetime.datetime(2024, 7, 8, 13, 13, 28),\n",
       "  None,\n",
       "  'Y',\n",
       "  'N',\n",
       "  'N',\n",
       "  None,\n",
       "  None,\n",
       "  None,\n",
       "  None),\n",
       " ('localhost',\n",
       "  'mysql.sys',\n",
       "  'N',\n",
       "  'N',\n",
       "  'N',\n",
       "  'N',\n",
       "  'N',\n",
       "  'N',\n",
       "  'N',\n",
       "  'N',\n",
       "  'N',\n",
       "  'N',\n",
       "  'N',\n",
       "  'N',\n",
       "  'N',\n",
       "  'N',\n",
       "  'N',\n",
       "  'N',\n",
       "  'N',\n",
       "  'N',\n",
       "  'N',\n",
       "  'N',\n",
       "  'N',\n",
       "  'N',\n",
       "  'N',\n",
       "  'N',\n",
       "  'N',\n",
       "  'N',\n",
       "  'N',\n",
       "  'N',\n",
       "  'N',\n",
       "  '',\n",
       "  b'',\n",
       "  b'',\n",
       "  b'',\n",
       "  0,\n",
       "  0,\n",
       "  0,\n",
       "  0,\n",
       "  'caching_sha2_password',\n",
       "  '$A$005$THISISACOMBINATIONOFINVALIDSALTANDPASSWORDTHATMUSTNEVERBRBEUSED',\n",
       "  'N',\n",
       "  datetime.datetime(2024, 7, 8, 13, 13, 28),\n",
       "  None,\n",
       "  'Y',\n",
       "  'N',\n",
       "  'N',\n",
       "  None,\n",
       "  None,\n",
       "  None,\n",
       "  None),\n",
       " ('localhost',\n",
       "  'root',\n",
       "  'Y',\n",
       "  'Y',\n",
       "  'Y',\n",
       "  'Y',\n",
       "  'Y',\n",
       "  'Y',\n",
       "  'Y',\n",
       "  'Y',\n",
       "  'Y',\n",
       "  'Y',\n",
       "  'Y',\n",
       "  'Y',\n",
       "  'Y',\n",
       "  'Y',\n",
       "  'Y',\n",
       "  'Y',\n",
       "  'Y',\n",
       "  'Y',\n",
       "  'Y',\n",
       "  'Y',\n",
       "  'Y',\n",
       "  'Y',\n",
       "  'Y',\n",
       "  'Y',\n",
       "  'Y',\n",
       "  'Y',\n",
       "  'Y',\n",
       "  'Y',\n",
       "  'Y',\n",
       "  '',\n",
       "  b'',\n",
       "  b'',\n",
       "  b'',\n",
       "  0,\n",
       "  0,\n",
       "  0,\n",
       "  0,\n",
       "  'caching_sha2_password',\n",
       "  '$A$005$5F\\x10\\\\>r0\\x11;(\\x19`\\\\\\x0f3b\\x01|\\x16[AaGIfRet1v4A/dvVjGk.Om8npB/cJ.5oSMEFKUs8mQ5',\n",
       "  'N',\n",
       "  datetime.datetime(2024, 7, 8, 13, 13, 31),\n",
       "  None,\n",
       "  'N',\n",
       "  'Y',\n",
       "  'Y',\n",
       "  None,\n",
       "  None,\n",
       "  None,\n",
       "  None)]"
      ]
     },
     "execution_count": 18,
     "metadata": {},
     "output_type": "execute_result"
    }
   ],
   "source": [
    "val"
   ]
  },
  {
   "cell_type": "code",
   "execution_count": 19,
   "metadata": {},
   "outputs": [],
   "source": [
    "cur.execute(\"select * from mysql.user\")"
   ]
  },
  {
   "cell_type": "code",
   "execution_count": 20,
   "metadata": {},
   "outputs": [
    {
     "data": {
      "text/html": [
       "<div>\n",
       "<style scoped>\n",
       "    .dataframe tbody tr th:only-of-type {\n",
       "        vertical-align: middle;\n",
       "    }\n",
       "\n",
       "    .dataframe tbody tr th {\n",
       "        vertical-align: top;\n",
       "    }\n",
       "\n",
       "    .dataframe thead th {\n",
       "        text-align: right;\n",
       "    }\n",
       "</style>\n",
       "<table border=\"1\" class=\"dataframe\">\n",
       "  <thead>\n",
       "    <tr style=\"text-align: right;\">\n",
       "      <th></th>\n",
       "      <th>Host</th>\n",
       "      <th>User</th>\n",
       "      <th>Select_priv</th>\n",
       "      <th>Insert_priv</th>\n",
       "      <th>Update_priv</th>\n",
       "      <th>Delete_priv</th>\n",
       "      <th>Create_priv</th>\n",
       "      <th>Drop_priv</th>\n",
       "      <th>Reload_priv</th>\n",
       "      <th>Shutdown_priv</th>\n",
       "      <th>...</th>\n",
       "      <th>password_expired</th>\n",
       "      <th>password_last_changed</th>\n",
       "      <th>password_lifetime</th>\n",
       "      <th>account_locked</th>\n",
       "      <th>Create_role_priv</th>\n",
       "      <th>Drop_role_priv</th>\n",
       "      <th>Password_reuse_history</th>\n",
       "      <th>Password_reuse_time</th>\n",
       "      <th>Password_require_current</th>\n",
       "      <th>User_attributes</th>\n",
       "    </tr>\n",
       "  </thead>\n",
       "  <tbody>\n",
       "    <tr>\n",
       "      <th>0</th>\n",
       "      <td>localhost</td>\n",
       "      <td>mysql.infoschema</td>\n",
       "      <td>Y</td>\n",
       "      <td>N</td>\n",
       "      <td>N</td>\n",
       "      <td>N</td>\n",
       "      <td>N</td>\n",
       "      <td>N</td>\n",
       "      <td>N</td>\n",
       "      <td>N</td>\n",
       "      <td>...</td>\n",
       "      <td>N</td>\n",
       "      <td>2024-07-08 13:13:28</td>\n",
       "      <td>None</td>\n",
       "      <td>Y</td>\n",
       "      <td>N</td>\n",
       "      <td>N</td>\n",
       "      <td>None</td>\n",
       "      <td>None</td>\n",
       "      <td>None</td>\n",
       "      <td>None</td>\n",
       "    </tr>\n",
       "    <tr>\n",
       "      <th>1</th>\n",
       "      <td>localhost</td>\n",
       "      <td>mysql.session</td>\n",
       "      <td>N</td>\n",
       "      <td>N</td>\n",
       "      <td>N</td>\n",
       "      <td>N</td>\n",
       "      <td>N</td>\n",
       "      <td>N</td>\n",
       "      <td>N</td>\n",
       "      <td>Y</td>\n",
       "      <td>...</td>\n",
       "      <td>N</td>\n",
       "      <td>2024-07-08 13:13:28</td>\n",
       "      <td>None</td>\n",
       "      <td>Y</td>\n",
       "      <td>N</td>\n",
       "      <td>N</td>\n",
       "      <td>None</td>\n",
       "      <td>None</td>\n",
       "      <td>None</td>\n",
       "      <td>None</td>\n",
       "    </tr>\n",
       "    <tr>\n",
       "      <th>2</th>\n",
       "      <td>localhost</td>\n",
       "      <td>mysql.sys</td>\n",
       "      <td>N</td>\n",
       "      <td>N</td>\n",
       "      <td>N</td>\n",
       "      <td>N</td>\n",
       "      <td>N</td>\n",
       "      <td>N</td>\n",
       "      <td>N</td>\n",
       "      <td>N</td>\n",
       "      <td>...</td>\n",
       "      <td>N</td>\n",
       "      <td>2024-07-08 13:13:28</td>\n",
       "      <td>None</td>\n",
       "      <td>Y</td>\n",
       "      <td>N</td>\n",
       "      <td>N</td>\n",
       "      <td>None</td>\n",
       "      <td>None</td>\n",
       "      <td>None</td>\n",
       "      <td>None</td>\n",
       "    </tr>\n",
       "    <tr>\n",
       "      <th>3</th>\n",
       "      <td>localhost</td>\n",
       "      <td>root</td>\n",
       "      <td>Y</td>\n",
       "      <td>Y</td>\n",
       "      <td>Y</td>\n",
       "      <td>Y</td>\n",
       "      <td>Y</td>\n",
       "      <td>Y</td>\n",
       "      <td>Y</td>\n",
       "      <td>Y</td>\n",
       "      <td>...</td>\n",
       "      <td>N</td>\n",
       "      <td>2024-07-08 13:13:31</td>\n",
       "      <td>None</td>\n",
       "      <td>N</td>\n",
       "      <td>Y</td>\n",
       "      <td>Y</td>\n",
       "      <td>None</td>\n",
       "      <td>None</td>\n",
       "      <td>None</td>\n",
       "      <td>None</td>\n",
       "    </tr>\n",
       "  </tbody>\n",
       "</table>\n",
       "<p>4 rows × 51 columns</p>\n",
       "</div>"
      ],
      "text/plain": [
       "        Host              User Select_priv Insert_priv Update_priv  \\\n",
       "0  localhost  mysql.infoschema           Y           N           N   \n",
       "1  localhost     mysql.session           N           N           N   \n",
       "2  localhost         mysql.sys           N           N           N   \n",
       "3  localhost              root           Y           Y           Y   \n",
       "\n",
       "  Delete_priv Create_priv Drop_priv Reload_priv Shutdown_priv  ...  \\\n",
       "0           N           N         N           N             N  ...   \n",
       "1           N           N         N           N             Y  ...   \n",
       "2           N           N         N           N             N  ...   \n",
       "3           Y           Y         Y           Y             Y  ...   \n",
       "\n",
       "  password_expired password_last_changed password_lifetime account_locked  \\\n",
       "0                N   2024-07-08 13:13:28              None              Y   \n",
       "1                N   2024-07-08 13:13:28              None              Y   \n",
       "2                N   2024-07-08 13:13:28              None              Y   \n",
       "3                N   2024-07-08 13:13:31              None              N   \n",
       "\n",
       "  Create_role_priv Drop_role_priv Password_reuse_history Password_reuse_time  \\\n",
       "0                N              N                   None                None   \n",
       "1                N              N                   None                None   \n",
       "2                N              N                   None                None   \n",
       "3                Y              Y                   None                None   \n",
       "\n",
       "  Password_require_current User_attributes  \n",
       "0                     None            None  \n",
       "1                     None            None  \n",
       "2                     None            None  \n",
       "3                     None            None  \n",
       "\n",
       "[4 rows x 51 columns]"
      ]
     },
     "execution_count": 20,
     "metadata": {},
     "output_type": "execute_result"
    }
   ],
   "source": [
    "pd.DataFrame(cur.fetchall(), columns=cols)"
   ]
  },
  {
   "cell_type": "code",
   "execution_count": 21,
   "metadata": {},
   "outputs": [
    {
     "data": {
      "text/html": [
       "<div>\n",
       "<style scoped>\n",
       "    .dataframe tbody tr th:only-of-type {\n",
       "        vertical-align: middle;\n",
       "    }\n",
       "\n",
       "    .dataframe tbody tr th {\n",
       "        vertical-align: top;\n",
       "    }\n",
       "\n",
       "    .dataframe thead th {\n",
       "        text-align: right;\n",
       "    }\n",
       "</style>\n",
       "<table border=\"1\" class=\"dataframe\">\n",
       "  <thead>\n",
       "    <tr style=\"text-align: right;\">\n",
       "      <th></th>\n",
       "    </tr>\n",
       "  </thead>\n",
       "  <tbody>\n",
       "  </tbody>\n",
       "</table>\n",
       "</div>"
      ],
      "text/plain": [
       "Empty DataFrame\n",
       "Columns: []\n",
       "Index: []"
      ]
     },
     "execution_count": 21,
     "metadata": {},
     "output_type": "execute_result"
    }
   ],
   "source": [
    "pd.DataFrame(cur.fetchall())"
   ]
  }
 ],
 "metadata": {
  "kernelspec": {
   "display_name": "Python 3 (ipykernel)",
   "language": "python",
   "name": "python3"
  },
  "language_info": {
   "codemirror_mode": {
    "name": "ipython",
    "version": 3
   },
   "file_extension": ".py",
   "mimetype": "text/x-python",
   "name": "python",
   "nbconvert_exporter": "python",
   "pygments_lexer": "ipython3",
   "version": "3.11.9"
  },
  "vscode": {
   "interpreter": {
    "hash": "e7370f93d1d0cde622a1f8e1c04877d8463912d04d973331ad4851f04de6915a"
   }
  }
 },
 "nbformat": 4,
 "nbformat_minor": 4
}
