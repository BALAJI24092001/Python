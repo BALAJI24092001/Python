{
 "cells": [
  {
   "cell_type": "code",
   "execution_count": 1,
   "source": [
    "import sqlite3\r\n",
    "\r\n",
    "# con = sqlite3.connect(\":memory:\") #To create a connection in the memory\r\n",
    "con = sqlite3.connect(\"notes_customers.db\")\r\n",
    "\r\n",
    "#create a cursor\r\n",
    "c = con.cursor()\r\n"
   ],
   "outputs": [],
   "metadata": {}
  },
  {
   "cell_type": "code",
   "execution_count": null,
   "source": [
    "#Create a table\r\n",
    "c.execute(\"\"\" CREATE TABLE custOmers(\r\n",
    "    first_name TEXT,\r\n",
    "    last_name TEXT,\r\n",
    "    email TEXT\r\n",
    ") \r\n",
    "\"\"\")\r\n",
    "#DataTypes\r\n",
    "# NULL\r\n",
    "# INTEGERS\r\n",
    "# REAL\r\n",
    "# TEXT\r\n",
    "# BLOB\r\n",
    "\r\n",
    "\r\n",
    "# # commit our command\r\n",
    "# con.commit()\r\n",
    "\r\n",
    "# # colse our connection\r\n",
    "# con.close()\r\n",
    "\r\n",
    "# commit and close functions should be used at the end of the program.\r\n"
   ],
   "outputs": [],
   "metadata": {}
  }
 ],
 "metadata": {
  "orig_nbformat": 4,
  "language_info": {
   "name": "python",
   "version": "3.9.6",
   "mimetype": "text/x-python",
   "codemirror_mode": {
    "name": "ipython",
    "version": 3
   },
   "pygments_lexer": "ipython3",
   "nbconvert_exporter": "python",
   "file_extension": ".py"
  },
  "kernelspec": {
   "name": "python3",
   "display_name": "Python 3.9.6 64-bit"
  },
  "interpreter": {
   "hash": "1af971887fa2492a4895d1837a603c8ac5e58ff81b94fae501ce5c14fab91b1a"
  }
 },
 "nbformat": 4,
 "nbformat_minor": 2
}