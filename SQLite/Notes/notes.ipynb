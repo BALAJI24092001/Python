{
 "cells": [
  {
   "cell_type": "code",
   "execution_count": 1,
   "source": [
    "import sqlite3\r\n",
    "\r\n",
    "# con = sqlite3.connect(\":memory:\") #To create a connection in the memory\r\n",
    "con = sqlite3.connect(\"notes_customers.db\")\r\n",
    "\r\n",
    "#create a cursor\r\n",
    "c = con.cursor()\r\n"
   ],
   "outputs": [],
   "metadata": {}
  },
  {
   "cell_type": "code",
   "execution_count": 2,
   "source": [
    "#Create a table\r\n",
    "c.execute(\"\"\" CREATE TABLE custOmers(\r\n",
    "    first_name TEXT,\r\n",
    "    last_name TEXT,\r\n",
    "    email TEXT\r\n",
    ") \r\n",
    "\"\"\")\r\n",
    "\r\n"
   ],
   "outputs": [
    {
     "output_type": "execute_result",
     "data": {
      "text/plain": [
       "<sqlite3.Cursor at 0x2a3a30b1ab0>"
      ]
     },
     "metadata": {},
     "execution_count": 2
    }
   ],
   "metadata": {}
  },
  {
   "cell_type": "markdown",
   "source": [
    "## DataTypes\r\n",
    "\r\n",
    "NULL\r\n",
    "\r\n",
    "INTEGERS\r\n",
    "\r\n",
    "REAL\r\n",
    "\r\n",
    "TEXT\r\n",
    "\r\n",
    "BLOB\r\n",
    "\r\n",
    "\r\n",
    "## commit our command\r\n",
    "\r\n",
    "con.commit()\r\n",
    "\r\n",
    "## colse our connection\r\n",
    "\r\n",
    "con.close()\r\n",
    "\r\n",
    "commit and close functions should be used at the end of the program."
   ],
   "metadata": {}
  },
  {
   "cell_type": "code",
   "execution_count": 3,
   "source": [
    "# import sqlite3\r\n",
    "# con = sqlite3.connect(\"customers.db\")\r\n",
    "# c = con.cursor()\r\n",
    "\r\n",
    "# Use this execute statement to insert data into database.\r\n",
    "c.execute(\"\"\"\r\n",
    "INSERT \r\n",
    "INTO customers \r\n",
    "VALUES(\"BALAJI\", \"DEGA\", \"dbalajivaraprasad@gmail.com\"\r\n",
    ") \r\n",
    "\"\"\")\r\n",
    "# con.commit()\r\n",
    "# con.close()"
   ],
   "outputs": [
    {
     "output_type": "execute_result",
     "data": {
      "text/plain": [
       "<sqlite3.Cursor at 0x2a3a30b1ab0>"
      ]
     },
     "metadata": {},
     "execution_count": 3
    }
   ],
   "metadata": {}
  },
  {
   "cell_type": "code",
   "execution_count": 4,
   "source": [
    "# To enter many entries at one time we can use the below method.\r\n",
    "\r\n",
    "many_coustemers = [\r\n",
    "    ('wes', 'brown', 'wes@yahoo.com'),\r\n",
    "    ('abrahim', 'moron', 'abmoron@hotmail.com'),\r\n",
    "    ('ramesh','ango', 'angoramesh@gmail.com')\r\n",
    "]\r\n",
    "\r\n",
    "c.executemany(\"INSERT INTO coustomers VALUES(?,?,?)\", many_coustemers)"
   ],
   "outputs": [
    {
     "output_type": "error",
     "ename": "OperationalError",
     "evalue": "no such table: coustomers",
     "traceback": [
      "\u001b[1;31m---------------------------------------------------------------------------\u001b[0m",
      "\u001b[1;31mOperationalError\u001b[0m                          Traceback (most recent call last)",
      "\u001b[1;32m~\\AppData\\Local\\Temp/ipykernel_11772/1608534994.py\u001b[0m in \u001b[0;36m<module>\u001b[1;34m\u001b[0m\n\u001b[0;32m      7\u001b[0m ]\n\u001b[0;32m      8\u001b[0m \u001b[1;33m\u001b[0m\u001b[0m\n\u001b[1;32m----> 9\u001b[1;33m \u001b[0mc\u001b[0m\u001b[1;33m.\u001b[0m\u001b[0mexecutemany\u001b[0m\u001b[1;33m(\u001b[0m\u001b[1;34m\"INSERT INTO coustomers VALUES(?,?,?)\"\u001b[0m\u001b[1;33m,\u001b[0m \u001b[0mmany_coustemers\u001b[0m\u001b[1;33m)\u001b[0m\u001b[1;33m\u001b[0m\u001b[1;33m\u001b[0m\u001b[0m\n\u001b[0m",
      "\u001b[1;31mOperationalError\u001b[0m: no such table: coustomers"
     ]
    }
   ],
   "metadata": {}
  }
 ],
 "metadata": {
  "orig_nbformat": 4,
  "language_info": {
   "name": "python",
   "version": "3.9.6",
   "mimetype": "text/x-python",
   "codemirror_mode": {
    "name": "ipython",
    "version": 3
   },
   "pygments_lexer": "ipython3",
   "nbconvert_exporter": "python",
   "file_extension": ".py"
  },
  "kernelspec": {
   "name": "python3",
   "display_name": "Python 3.9.6 64-bit"
  },
  "interpreter": {
   "hash": "1af971887fa2492a4895d1837a603c8ac5e58ff81b94fae501ce5c14fab91b1a"
  }
 },
 "nbformat": 4,
 "nbformat_minor": 2
}