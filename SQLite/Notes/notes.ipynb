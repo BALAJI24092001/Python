{
 "cells": [
  {
   "cell_type": "markdown",
   "source": [
    "# SQLite\r\n",
    "\r\n",
    "<hr>"
   ],
   "metadata": {}
  },
  {
   "cell_type": "code",
   "execution_count": 1,
   "source": [
    "import sqlite3\r\n",
    "\r\n",
    "# con = sqlite3.connect(\":memory:\") #To create a connection in the memory\r\n",
    "con = sqlite3.connect(\"notes_customers.db\")\r\n",
    "\r\n",
    "#create a cursor\r\n",
    "c = con.cursor()\r\n"
   ],
   "outputs": [],
   "metadata": {}
  },
  {
   "cell_type": "code",
   "execution_count": null,
   "source": [
    "#Create a table\r\n",
    "c.execute(\"\"\" CREATE TABLE customers(\r\n",
    "    first_name TEXT,\r\n",
    "    last_name TEXT,\r\n",
    "    email TEXT\r\n",
    ") \r\n",
    "\"\"\")\r\n",
    "\r\n"
   ],
   "outputs": [],
   "metadata": {}
  },
  {
   "cell_type": "markdown",
   "source": [
    "## DataTypes\r\n",
    "\r\n",
    "<hr>\r\n",
    "<b>\r\n",
    "\r\n",
    "NULL\r\n",
    "\r\n",
    "INTEGERS\r\n",
    "\r\n",
    "REAL\r\n",
    "\r\n",
    "TEXT\r\n",
    "\r\n",
    "BLOB\r\n",
    "\r\n",
    "\r\n",
    "#commit our command to the database\r\n",
    "con.commit()\r\n",
    "#colse our connection with the database and python\r\n",
    "con.close()\r\n",
    "\r\n",
    "commit and close functions should be used at the end of the program.</b>"
   ],
   "metadata": {}
  },
  {
   "cell_type": "code",
   "execution_count": null,
   "source": [
    "# import sqlite3\r\n",
    "# con = sqlite3.connect(\"customers.db\")\r\n",
    "# c = con.cursor()\r\n",
    "\r\n",
    "# Use this execute statement to insert data into database.\r\n",
    "c.execute(\"\"\"\r\n",
    "INSERT \r\n",
    "INTO customers \r\n",
    "VALUES(\"BALAJI\", \"DEGA\", \"dbalajivaraprasad@gmail.com\"\r\n",
    ") \r\n",
    "\"\"\")\r\n",
    "# con.commit()\r\n",
    "# con.close()"
   ],
   "outputs": [],
   "metadata": {}
  },
  {
   "cell_type": "code",
   "execution_count": null,
   "source": [
    "# To enter many entries at one time we can use the below method.\r\n",
    "\r\n",
    "many_customers = [\r\n",
    "    ('chak', 'yedav', 'cyed@yahoo.com'),\r\n",
    "    ('abrahim', 'moron', 'abmoron@hotmail.com'),\r\n",
    "    ('ramesh','ango', 'angoramesh@gmail.com')\r\n",
    "]\r\n",
    "\r\n",
    "# We use executemany funcion to input multiple entries at once. \r\n",
    "c.executemany(\"INSERT INTO customers VALUES(?,?,?)\", many_customers)\r\n",
    "\r\n",
    "# (?) is called a place holder, used when we are using/passing a variable to the commands"
   ],
   "outputs": [],
   "metadata": {}
  },
  {
   "cell_type": "code",
   "execution_count": null,
   "source": [
    "# Query out DATABASE\r\n",
    "\r\n",
    "c.execute(\"SELECT * FROM customers\")\r\n",
    "\r\n",
    "print(c.fetchall()) \r\n",
    "print(c.fetchone()) ## To fetch first row of the table.\r\n",
    "print(c.fetchmany(2)) ## To fetch 'number_of_entries's number of rows.\r\n"
   ],
   "outputs": [],
   "metadata": {}
  },
  {
   "cell_type": "markdown",
   "source": [
    "## Fetch Fucntions\r\n",
    "<hr>\r\n",
    "\r\n",
    "<b>\r\n",
    "\r\n",
    "c.fetchone() ## To fetch first row of the table.\r\n",
    "\r\n",
    "c.fetchmany(number_of_entries) ## To fetch 'number_of_entries's number of rows.\r\n",
    "\r\n",
    "print(c.fetchall()) # To Print all the rows as a list of tuples.\r\n",
    "\r\n",
    "print(c.fetchone()) # once the Cursor selects all the rows it will return to the next fetch function available. \r\n",
    "\r\n",
    "print(c.fetchmany(2)) # so the remaining fetch functions will return either NULL or an empty tuple or list.  </b>"
   ],
   "metadata": {}
  },
  {
   "cell_type": "code",
   "execution_count": null,
   "source": [
    "\r\n",
    "c.execute(\"SELECT * FROM customers\")\r\n",
    "\r\n",
    "print(c.fetchall()[0])\r\n",
    "# we can fetch specific row using [] and a even specific value using [][]. \r\n",
    "\r\n",
    "# WE can use all the loops and control statements to structure the data while printing on console."
   ],
   "outputs": [],
   "metadata": {}
  },
  {
   "cell_type": "code",
   "execution_count": null,
   "source": [
    "c.execute(\"\"\"\r\n",
    "UPDATE customers\r\n",
    "SET first_name = \"CHAKRADHAR\",last_name = \"GELLI\"\r\n",
    "WHERE first_name = \"chak\" AND last_name = \"yedav\"\r\n",
    "\"\"\")\r\n",
    "c.execute(\"\"\"\r\n",
    "UPDATE customers\r\n",
    "SET first_name = \"ABHIRAM\",last_name = \"AVALA\"\r\n",
    "WHERE first_name = \"abrahim\" AND last_name = \"moron\"\r\n",
    "\"\"\")"
   ],
   "outputs": [],
   "metadata": {}
  },
  {
   "cell_type": "code",
   "execution_count": null,
   "source": [
    "c.execute(\"\"\"\r\n",
    "DELETE FROM customers\r\n",
    "WHERE rowid = 4\r\n",
    "\"\"\")"
   ],
   "outputs": [],
   "metadata": {}
  },
  {
   "cell_type": "code",
   "execution_count": null,
   "source": [
    "con.commit()\r\n",
    "con.close()"
   ],
   "outputs": [],
   "metadata": {}
  }
 ],
 "metadata": {
  "orig_nbformat": 4,
  "language_info": {
   "name": "python",
   "version": "3.9.6",
   "mimetype": "text/x-python",
   "codemirror_mode": {
    "name": "ipython",
    "version": 3
   },
   "pygments_lexer": "ipython3",
   "nbconvert_exporter": "python",
   "file_extension": ".py"
  },
  "kernelspec": {
   "name": "python3",
   "display_name": "Python 3.9.6 64-bit"
  },
  "interpreter": {
   "hash": "1af971887fa2492a4895d1837a603c8ac5e58ff81b94fae501ce5c14fab91b1a"
  }
 },
 "nbformat": 4,
 "nbformat_minor": 2
}