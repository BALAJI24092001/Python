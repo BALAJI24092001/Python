{
 "cells": [
  {
   "cell_type": "markdown",
   "id": "6952172e",
   "metadata": {
    "toc": true
   },
   "source": [
    "<h1>Table of Contents<span class=\"tocSkip\"></span></h1>\n",
    "<div class=\"toc\"><ul class=\"toc-item\"><li><span><a href=\"#SAMPLING-QUESTION-3\" data-toc-modified-id=\"SAMPLING-QUESTION-3-1\"><span class=\"toc-item-num\">1&nbsp;&nbsp;</span>SAMPLING QUESTION 3</a></span><ul class=\"toc-item\"><li><span><a href=\"#Proportional-allocation\" data-toc-modified-id=\"Proportional-allocation-1.1\"><span class=\"toc-item-num\">1.1&nbsp;&nbsp;</span>Proportional allocation</a></span></li><li><span><a href=\"#Neymann-allocation\" data-toc-modified-id=\"Neymann-allocation-1.2\"><span class=\"toc-item-num\">1.2&nbsp;&nbsp;</span>Neymann allocation</a></span></li><li><span><a href=\"#Optimal-allocation\" data-toc-modified-id=\"Optimal-allocation-1.3\"><span class=\"toc-item-num\">1.3&nbsp;&nbsp;</span>Optimal allocation</a></span></li></ul></li><li><span><a href=\"#SAMPLING-QUESTION-4\" data-toc-modified-id=\"SAMPLING-QUESTION-4-2\"><span class=\"toc-item-num\">2&nbsp;&nbsp;</span>SAMPLING QUESTION 4</a></span></li><li><span><a href=\"#SAMPLING-QUESTION-5\" data-toc-modified-id=\"SAMPLING-QUESTION-5-3\"><span class=\"toc-item-num\">3&nbsp;&nbsp;</span>SAMPLING QUESTION 5</a></span></li></ul></div>"
   ]
  },
  {
   "cell_type": "code",
   "execution_count": 1,
   "id": "9598e0df-b1de-4bfb-97ae-cfc0063574af",
   "metadata": {},
   "outputs": [],
   "source": [
    "import pandas as pd\n",
    "import scipy.stats as stats\n",
    "import seaborn as sns"
   ]
  },
  {
   "cell_type": "code",
   "execution_count": 2,
   "id": "58fc25fb-5e36-4064-aa61-3eb637d970bb",
   "metadata": {},
   "outputs": [],
   "source": [
    "data = pd.read_csv(\"./biostat data.csv\")"
   ]
  },
  {
   "cell_type": "code",
   "execution_count": 3,
   "id": "96b3b269-4e0b-4b68-9d61-6b6c89c5c25d",
   "metadata": {},
   "outputs": [
    {
     "data": {
      "text/html": [
       "<div>\n",
       "<style scoped>\n",
       "    .dataframe tbody tr th:only-of-type {\n",
       "        vertical-align: middle;\n",
       "    }\n",
       "\n",
       "    .dataframe tbody tr th {\n",
       "        vertical-align: top;\n",
       "    }\n",
       "\n",
       "    .dataframe thead th {\n",
       "        text-align: right;\n",
       "    }\n",
       "</style>\n",
       "<table border=\"1\" class=\"dataframe\">\n",
       "  <thead>\n",
       "    <tr style=\"text-align: right;\">\n",
       "      <th></th>\n",
       "      <th>book</th>\n",
       "      <th>review</th>\n",
       "      <th>state</th>\n",
       "      <th>price</th>\n",
       "    </tr>\n",
       "  </thead>\n",
       "  <tbody>\n",
       "    <tr>\n",
       "      <th>0</th>\n",
       "      <td>R Made Easy</td>\n",
       "      <td>Excellent</td>\n",
       "      <td>TX</td>\n",
       "      <td>19.99</td>\n",
       "    </tr>\n",
       "    <tr>\n",
       "      <th>1</th>\n",
       "      <td>R For Dummies</td>\n",
       "      <td>Fair</td>\n",
       "      <td>NY</td>\n",
       "      <td>15.99</td>\n",
       "    </tr>\n",
       "    <tr>\n",
       "      <th>2</th>\n",
       "      <td>R Made Easy</td>\n",
       "      <td>Excellent</td>\n",
       "      <td>NY</td>\n",
       "      <td>19.99</td>\n",
       "    </tr>\n",
       "    <tr>\n",
       "      <th>3</th>\n",
       "      <td>R Made Easy</td>\n",
       "      <td>Poor</td>\n",
       "      <td>FL</td>\n",
       "      <td>19.99</td>\n",
       "    </tr>\n",
       "    <tr>\n",
       "      <th>4</th>\n",
       "      <td>Secrets Of R For Advanced Students</td>\n",
       "      <td>Great</td>\n",
       "      <td>Texas</td>\n",
       "      <td>50.00</td>\n",
       "    </tr>\n",
       "  </tbody>\n",
       "</table>\n",
       "</div>"
      ],
      "text/plain": [
       "                                 book     review  state  price\n",
       "0                         R Made Easy  Excellent     TX  19.99\n",
       "1                       R For Dummies       Fair     NY  15.99\n",
       "2                         R Made Easy  Excellent     NY  19.99\n",
       "3                         R Made Easy       Poor     FL  19.99\n",
       "4  Secrets Of R For Advanced Students      Great  Texas  50.00"
      ]
     },
     "execution_count": 3,
     "metadata": {},
     "output_type": "execute_result"
    }
   ],
   "source": [
    "data.head()"
   ]
  },
  {
   "cell_type": "code",
   "execution_count": 4,
   "id": "cf3b640c-6f7f-4f1d-80d1-7ba0fe21a570",
   "metadata": {},
   "outputs": [
    {
     "data": {
      "text/plain": [
       "31.287030000000005"
      ]
     },
     "execution_count": 4,
     "metadata": {},
     "output_type": "execute_result"
    }
   ],
   "source": [
    "data.price.mean()"
   ]
  },
  {
   "cell_type": "code",
   "execution_count": 5,
   "id": "eb63a120-29a8-4541-a6b2-825ce61abb94",
   "metadata": {},
   "outputs": [],
   "source": [
    "def bootstrap_ttest(orig, data: pd.Series, pop_mean, frac = 0.1, boos = 500) -> list:\n",
    "    \n",
    "    print(\"BOOTSTRAPING T TEST\".center(55))\n",
    "    print(\"-\"*55, \"\\n\")\n",
    "    pop_mean = data.mean()\n",
    "    info_str = \"\"\n",
    "    lst_t = list()\n",
    "    lst_p = list()\n",
    "    lst_r = list()\n",
    "    lst_sm = list()\n",
    "    lst_sd = list()\n",
    "    print(\"No. of BootStraps : \", boos)\n",
    "    print(\"Population size   : \", data.count())\n",
    "    print(\"Population Mean   : \", round(pop_mean, 5))\n",
    "    print(\"Sample Fraction   : \", int(frac*100), \"%\")\n",
    "    print(\"Sample size       : \", int(data.count()*frac))\n",
    "    print()\n",
    "    \n",
    "    for i in range(boos):\n",
    "        sam = data.sample(frac=frac)\n",
    "        t_stat, p_val = stats.mannwhitneyu(sam, data)\n",
    "        lst_sm.append(sam.mean())\n",
    "        lst_sd.append(sam.std())\n",
    "        lst_t.append(t_stat)\n",
    "        lst_p.append(p_val)\n",
    "        # print(stats.shapiro(sam))\n",
    "    info_str = info_str + \"\\033[1m\" + \"Sam Mean\".rjust(10) + \"Sam Std\".rjust(9) + \"T Val\".rjust(9) + \"   \"  +\"P Value\".rjust(8) + \"Result\".rjust(9) + \"\\033[0m\"\n",
    "    for i in range(boos):\n",
    "        result = \"Fail\" if lst_p[i] <= 0.05 else \"Pass\"\n",
    "        lst_r.append(result)\n",
    "        info_str = info_str + str( f\"{lst_sm[i]:3.4f}\").rjust(10) + str(f\"{lst_sd[i]:3.4f}\").rjust(10) + str(f\"{lst_t[i]:3.4f}\").rjust(10) + \"   \" + str(f\"{lst_p[i]:3.4f}\").rjust(6) + f\"{result}\".rjust(8)    \n",
    "        info_str = info_str + \"\\n\" + \"\\033[1m\" + \"Result counts\" + \"\\033[0m\"\n",
    "    print(stats.mannwhitneyu(lst_sm, orig))\n",
    "    print(pd.value_counts(lst_r))\n",
    "    \n",
    "    return([list(lst_t), list(lst_p), list(lst_r)])"
   ]
  },
  {
   "cell_type": "code",
   "execution_count": 6,
   "id": "6feef90b-8a9a-430c-85d0-06a01c6a402c",
   "metadata": {},
   "outputs": [
    {
     "name": "stdout",
     "output_type": "stream",
     "text": [
      "                  BOOTSTRAPING T TEST                  \n",
      "------------------------------------------------------- \n",
      "\n",
      "No. of BootStraps :  500\n",
      "Population size   :  200\n",
      "Population Mean   :  32.65245\n",
      "Sample Fraction   :  10 %\n",
      "Sample size       :  20\n",
      "\n",
      "MannwhitneyuResult(statistic=562840.0, pvalue=1.0917908601248771e-05)\n",
      "Pass    486\n",
      "Fail     14\n",
      "Name: count, dtype: int64\n"
     ]
    }
   ],
   "source": [
    "t_vals, p_vals, r_vals = bootstrap_ttest(orig = data.price, data = data.sample(frac=0.10).price, pop_mean=31.287030000000005, frac=0.1, boos=500)"
   ]
  },
  {
   "cell_type": "code",
   "execution_count": null,
   "id": "cb47ff08",
   "metadata": {},
   "outputs": [],
   "source": []
  },
  {
   "cell_type": "markdown",
   "id": "4db4d573",
   "metadata": {},
   "source": [
    "# SAMPLING QUESTION 3"
   ]
  },
  {
   "cell_type": "code",
   "execution_count": 7,
   "id": "ee48e930",
   "metadata": {},
   "outputs": [],
   "source": [
    "import numpy as np"
   ]
  },
  {
   "cell_type": "code",
   "execution_count": 8,
   "id": "50ac36ba",
   "metadata": {},
   "outputs": [],
   "source": [
    "Ni = np.array([500, 400, 300, 200, 100])\n",
    "ymean = np.array([80, 100, 120, 150, 200])\n",
    "Si = np.array([5.25, 10.75, 15.5, 20.5, 25])\n",
    "Ci = np.array([100, 100, 150, 175, 200])\n",
    "C0 = 10000\n",
    "C = 50000\n",
    "N = sum(Ni)\n",
    "Wi = Ni/N"
   ]
  },
  {
   "cell_type": "code",
   "execution_count": 9,
   "id": "34874773",
   "metadata": {},
   "outputs": [
    {
     "data": {
      "text/plain": [
       "array([500, 400, 300, 200, 100])"
      ]
     },
     "execution_count": 9,
     "metadata": {},
     "output_type": "execute_result"
    }
   ],
   "source": [
    "Ni"
   ]
  },
  {
   "cell_type": "code",
   "execution_count": 10,
   "id": "af0b7f8d",
   "metadata": {},
   "outputs": [
    {
     "data": {
      "text/plain": [
       "array([100, 100, 150, 175, 200])"
      ]
     },
     "execution_count": 10,
     "metadata": {},
     "output_type": "execute_result"
    }
   ],
   "source": [
    "Ci"
   ]
  },
  {
   "cell_type": "markdown",
   "id": "aff83442",
   "metadata": {},
   "source": [
    "## Proportional allocation"
   ]
  },
  {
   "cell_type": "code",
   "execution_count": 11,
   "id": "1176746e",
   "metadata": {},
   "outputs": [
    {
     "data": {
      "text/plain": [
       "array([33.33333333, 26.66666667, 30.        , 23.33333333, 13.33333333])"
      ]
     },
     "execution_count": 11,
     "metadata": {},
     "output_type": "execute_result"
    }
   ],
   "source": [
    "Ni*Ci/N"
   ]
  },
  {
   "cell_type": "code",
   "execution_count": 12,
   "id": "e6d3c75d",
   "metadata": {},
   "outputs": [
    {
     "data": {
      "text/plain": [
       "126.66666666666666"
      ]
     },
     "execution_count": 12,
     "metadata": {},
     "output_type": "execute_result"
    }
   ],
   "source": [
    "sum(Ni*Ci/N)"
   ]
  },
  {
   "cell_type": "code",
   "execution_count": 13,
   "id": "01a535d7",
   "metadata": {},
   "outputs": [
    {
     "data": {
      "text/plain": [
       "315"
      ]
     },
     "execution_count": 13,
     "metadata": {},
     "output_type": "execute_result"
    }
   ],
   "source": [
    "n = np.floor(40000/sum(Ni*Ci/N), )\n",
    "n = int(n)\n",
    "n"
   ]
  },
  {
   "cell_type": "code",
   "execution_count": 14,
   "id": "0d1a4fc8",
   "metadata": {},
   "outputs": [
    {
     "data": {
      "text/plain": [
       "array([105.,  84.,  63.,  42.,  21.])"
      ]
     },
     "execution_count": 14,
     "metadata": {},
     "output_type": "execute_result"
    }
   ],
   "source": [
    "ni = n*Ni/N # sample sizes for proportional allocation\n",
    "ni"
   ]
  },
  {
   "cell_type": "code",
   "execution_count": 15,
   "id": "54c835a4",
   "metadata": {},
   "outputs": [
    {
     "data": {
      "text/plain": [
       "0.07728624338624338"
      ]
     },
     "execution_count": 15,
     "metadata": {},
     "output_type": "execute_result"
    }
   ],
   "source": [
    "(Wi[1]**2) * ( (1/ni[1]) - (1/Ni[1]) ) * (Si[1]**2)"
   ]
  },
  {
   "cell_type": "code",
   "execution_count": 16,
   "id": "2862233c",
   "metadata": {},
   "outputs": [
    {
     "data": {
      "text/plain": [
       "0.465859656084656"
      ]
     },
     "execution_count": 16,
     "metadata": {},
     "output_type": "execute_result"
    }
   ],
   "source": [
    "var = np.sum([Wi[i]**2*((1/ni[i]) - (1/Ni[i]))*Si[i]**2 for i in range(len(Ni))])\n",
    "var # Variance"
   ]
  },
  {
   "cell_type": "markdown",
   "id": "b5e42420",
   "metadata": {},
   "source": [
    "## Neymann allocation"
   ]
  },
  {
   "cell_type": "code",
   "execution_count": 17,
   "id": "ed8bcfeb",
   "metadata": {},
   "outputs": [
    {
     "data": {
      "text/plain": [
       "array([2625., 4300., 4650., 4100., 2500.])"
      ]
     },
     "execution_count": 17,
     "metadata": {},
     "output_type": "execute_result"
    }
   ],
   "source": [
    "# for neymann allocation\n",
    "Ni*Si"
   ]
  },
  {
   "cell_type": "code",
   "execution_count": 18,
   "id": "ce19401a",
   "metadata": {},
   "outputs": [
    {
     "data": {
      "text/plain": [
       "18175.0"
      ]
     },
     "execution_count": 18,
     "metadata": {},
     "output_type": "execute_result"
    }
   ],
   "source": [
    "sum(Ni*Si)"
   ]
  },
  {
   "cell_type": "code",
   "execution_count": 19,
   "id": "be56c3b5",
   "metadata": {},
   "outputs": [
    {
     "data": {
      "text/plain": [
       "array([262500., 430000., 697500., 717500., 500000.])"
      ]
     },
     "execution_count": 19,
     "metadata": {},
     "output_type": "execute_result"
    }
   ],
   "source": [
    "Ni*Si*Ci"
   ]
  },
  {
   "cell_type": "code",
   "execution_count": 20,
   "id": "0b9ab9b8",
   "metadata": {},
   "outputs": [
    {
     "data": {
      "text/plain": [
       "2607500.0"
      ]
     },
     "execution_count": 20,
     "metadata": {},
     "output_type": "execute_result"
    }
   ],
   "source": [
    "sum(Ni*Si*Ci)"
   ]
  },
  {
   "cell_type": "code",
   "execution_count": 21,
   "id": "50151ea4",
   "metadata": {},
   "outputs": [
    {
     "data": {
      "text/plain": [
       "278.8111217641419"
      ]
     },
     "execution_count": 21,
     "metadata": {},
     "output_type": "execute_result"
    }
   ],
   "source": [
    "n = 40000*sum(Ni*Si) / (sum(Ni*Si*Ci))\n",
    "n"
   ]
  },
  {
   "cell_type": "code",
   "execution_count": 22,
   "id": "e2e6db5e",
   "metadata": {},
   "outputs": [
    {
     "data": {
      "text/plain": [
       "array([40.26845638, 65.96356663, 71.33269415, 62.89549377, 38.35091083])"
      ]
     },
     "execution_count": 22,
     "metadata": {},
     "output_type": "execute_result"
    }
   ],
   "source": [
    "ni = n*Ni*Si/sum(Ni*Si) # sample sizes for neymann allocation\n",
    "ni"
   ]
  },
  {
   "cell_type": "code",
   "execution_count": 23,
   "id": "9cfb658a",
   "metadata": {},
   "outputs": [
    {
     "data": {
      "text/plain": [
       "0.4027340277777778"
      ]
     },
     "execution_count": 23,
     "metadata": {},
     "output_type": "execute_result"
    }
   ],
   "source": [
    "var = np.sum([Wi[i]**2*((1/ni[i]) - (1/Ni[i]))*Si[i]**2 for i in range(len(Ni))])\n",
    "var # Variance"
   ]
  },
  {
   "cell_type": "markdown",
   "id": "93712a9e",
   "metadata": {},
   "source": [
    "## Optimal allocation"
   ]
  },
  {
   "cell_type": "code",
   "execution_count": 24,
   "id": "07777a2f",
   "metadata": {},
   "outputs": [
    {
     "data": {
      "text/plain": [
       "array([2625., 4300., 4650., 4100., 2500.])"
      ]
     },
     "execution_count": 24,
     "metadata": {},
     "output_type": "execute_result"
    }
   ],
   "source": [
    "# for optimal allocation\n",
    "Ni*Si"
   ]
  },
  {
   "cell_type": "code",
   "execution_count": 25,
   "id": "a5f56761",
   "metadata": {},
   "outputs": [
    {
     "data": {
      "text/plain": [
       "array([262.5       , 430.        , 379.67091013, 309.93086787,\n",
       "       176.7766953 ])"
      ]
     },
     "execution_count": 25,
     "metadata": {},
     "output_type": "execute_result"
    }
   ],
   "source": [
    "Ni*Si/np.sqrt(Ci)"
   ]
  },
  {
   "cell_type": "code",
   "execution_count": 26,
   "id": "bbb60ac4",
   "metadata": {},
   "outputs": [
    {
     "data": {
      "text/plain": [
       "1558.878473295596"
      ]
     },
     "execution_count": 26,
     "metadata": {},
     "output_type": "execute_result"
    }
   ],
   "source": [
    "sum(Ni*Si/np.sqrt(Ci))"
   ]
  },
  {
   "cell_type": "code",
   "execution_count": 27,
   "id": "93e860f4",
   "metadata": {},
   "outputs": [
    {
     "data": {
      "text/plain": [
       "array([26250.        , 43000.        , 56950.63651971, 54237.90187682,\n",
       "       35355.33905933])"
      ]
     },
     "execution_count": 27,
     "metadata": {},
     "output_type": "execute_result"
    }
   ],
   "source": [
    "Ni*Si*np.sqrt(Ci)"
   ]
  },
  {
   "cell_type": "code",
   "execution_count": 28,
   "id": "fdc0e486",
   "metadata": {},
   "outputs": [
    {
     "data": {
      "text/plain": [
       "215793.87745586038"
      ]
     },
     "execution_count": 28,
     "metadata": {},
     "output_type": "execute_result"
    }
   ],
   "source": [
    "sum(Ni*Si*np.sqrt(Ci))"
   ]
  },
  {
   "cell_type": "code",
   "execution_count": 29,
   "id": "26c7fbc2",
   "metadata": {},
   "outputs": [
    {
     "data": {
      "text/plain": [
       "288.95694199933126"
      ]
     },
     "execution_count": 29,
     "metadata": {},
     "output_type": "execute_result"
    }
   ],
   "source": [
    "n = 40000 * sum(Ni*Si/np.sqrt(Ci)) / sum(Ni*Si*np.sqrt(Ci))\n",
    "n"
   ]
  },
  {
   "cell_type": "code",
   "execution_count": 30,
   "id": "25298fec",
   "metadata": {},
   "outputs": [
    {
     "data": {
      "text/plain": [
       "array([48.6575436 , 79.70569046, 70.37658614, 57.44942749, 32.76769432])"
      ]
     },
     "execution_count": 30,
     "metadata": {},
     "output_type": "execute_result"
    }
   ],
   "source": [
    "ni = ( n * Ni * Si / np.sqrt(Ci) ) / sum(Ni*Si/np.sqrt(Ci)) # sample sizes for optimum allocation\n",
    "ni"
   ]
  },
  {
   "cell_type": "code",
   "execution_count": 31,
   "id": "066ffccb",
   "metadata": {},
   "outputs": [
    {
     "data": {
      "text/plain": [
       "0.3935749727492765"
      ]
     },
     "execution_count": 31,
     "metadata": {},
     "output_type": "execute_result"
    }
   ],
   "source": [
    "var = np.sum([Wi[i]**2*((1/ni[i]) - (1/Ni[i]))*Si[i]**2 for i in range(len(Ni))])\n",
    "var # Variance"
   ]
  },
  {
   "cell_type": "markdown",
   "id": "a450f149",
   "metadata": {},
   "source": [
    "# SAMPLING QUESTION 4"
   ]
  },
  {
   "cell_type": "code",
   "execution_count": 32,
   "id": "cc6b9c56",
   "metadata": {},
   "outputs": [],
   "source": [
    "Ni = [1411, 4705, 2558, 14997]\n",
    "N = sum(Ni)\n",
    "n1 = [43,84,98,0,10,44,0,124,13,0]\n",
    "n2 = [50, 147, 62, 87, 84, 158, 170, 104, 56, 160]\n",
    "n3 = [228, 262, 110, 232, 139, 178, 334, 0, 63, 220]\n",
    "n4 = [17, 34, 25, 34, 36, 0, 25, 7, 15, 31]"
   ]
  },
  {
   "cell_type": "code",
   "execution_count": 33,
   "id": "ae20f359",
   "metadata": {},
   "outputs": [
    {
     "data": {
      "text/plain": [
       "array([ 41.6, 107.8, 176.6,  22.4])"
      ]
     },
     "execution_count": 33,
     "metadata": {},
     "output_type": "execute_result"
    }
   ],
   "source": [
    "ymean = np.array([np.mean(n1), np.mean(n2), np.mean(n3), np.mean(n4)])\n",
    "ymean"
   ]
  },
  {
   "cell_type": "code",
   "execution_count": 34,
   "id": "5350bbb6-e65c-425e-bcdd-2fc3393d55e2",
   "metadata": {},
   "outputs": [
    {
     "data": {
      "text/plain": [
       "array([ 58697.6, 507199. , 451742.8, 335932.8])"
      ]
     },
     "execution_count": 34,
     "metadata": {},
     "output_type": "execute_result"
    }
   ],
   "source": [
    "sub_pop_tot = Ni*ymean\n",
    "sub_pop_tot"
   ]
  },
  {
   "cell_type": "code",
   "execution_count": 35,
   "id": "9d102c1b-6b7a-45b4-91a9-ceaada3423f5",
   "metadata": {},
   "outputs": [
    {
     "data": {
      "text/plain": [
       "array([ 2441820.16      , 54676052.2       , 79777778.47999999,\n",
       "        7524894.72      ])"
      ]
     },
     "execution_count": 35,
     "metadata": {},
     "output_type": "execute_result"
    }
   ],
   "source": [
    "Ni*ymean**2"
   ]
  },
  {
   "cell_type": "code",
   "execution_count": 36,
   "id": "b6765641",
   "metadata": {},
   "outputs": [],
   "source": [
    "ni = np.array([10]*4)"
   ]
  },
  {
   "cell_type": "code",
   "execution_count": 37,
   "id": "934646f2",
   "metadata": {},
   "outputs": [
    {
     "data": {
      "text/plain": [
       "1353572.2"
      ]
     },
     "execution_count": 37,
     "metadata": {},
     "output_type": "execute_result"
    }
   ],
   "source": [
    "pop_tot = sum(sub_pop_tot)\n",
    "pop_tot"
   ]
  },
  {
   "cell_type": "code",
   "execution_count": 38,
   "id": "a8ef5a3b",
   "metadata": {},
   "outputs": [],
   "source": [
    "si = np.array([np.std(i, ddof=1) for i in [n1, n2, n3, n4]])"
   ]
  },
  {
   "cell_type": "code",
   "execution_count": 39,
   "id": "15e044ee",
   "metadata": {},
   "outputs": [
    {
     "data": {
      "text/plain": [
       "228927.89281328587"
      ]
     },
     "execution_count": 39,
     "metadata": {},
     "output_type": "execute_result"
    }
   ],
   "source": [
    "var_st = sum(np.sqrt(Ni*(Ni - ni)*si**2 / ni ))\n",
    "var_st"
   ]
  },
  {
   "cell_type": "code",
   "execution_count": 40,
   "id": "a9c36a7f",
   "metadata": {},
   "outputs": [
    {
     "data": {
      "text/plain": [
       "array([ 41.6, 107.8, 176.6,  22.4])"
      ]
     },
     "execution_count": 40,
     "metadata": {},
     "output_type": "execute_result"
    }
   ],
   "source": [
    "ymean"
   ]
  },
  {
   "cell_type": "code",
   "execution_count": 41,
   "id": "dbb7b2a2",
   "metadata": {},
   "outputs": [
    {
     "data": {
      "text/plain": [
       "-865462268663397.9"
      ]
     },
     "execution_count": 41,
     "metadata": {},
     "output_type": "execute_result"
    }
   ],
   "source": [
    "var_srs = (1/50 - 1/N) * N * (  np.sum(Ni*si**2)- np.sum(Ni*si**2/ni) + np.sum(Ni*ymean**2) - np.sum((Ni*ymean))**2  )\n",
    "var_srs"
   ]
  },
  {
   "cell_type": "code",
   "execution_count": 42,
   "id": "e1c6d518",
   "metadata": {},
   "outputs": [
    {
     "name": "stderr",
     "output_type": "stream",
     "text": [
      "C:\\Users\\dbala\\AppData\\Local\\Temp\\ipykernel_26404\\3944045352.py:1: RuntimeWarning: invalid value encountered in sqrt\n",
      "  sd_srs = np.sqrt(var_srs)\n"
     ]
    }
   ],
   "source": [
    "sd_srs = np.sqrt(var_srs)"
   ]
  },
  {
   "cell_type": "code",
   "execution_count": 43,
   "id": "76a87541",
   "metadata": {},
   "outputs": [
    {
     "data": {
      "text/plain": [
       "nan"
      ]
     },
     "execution_count": 43,
     "metadata": {},
     "output_type": "execute_result"
    }
   ],
   "source": [
    "sd_srs"
   ]
  },
  {
   "cell_type": "code",
   "execution_count": 44,
   "id": "f8734bfc",
   "metadata": {},
   "outputs": [
    {
     "data": {
      "text/plain": [
       "-3780501615.71736"
      ]
     },
     "execution_count": 44,
     "metadata": {},
     "output_type": "execute_result"
    }
   ],
   "source": [
    "var_srs/var_st"
   ]
  },
  {
   "cell_type": "markdown",
   "id": "288c2bb8",
   "metadata": {},
   "source": [
    "# SAMPLING QUESTION 5"
   ]
  },
  {
   "cell_type": "code",
   "execution_count": 45,
   "id": "80827d07",
   "metadata": {},
   "outputs": [],
   "source": [
    "ques5 = pd.read_excel(\"./question 5.xlsx\")"
   ]
  },
  {
   "cell_type": "code",
   "execution_count": 46,
   "id": "6f588e0a",
   "metadata": {},
   "outputs": [
    {
     "data": {
      "text/html": [
       "<div>\n",
       "<style scoped>\n",
       "    .dataframe tbody tr th:only-of-type {\n",
       "        vertical-align: middle;\n",
       "    }\n",
       "\n",
       "    .dataframe tbody tr th {\n",
       "        vertical-align: top;\n",
       "    }\n",
       "\n",
       "    .dataframe thead th {\n",
       "        text-align: right;\n",
       "    }\n",
       "</style>\n",
       "<table border=\"1\" class=\"dataframe\">\n",
       "  <thead>\n",
       "    <tr style=\"text-align: right;\">\n",
       "      <th></th>\n",
       "      <th>01 to 10</th>\n",
       "      <th>11 to 20</th>\n",
       "      <th>21-30</th>\n",
       "      <th>31-40</th>\n",
       "      <th>41-50</th>\n",
       "      <th>51-60</th>\n",
       "      <th>61-70</th>\n",
       "      <th>71-80</th>\n",
       "    </tr>\n",
       "  </thead>\n",
       "  <tbody>\n",
       "    <tr>\n",
       "      <th>0</th>\n",
       "      <td>26</td>\n",
       "      <td>16</td>\n",
       "      <td>27</td>\n",
       "      <td>37</td>\n",
       "      <td>4</td>\n",
       "      <td>36</td>\n",
       "      <td>20</td>\n",
       "      <td>21</td>\n",
       "    </tr>\n",
       "    <tr>\n",
       "      <th>1</th>\n",
       "      <td>28</td>\n",
       "      <td>9</td>\n",
       "      <td>20</td>\n",
       "      <td>14</td>\n",
       "      <td>5</td>\n",
       "      <td>20</td>\n",
       "      <td>21</td>\n",
       "      <td>26</td>\n",
       "    </tr>\n",
       "    <tr>\n",
       "      <th>2</th>\n",
       "      <td>11</td>\n",
       "      <td>22</td>\n",
       "      <td>25</td>\n",
       "      <td>14</td>\n",
       "      <td>11</td>\n",
       "      <td>43</td>\n",
       "      <td>15</td>\n",
       "      <td>16</td>\n",
       "    </tr>\n",
       "    <tr>\n",
       "      <th>3</th>\n",
       "      <td>16</td>\n",
       "      <td>26</td>\n",
       "      <td>39</td>\n",
       "      <td>24</td>\n",
       "      <td>9</td>\n",
       "      <td>27</td>\n",
       "      <td>14</td>\n",
       "      <td>18</td>\n",
       "    </tr>\n",
       "    <tr>\n",
       "      <th>4</th>\n",
       "      <td>7</td>\n",
       "      <td>17</td>\n",
       "      <td>24</td>\n",
       "      <td>18</td>\n",
       "      <td>25</td>\n",
       "      <td>20</td>\n",
       "      <td>13</td>\n",
       "      <td>11</td>\n",
       "    </tr>\n",
       "    <tr>\n",
       "      <th>5</th>\n",
       "      <td>22</td>\n",
       "      <td>39</td>\n",
       "      <td>25</td>\n",
       "      <td>17</td>\n",
       "      <td>16</td>\n",
       "      <td>21</td>\n",
       "      <td>9</td>\n",
       "      <td>19</td>\n",
       "    </tr>\n",
       "    <tr>\n",
       "      <th>6</th>\n",
       "      <td>44</td>\n",
       "      <td>21</td>\n",
       "      <td>18</td>\n",
       "      <td>14</td>\n",
       "      <td>13</td>\n",
       "      <td>18</td>\n",
       "      <td>25</td>\n",
       "      <td>27</td>\n",
       "    </tr>\n",
       "    <tr>\n",
       "      <th>7</th>\n",
       "      <td>26</td>\n",
       "      <td>14</td>\n",
       "      <td>44</td>\n",
       "      <td>38</td>\n",
       "      <td>22</td>\n",
       "      <td>19</td>\n",
       "      <td>17</td>\n",
       "      <td>29</td>\n",
       "    </tr>\n",
       "    <tr>\n",
       "      <th>8</th>\n",
       "      <td>31</td>\n",
       "      <td>40</td>\n",
       "      <td>55</td>\n",
       "      <td>36</td>\n",
       "      <td>18</td>\n",
       "      <td>27</td>\n",
       "      <td>7</td>\n",
       "      <td>31</td>\n",
       "    </tr>\n",
       "    <tr>\n",
       "      <th>9</th>\n",
       "      <td>26</td>\n",
       "      <td>30</td>\n",
       "      <td>39</td>\n",
       "      <td>29</td>\n",
       "      <td>9</td>\n",
       "      <td>30</td>\n",
       "      <td>30</td>\n",
       "      <td>29</td>\n",
       "    </tr>\n",
       "  </tbody>\n",
       "</table>\n",
       "</div>"
      ],
      "text/plain": [
       "   01 to 10  11 to 20  21-30  31-40  41-50  51-60  61-70  71-80\n",
       "0        26        16     27     37      4     36     20     21\n",
       "1        28         9     20     14      5     20     21     26\n",
       "2        11        22     25     14     11     43     15     16\n",
       "3        16        26     39     24      9     27     14     18\n",
       "4         7        17     24     18     25     20     13     11\n",
       "5        22        39     25     17     16     21      9     19\n",
       "6        44        21     18     14     13     18     25     27\n",
       "7        26        14     44     38     22     19     17     29\n",
       "8        31        40     55     36     18     27      7     31\n",
       "9        26        30     39     29      9     30     30     29"
      ]
     },
     "execution_count": 46,
     "metadata": {},
     "output_type": "execute_result"
    }
   ],
   "source": [
    "ques5"
   ]
  },
  {
   "cell_type": "code",
   "execution_count": 47,
   "id": "047fc92f",
   "metadata": {},
   "outputs": [],
   "source": [
    "alldt = list()"
   ]
  },
  {
   "cell_type": "code",
   "execution_count": 48,
   "id": "55279a53",
   "metadata": {},
   "outputs": [
    {
     "data": {
      "text/plain": [
       "26"
      ]
     },
     "execution_count": 48,
     "metadata": {},
     "output_type": "execute_result"
    }
   ],
   "source": [
    "ques5['01 to 10'][9]"
   ]
  },
  {
   "cell_type": "code",
   "execution_count": 49,
   "id": "26e8dd42",
   "metadata": {},
   "outputs": [
    {
     "name": "stdout",
     "output_type": "stream",
     "text": [
      "23.375     0.6374999999999993   0.4064062499999991  \n",
      "17.875     -4.862500000000001   23.643906250000008  \n",
      "19.625     -3.1125000000000007  9.687656250000005   \n",
      "21.625     -1.1125000000000007  1.2376562500000017  \n",
      "16.875     -5.862500000000001   34.36890625000001   \n",
      "21.0       -1.7375000000000007  3.0189062500000023  \n",
      "22.5       -0.2375000000000007  0.05640625000000034 \n",
      "26.125     3.3874999999999993   11.475156249999996  \n",
      "30.625     7.887499999999999    62.21265624999999   \n",
      "27.75      5.012499999999999    25.125156249999993  \n"
     ]
    }
   ],
   "source": [
    "for j in range(10):\n",
    "    alldt = []\n",
    "    for i in ques5.columns:\n",
    "        alldt.append(ques5[i][j])\n",
    "    print(str(np.mean(alldt)).ljust(10), str((np.mean(alldt) - 22.7375)).ljust(20), str((np.mean(alldt) - 22.7375)**2).ljust(20) )"
   ]
  },
  {
   "cell_type": "code",
   "execution_count": 50,
   "id": "2c2b875a",
   "metadata": {},
   "outputs": [
    {
     "data": {
      "text/plain": [
       "22.7375"
      ]
     },
     "execution_count": 50,
     "metadata": {},
     "output_type": "execute_result"
    }
   ],
   "source": [
    "alldt = []\n",
    "for i in ques5.columns:\n",
    "    alldt.extend(ques5[i])\n",
    "Ymean = np.mean(alldt)\n",
    "Ymean"
   ]
  },
  {
   "cell_type": "code",
   "execution_count": 51,
   "id": "c1122fe4",
   "metadata": {},
   "outputs": [],
   "source": [
    "N = 80"
   ]
  },
  {
   "cell_type": "code",
   "execution_count": 52,
   "id": "9467aa56",
   "metadata": {},
   "outputs": [
    {
     "data": {
      "text/plain": [
       "array([26, 30, 39, 29,  9, 30, 30, 29], dtype=int64)"
      ]
     },
     "execution_count": 52,
     "metadata": {},
     "output_type": "execute_result"
    }
   ],
   "source": [
    "sam = np.array(ques5.loc[9])\n",
    "sam"
   ]
  },
  {
   "cell_type": "code",
   "execution_count": 53,
   "id": "f37cd8de",
   "metadata": {},
   "outputs": [
    {
     "data": {
      "text/plain": [
       "27.75"
      ]
     },
     "execution_count": 53,
     "metadata": {},
     "output_type": "execute_result"
    }
   ],
   "source": [
    "samMean = np.mean(sam)\n",
    "samMean"
   ]
  },
  {
   "cell_type": "code",
   "execution_count": 54,
   "id": "830201e0",
   "metadata": {},
   "outputs": [
    {
     "name": "stdout",
     "output_type": "stream",
     "text": [
      "23.375\n",
      "17.875\n",
      "19.625\n",
      "21.625\n",
      "16.875\n",
      "21.0\n",
      "22.5\n",
      "26.125\n",
      "30.625\n",
      "27.75\n"
     ]
    },
    {
     "data": {
      "text/plain": [
       "[23.375, 17.875, 19.625, 21.625, 16.875, 21.0, 22.5, 26.125, 30.625, 27.75]"
      ]
     },
     "execution_count": 54,
     "metadata": {},
     "output_type": "execute_result"
    }
   ],
   "source": [
    "ymean = list()\n",
    "for i in range(10):\n",
    "    print(np.mean(ques5.loc[i]))\n",
    "    ymean.append(np.mean(ques5.loc[i]))\n",
    "ymean"
   ]
  },
  {
   "cell_type": "code",
   "execution_count": 55,
   "id": "d03878fa",
   "metadata": {},
   "outputs": [
    {
     "data": {
      "text/plain": [
       "22.7375"
      ]
     },
     "execution_count": 55,
     "metadata": {},
     "output_type": "execute_result"
    }
   ],
   "source": [
    "ymean = np.array(ymean)\n",
    "Ybar = np.mean(ymean)\n",
    "Ybar"
   ]
  },
  {
   "cell_type": "code",
   "execution_count": 56,
   "id": "b510dfba",
   "metadata": {},
   "outputs": [
    {
     "data": {
      "text/plain": [
       "array([23.375, 17.875, 19.625, 21.625, 16.875, 21.   , 22.5  , 26.125,\n",
       "       30.625, 27.75 ])"
      ]
     },
     "execution_count": 56,
     "metadata": {},
     "output_type": "execute_result"
    }
   ],
   "source": [
    "ymean"
   ]
  },
  {
   "cell_type": "code",
   "execution_count": 57,
   "id": "b454a0d7",
   "metadata": {},
   "outputs": [
    {
     "data": {
      "text/plain": [
       "array([ 0.6375, -4.8625, -3.1125, -1.1125, -5.8625, -1.7375, -0.2375,\n",
       "        3.3875,  7.8875,  5.0125])"
      ]
     },
     "execution_count": 57,
     "metadata": {},
     "output_type": "execute_result"
    }
   ],
   "source": [
    "ymean - Ybar"
   ]
  },
  {
   "cell_type": "code",
   "execution_count": 58,
   "id": "97a90057",
   "metadata": {},
   "outputs": [
    {
     "data": {
      "text/plain": [
       "[0.4064,\n",
       " 23.6439,\n",
       " 9.6877,\n",
       " 1.2377,\n",
       " 34.3689,\n",
       " 3.0189,\n",
       " 0.0564,\n",
       " 11.4752,\n",
       " 62.2127,\n",
       " 25.1252]"
      ]
     },
     "execution_count": 58,
     "metadata": {},
     "output_type": "execute_result"
    }
   ],
   "source": [
    "[round(i, 4) for i in (ymean - Ybar)**2]"
   ]
  },
  {
   "cell_type": "code",
   "execution_count": 59,
   "id": "0d72316b",
   "metadata": {},
   "outputs": [
    {
     "data": {
      "text/html": [
       "<div>\n",
       "<style scoped>\n",
       "    .dataframe tbody tr th:only-of-type {\n",
       "        vertical-align: middle;\n",
       "    }\n",
       "\n",
       "    .dataframe tbody tr th {\n",
       "        vertical-align: top;\n",
       "    }\n",
       "\n",
       "    .dataframe thead th {\n",
       "        text-align: right;\n",
       "    }\n",
       "</style>\n",
       "<table border=\"1\" class=\"dataframe\">\n",
       "  <thead>\n",
       "    <tr style=\"text-align: right;\">\n",
       "      <th></th>\n",
       "      <th>sm mean</th>\n",
       "      <th>sm mean - pop mean</th>\n",
       "      <th>sm mean - pop mean w sq</th>\n",
       "    </tr>\n",
       "  </thead>\n",
       "  <tbody>\n",
       "    <tr>\n",
       "      <th>0</th>\n",
       "      <td>23.375</td>\n",
       "      <td>0.6375</td>\n",
       "      <td>0.4064</td>\n",
       "    </tr>\n",
       "    <tr>\n",
       "      <th>1</th>\n",
       "      <td>17.875</td>\n",
       "      <td>-4.8625</td>\n",
       "      <td>23.6439</td>\n",
       "    </tr>\n",
       "    <tr>\n",
       "      <th>2</th>\n",
       "      <td>19.625</td>\n",
       "      <td>-3.1125</td>\n",
       "      <td>9.6877</td>\n",
       "    </tr>\n",
       "    <tr>\n",
       "      <th>3</th>\n",
       "      <td>21.625</td>\n",
       "      <td>-1.1125</td>\n",
       "      <td>1.2377</td>\n",
       "    </tr>\n",
       "    <tr>\n",
       "      <th>4</th>\n",
       "      <td>16.875</td>\n",
       "      <td>-5.8625</td>\n",
       "      <td>34.3689</td>\n",
       "    </tr>\n",
       "    <tr>\n",
       "      <th>5</th>\n",
       "      <td>21.000</td>\n",
       "      <td>-1.7375</td>\n",
       "      <td>3.0189</td>\n",
       "    </tr>\n",
       "    <tr>\n",
       "      <th>6</th>\n",
       "      <td>22.500</td>\n",
       "      <td>-0.2375</td>\n",
       "      <td>0.0564</td>\n",
       "    </tr>\n",
       "    <tr>\n",
       "      <th>7</th>\n",
       "      <td>26.125</td>\n",
       "      <td>3.3875</td>\n",
       "      <td>11.4752</td>\n",
       "    </tr>\n",
       "    <tr>\n",
       "      <th>8</th>\n",
       "      <td>30.625</td>\n",
       "      <td>7.8875</td>\n",
       "      <td>62.2127</td>\n",
       "    </tr>\n",
       "    <tr>\n",
       "      <th>9</th>\n",
       "      <td>27.750</td>\n",
       "      <td>5.0125</td>\n",
       "      <td>25.1252</td>\n",
       "    </tr>\n",
       "  </tbody>\n",
       "</table>\n",
       "</div>"
      ],
      "text/plain": [
       "   sm mean  sm mean - pop mean  sm mean - pop mean w sq\n",
       "0   23.375              0.6375                   0.4064\n",
       "1   17.875             -4.8625                  23.6439\n",
       "2   19.625             -3.1125                   9.6877\n",
       "3   21.625             -1.1125                   1.2377\n",
       "4   16.875             -5.8625                  34.3689\n",
       "5   21.000             -1.7375                   3.0189\n",
       "6   22.500             -0.2375                   0.0564\n",
       "7   26.125              3.3875                  11.4752\n",
       "8   30.625              7.8875                  62.2127\n",
       "9   27.750              5.0125                  25.1252"
      ]
     },
     "execution_count": 59,
     "metadata": {},
     "output_type": "execute_result"
    }
   ],
   "source": [
    "q5tb1 = pd.DataFrame({\"sm mean\" : ymean,\n",
    "            \"sm mean - pop mean\" : ymean - Ybar,\n",
    "              \"sm mean - pop mean w sq\" : [round(i, 4) for i in (ymean - Ybar)**2]})\n",
    "q5tb1"
   ]
  },
  {
   "cell_type": "code",
   "execution_count": 60,
   "id": "3aaf8d9f",
   "metadata": {},
   "outputs": [
    {
     "data": {
      "text/plain": [
       "2220.0"
      ]
     },
     "execution_count": 60,
     "metadata": {},
     "output_type": "execute_result"
    }
   ],
   "source": [
    "popTotal = N * samMean\n",
    "popTotal"
   ]
  },
  {
   "cell_type": "code",
   "execution_count": 61,
   "id": "baf5abfc",
   "metadata": {},
   "outputs": [
    {
     "data": {
      "text/plain": [
       "109589.12"
      ]
     },
     "execution_count": 61,
     "metadata": {},
     "output_type": "execute_result"
    }
   ],
   "source": [
    "varSys = 80**2 * (np.mean(q5tb1['sm mean - pop mean w sq']))\n",
    "varSys"
   ]
  },
  {
   "cell_type": "code",
   "execution_count": 62,
   "id": "9577d741",
   "metadata": {},
   "outputs": [
    {
     "data": {
      "text/plain": [
       "331.0424746161737"
      ]
     },
     "execution_count": 62,
     "metadata": {},
     "output_type": "execute_result"
    }
   ],
   "source": [
    "seSys = np.sqrt(varSys)\n",
    "seSys"
   ]
  },
  {
   "cell_type": "code",
   "execution_count": 63,
   "id": "5a743104",
   "metadata": {},
   "outputs": [
    {
     "data": {
      "text/plain": [
       "104.42389240506333"
      ]
     },
     "execution_count": 63,
     "metadata": {},
     "output_type": "execute_result"
    }
   ],
   "source": [
    "S2 = (1/79)* (np.sum([i**2 for i in alldt]) - np.sum(alldt)**2/80)\n",
    "S2"
   ]
  },
  {
   "cell_type": "code",
   "execution_count": 64,
   "id": "78214577",
   "metadata": {},
   "outputs": [
    {
     "data": {
      "text/plain": [
       "75185.2025316456"
      ]
     },
     "execution_count": 64,
     "metadata": {},
     "output_type": "execute_result"
    }
   ],
   "source": [
    "varSRS = 80**2 * (1/8 - 1/80)*S2\n",
    "varSRS"
   ]
  },
  {
   "cell_type": "code",
   "execution_count": 65,
   "id": "47f7334a",
   "metadata": {},
   "outputs": [
    {
     "data": {
      "text/plain": [
       "68.60644791348412"
      ]
     },
     "execution_count": 65,
     "metadata": {},
     "output_type": "execute_result"
    }
   ],
   "source": [
    "re = varSRS/varSys*100\n",
    "re"
   ]
  },
  {
   "cell_type": "code",
   "execution_count": 66,
   "id": "0bbda86a",
   "metadata": {},
   "outputs": [
    {
     "name": "stdout",
     "output_type": "stream",
     "text": [
      "115.98214285714286\n",
      "63.839285714285715\n",
      "113.69642857142857\n",
      "88.26785714285714\n",
      "39.267857142857146\n",
      "75.71428571428571\n",
      "99.14285714285714\n",
      "109.55357142857143\n",
      "205.98214285714286\n",
      "71.35714285714286\n"
     ]
    }
   ],
   "source": [
    "sjlst = list()\n",
    "for i in range(10):\n",
    "    sjlst.append(np.var(ques5.loc[i], ddof=1))\n",
    "    print(np.var(ques5.loc[i], ddof=1))"
   ]
  },
  {
   "cell_type": "code",
   "execution_count": 67,
   "id": "fa6bbb1e",
   "metadata": {},
   "outputs": [
    {
     "data": {
      "text/plain": [
       "[115.98214285714286,\n",
       " 63.839285714285715,\n",
       " 113.69642857142857,\n",
       " 88.26785714285714,\n",
       " 39.267857142857146,\n",
       " 75.71428571428571,\n",
       " 99.14285714285714,\n",
       " 109.55357142857143,\n",
       " 205.98214285714286,\n",
       " 71.35714285714286]"
      ]
     },
     "execution_count": 67,
     "metadata": {},
     "output_type": "execute_result"
    }
   ],
   "source": [
    "sjlst"
   ]
  },
  {
   "cell_type": "code",
   "execution_count": 68,
   "id": "8b098ec6",
   "metadata": {},
   "outputs": [
    {
     "data": {
      "text/plain": [
       "982.8035714285716"
      ]
     },
     "execution_count": 68,
     "metadata": {},
     "output_type": "execute_result"
    }
   ],
   "source": [
    "s2swt = np.sum(sjlst)\n",
    "s2swt"
   ]
  },
  {
   "cell_type": "code",
   "execution_count": 69,
   "id": "389f0a30",
   "metadata": {},
   "outputs": [],
   "source": [
    "k = 8"
   ]
  },
  {
   "cell_type": "code",
   "execution_count": 70,
   "id": "301b46e8",
   "metadata": {},
   "outputs": [
    {
     "data": {
      "text/plain": [
       "550370.0000000001"
      ]
     },
     "execution_count": 70,
     "metadata": {},
     "output_type": "execute_result"
    }
   ],
   "source": [
    "N**2 * (k - 1) * s2swt/(80)"
   ]
  },
  {
   "cell_type": "code",
   "execution_count": 71,
   "id": "a4949a95",
   "metadata": {},
   "outputs": [
    {
     "name": "stdout",
     "output_type": "stream",
     "text": [
      "115.98214285714286\n",
      "63.839285714285715\n",
      "113.69642857142857\n",
      "88.26785714285714\n",
      "39.267857142857146\n",
      "75.71428571428571\n",
      "99.14285714285714\n",
      "109.55357142857143\n",
      "205.98214285714286\n",
      "71.35714285714286\n"
     ]
    }
   ],
   "source": [
    "sj = list()\n",
    "for i in range(10):\n",
    "    sj.append(np.var(ques5.loc[i], ddof=1))\n",
    "    print(sj[i])"
   ]
  },
  {
   "cell_type": "code",
   "execution_count": 72,
   "id": "3b647c50",
   "metadata": {},
   "outputs": [],
   "source": [
    "sj = list()\n",
    "for i in ques5.columns:\n",
    "    sj.append(np.var(ques5[i], ddof=1))"
   ]
  },
  {
   "cell_type": "code",
   "execution_count": 73,
   "id": "878747b7",
   "metadata": {},
   "outputs": [
    {
     "name": "stdout",
     "output_type": "stream",
     "text": [
      "1002.1\n",
      "968.4000000000001\n",
      "1296.4\n",
      "918.9000000000001\n",
      "439.6\n",
      "616.9000000000001\n",
      "450.90000000000003\n",
      "398.09999999999997\n"
     ]
    }
   ],
   "source": [
    "for i in sj:\n",
    "    print(i*9)"
   ]
  },
  {
   "cell_type": "code",
   "execution_count": 74,
   "id": "43dce724",
   "metadata": {},
   "outputs": [
    {
     "name": "stdout",
     "output_type": "stream",
     "text": [
      "111.34444444444445\n",
      "107.60000000000001\n",
      "144.04444444444445\n",
      "102.10000000000001\n",
      "48.84444444444445\n",
      "68.54444444444445\n",
      "50.1\n",
      "44.23333333333333\n"
     ]
    }
   ],
   "source": [
    "for i in sj:\n",
    "    print(i)"
   ]
  },
  {
   "cell_type": "code",
   "execution_count": 75,
   "id": "4e484543",
   "metadata": {},
   "outputs": [
    {
     "data": {
      "text/plain": [
       "84.60138888888889"
      ]
     },
     "execution_count": 75,
     "metadata": {},
     "output_type": "execute_result"
    }
   ],
   "source": [
    "np.sum(sj)/8"
   ]
  },
  {
   "cell_type": "code",
   "execution_count": 76,
   "id": "ca33afc8",
   "metadata": {},
   "outputs": [
    {
     "data": {
      "text/plain": [
       "60912.99936"
      ]
     },
     "execution_count": 76,
     "metadata": {},
     "output_type": "execute_result"
    }
   ],
   "source": [
    "80*9*84.601388\n"
   ]
  },
  {
   "cell_type": "code",
   "execution_count": 77,
   "id": "fb0b1284",
   "metadata": {},
   "outputs": [
    {
     "data": {
      "text/plain": [
       "55.583142903602166"
      ]
     },
     "execution_count": 77,
     "metadata": {},
     "output_type": "execute_result"
    }
   ],
   "source": [
    "100*60912.99936/109588.98"
   ]
  },
  {
   "cell_type": "code",
   "execution_count": null,
   "id": "8bb86ffb",
   "metadata": {},
   "outputs": [],
   "source": []
  }
 ],
 "metadata": {
  "kernelspec": {
   "display_name": "Python 3 (ipykernel)",
   "language": "python",
   "name": "python3"
  },
  "language_info": {
   "codemirror_mode": {
    "name": "ipython",
    "version": 3
   },
   "file_extension": ".py",
   "mimetype": "text/x-python",
   "name": "python",
   "nbconvert_exporter": "python",
   "pygments_lexer": "ipython3",
   "version": "3.11.3"
  },
  "toc": {
   "base_numbering": 1,
   "nav_menu": {},
   "number_sections": true,
   "sideBar": true,
   "skip_h1_title": false,
   "title_cell": "Table of Contents",
   "title_sidebar": "Contents",
   "toc_cell": true,
   "toc_position": {
    "height": "calc(100% - 180px)",
    "left": "10px",
    "top": "150px",
    "width": "384px"
   },
   "toc_section_display": true,
   "toc_window_display": true
  }
 },
 "nbformat": 4,
 "nbformat_minor": 5
}
