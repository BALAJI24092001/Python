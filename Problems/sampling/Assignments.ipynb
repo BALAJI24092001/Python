{
 "cells": [
  {
   "cell_type": "code",
   "execution_count": 1,
   "id": "3bc2a1b0",
   "metadata": {},
   "outputs": [],
   "source": [
    "import numpy as np\n",
    "import pandas as pd\n",
    "import random"
   ]
  },
  {
   "cell_type": "code",
   "execution_count": 2,
   "id": "e17e1b21",
   "metadata": {},
   "outputs": [],
   "source": [
    "data = pd.read_csv(\"Mall_Customers.csv\")['Annual_Income_(k$)']"
   ]
  },
  {
   "cell_type": "code",
   "execution_count": 3,
   "id": "7c22558f",
   "metadata": {},
   "outputs": [
    {
     "data": {
      "text/plain": [
       "count    200.000000\n",
       "mean      60.560000\n",
       "std       26.264721\n",
       "min       15.000000\n",
       "25%       41.500000\n",
       "50%       61.500000\n",
       "75%       78.000000\n",
       "max      137.000000\n",
       "Name: Annual_Income_(k$), dtype: float64"
      ]
     },
     "execution_count": 3,
     "metadata": {},
     "output_type": "execute_result"
    }
   ],
   "source": [
    "data.describe()"
   ]
  },
  {
   "cell_type": "code",
   "execution_count": 4,
   "id": "8e5a6980",
   "metadata": {},
   "outputs": [
    {
     "name": "stdout",
     "output_type": "stream",
     "text": [
      "48,40,64,25,103,78,126,93,28,78,63,67,61,59,16,48,19,54,33,29,23,93,71,54,63,103,25,15,77,87,97,40,97,17,78,74,60,88,78,62,"
     ]
    }
   ],
   "source": [
    "lst = list(random.sample(list(data), k = 40))\n",
    "for i in lst:\n",
    "    print(i, end= \",\")\n",
    "# random.sample() is a function, which used simple random sampling without replacement method."
   ]
  },
  {
   "cell_type": "code",
   "execution_count": 5,
   "id": "6690e7f8",
   "metadata": {},
   "outputs": [
    {
     "data": {
      "text/plain": [
       "60.85"
      ]
     },
     "execution_count": 5,
     "metadata": {},
     "output_type": "execute_result"
    }
   ],
   "source": [
    "sample_mean = np.mean(lst)\n",
    "sample_mean"
   ]
  },
  {
   "cell_type": "code",
   "execution_count": 6,
   "id": "9f09089e",
   "metadata": {},
   "outputs": [
    {
     "data": {
      "text/plain": [
       "28.478106750670136"
      ]
     },
     "execution_count": 6,
     "metadata": {},
     "output_type": "execute_result"
    }
   ],
   "source": [
    "sample_std = np.std(lst, ddof = 1)\n",
    "sample_std"
   ]
  },
  {
   "cell_type": "code",
   "execution_count": 7,
   "id": "e29b9aaf",
   "metadata": {},
   "outputs": [
    {
     "data": {
      "text/plain": [
       "4.502784039076724"
      ]
     },
     "execution_count": 7,
     "metadata": {},
     "output_type": "execute_result"
    }
   ],
   "source": [
    "sample_std/np.sqrt(40)"
   ]
  },
  {
   "cell_type": "code",
   "execution_count": 8,
   "id": "9ec240d1",
   "metadata": {},
   "outputs": [
    {
     "data": {
      "text/plain": [
       "12840.0"
      ]
     },
     "execution_count": 8,
     "metadata": {},
     "output_type": "execute_result"
    }
   ],
   "source": [
    "200*64.2"
   ]
  },
  {
   "cell_type": "code",
   "execution_count": 9,
   "id": "2cb90d7c",
   "metadata": {},
   "outputs": [
    {
     "data": {
      "text/plain": [
       "834.5896485531078"
      ]
     },
     "execution_count": 9,
     "metadata": {},
     "output_type": "execute_result"
    }
   ],
   "source": [
    "np.sqrt(160/8000)*29.5072*200"
   ]
  },
  {
   "cell_type": "code",
   "execution_count": 10,
   "id": "8a347f4d",
   "metadata": {},
   "outputs": [
    {
     "data": {
      "text/plain": [
       "11133.264168708894"
      ]
     },
     "execution_count": 10,
     "metadata": {},
     "output_type": "execute_result"
    }
   ],
   "source": [
    "12840.0 - 2.045 * 834.5896485531078"
   ]
  },
  {
   "cell_type": "code",
   "execution_count": null,
   "id": "3f8cdd7d",
   "metadata": {},
   "outputs": [],
   "source": []
  },
  {
   "cell_type": "code",
   "execution_count": null,
   "id": "733c2eb3",
   "metadata": {},
   "outputs": [],
   "source": []
  },
  {
   "cell_type": "code",
   "execution_count": null,
   "id": "4468451c",
   "metadata": {},
   "outputs": [],
   "source": []
  },
  {
   "cell_type": "code",
   "execution_count": 11,
   "id": "abbfcacc",
   "metadata": {},
   "outputs": [
    {
     "data": {
      "text/plain": [
       "array([144., 134., 153., 144., 162., 158., 121., 171., 182., 149., 185.,\n",
       "       168., 156., 168., 124., 129., 168., 161., 146., 161., 158., 124.,\n",
       "       153., 159., 141., 160., 147., 148., 153., 155.])"
      ]
     },
     "execution_count": 11,
     "metadata": {},
     "output_type": "execute_result"
    }
   ],
   "source": [
    "Kerala = np.round(np.random.normal(loc=150, scale=15,size=30))\n",
    "Kerala"
   ]
  },
  {
   "cell_type": "code",
   "execution_count": 12,
   "id": "644f247f",
   "metadata": {},
   "outputs": [
    {
     "data": {
      "text/plain": [
       "array([146., 142., 142., 103., 157., 138., 124., 144., 130., 155., 142.,\n",
       "        88., 117., 125., 129., 137.,  99., 126., 124., 123., 128., 168.,\n",
       "       109., 128., 137.])"
      ]
     },
     "execution_count": 12,
     "metadata": {},
     "output_type": "execute_result"
    }
   ],
   "source": [
    "AndhraPradesh = np.round(np.random.normal(loc=120, scale=20, size=25))\n",
    "AndhraPradesh"
   ]
  },
  {
   "cell_type": "code",
   "execution_count": 13,
   "id": "bc281b67",
   "metadata": {},
   "outputs": [
    {
     "data": {
      "text/plain": [
       "array([121., 142., 149., 137.,  89., 151., 140., 172., 137., 115., 151.,\n",
       "       120.,  99., 130., 131., 127., 126., 152., 141.,  85., 123., 134.,\n",
       "       154., 116., 116.])"
      ]
     },
     "execution_count": 13,
     "metadata": {},
     "output_type": "execute_result"
    }
   ],
   "source": [
    "TamilNadu = np.round(np.random.normal(loc=130, scale=18, size=25))\n",
    "TamilNadu"
   ]
  },
  {
   "cell_type": "code",
   "execution_count": 14,
   "id": "c41da30a",
   "metadata": {},
   "outputs": [
    {
     "data": {
      "text/plain": [
       "array([144., 151., 140., 137., 174., 134., 152., 148., 147., 166.])"
      ]
     },
     "execution_count": 14,
     "metadata": {},
     "output_type": "execute_result"
    }
   ],
   "source": [
    "WestBengal = np.round(np.random.normal(loc=150, scale=10, size=10))\n",
    "WestBengal"
   ]
  },
  {
   "cell_type": "code",
   "execution_count": 15,
   "id": "c5986aa6",
   "metadata": {},
   "outputs": [
    {
     "data": {
      "text/plain": [
       "array([124., 133., 119., 128., 124., 120., 122., 137., 143., 138.])"
      ]
     },
     "execution_count": 15,
     "metadata": {},
     "output_type": "execute_result"
    }
   ],
   "source": [
    "Others = np.round(np.random.normal(loc=130, scale=8, size=10))\n",
    "Others"
   ]
  },
  {
   "cell_type": "code",
   "execution_count": 18,
   "id": "ff026677",
   "metadata": {},
   "outputs": [
    {
     "data": {
      "text/plain": [
       "(152.73333333333332, 15.592590833113299)"
      ]
     },
     "execution_count": 18,
     "metadata": {},
     "output_type": "execute_result"
    }
   ],
   "source": [
    "Kerala.mean(), Kerala.std()"
   ]
  },
  {
   "cell_type": "code",
   "execution_count": 19,
   "id": "baedcbb3",
   "metadata": {},
   "outputs": [
    {
     "data": {
      "text/plain": [
       "(130.44, 17.97126595429493)"
      ]
     },
     "execution_count": 19,
     "metadata": {},
     "output_type": "execute_result"
    }
   ],
   "source": [
    "AndhraPradesh.mean(), AndhraPradesh.std()"
   ]
  },
  {
   "cell_type": "code",
   "execution_count": 20,
   "id": "f5e57038",
   "metadata": {},
   "outputs": [
    {
     "data": {
      "text/plain": [
       "(130.32, 20.083266666556014)"
      ]
     },
     "execution_count": 20,
     "metadata": {},
     "output_type": "execute_result"
    }
   ],
   "source": [
    "TamilNadu.mean(), TamilNadu.std()"
   ]
  },
  {
   "cell_type": "code",
   "execution_count": 21,
   "id": "fac854b1",
   "metadata": {},
   "outputs": [
    {
     "data": {
      "text/plain": [
       "(149.3, 11.857908753233009)"
      ]
     },
     "execution_count": 21,
     "metadata": {},
     "output_type": "execute_result"
    }
   ],
   "source": [
    "WestBengal.mean(), WestBengal.std()"
   ]
  },
  {
   "cell_type": "code",
   "execution_count": 22,
   "id": "0d82f492",
   "metadata": {},
   "outputs": [
    {
     "data": {
      "text/plain": [
       "(128.8, 7.984985911070851)"
      ]
     },
     "execution_count": 22,
     "metadata": {},
     "output_type": "execute_result"
    }
   ],
   "source": [
    "Others.mean(), Others.std()"
   ]
  },
  {
   "cell_type": "code",
   "execution_count": null,
   "id": "3f0d196b",
   "metadata": {},
   "outputs": [],
   "source": []
  },
  {
   "cell_type": "code",
   "execution_count": null,
   "id": "5bf86766",
   "metadata": {},
   "outputs": [],
   "source": []
  },
  {
   "cell_type": "code",
   "execution_count": null,
   "id": "eea8ab2f",
   "metadata": {},
   "outputs": [],
   "source": []
  },
  {
   "cell_type": "code",
   "execution_count": 24,
   "id": "74bf85cb",
   "metadata": {},
   "outputs": [
    {
     "data": {
      "text/plain": [
       "141.26182702"
      ]
     },
     "execution_count": 24,
     "metadata": {},
     "output_type": "execute_result"
    }
   ],
   "source": [
    "138.31906 + 1.9842*1.4831"
   ]
  },
  {
   "cell_type": "code",
   "execution_count": 26,
   "id": "6fe16b11",
   "metadata": {},
   "outputs": [
    {
     "data": {
      "text/plain": [
       "70881.38351"
      ]
     },
     "execution_count": 26,
     "metadata": {},
     "output_type": "execute_result"
    }
   ],
   "source": [
    "69410 + 1.9842*741.55"
   ]
  }
 ],
 "metadata": {
  "kernelspec": {
   "display_name": "Python 3 (ipykernel)",
   "language": "python",
   "name": "python3"
  },
  "language_info": {
   "codemirror_mode": {
    "name": "ipython",
    "version": 3
   },
   "file_extension": ".py",
   "mimetype": "text/x-python",
   "name": "python",
   "nbconvert_exporter": "python",
   "pygments_lexer": "ipython3",
   "version": "3.11.3"
  }
 },
 "nbformat": 4,
 "nbformat_minor": 5
}
